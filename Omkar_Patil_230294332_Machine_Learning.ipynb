{
  "nbformat": 4,
  "nbformat_minor": 0,
  "metadata": {
    "colab": {
      "provenance": []
    },
    "kernelspec": {
      "name": "python3",
      "display_name": "Python 3"
    },
    "language_info": {
      "name": "python"
    }
  },
  "cells": [
    {
      "cell_type": "markdown",
      "source": [
        "\n",
        "\n",
        "```\n",
        "# This is formatted as code\n",
        "```\n",
        "\n",
        "## Omkar Mahesh Patil\n",
        "## The project I attempted was: (1) Tabular"
      ],
      "metadata": {
        "id": "eZrEVcd6cqTs"
      }
    },
    {
      "cell_type": "markdown",
      "source": [
        "# CSC8111 Coursework Specification\n",
        "\n",
        "For this coursework you will perform **THREE** short questions which cover the breadth of the machine learning module along with attempting **ONE** of the four longer project-style questions. All of the short tasks and longer project-style questions can be found in this notebook. You should provide all of your answers in this notebook and submit it to Canvas before the submission deadline.\n",
        "\n",
        "The learning objectives of these short questions are:\n",
        "- To demonstrate a wide-range of machine learning skills.\n",
        "- To be able to apply the most appropriate approach at the right time."
      ],
      "metadata": {
        "id": "bbN5C3u52T3T"
      }
    },
    {
      "cell_type": "markdown",
      "source": [
        "Load the data"
      ],
      "metadata": {
        "id": "QdKk2KwXOYlb"
      }
    },
    {
      "cell_type": "code",
      "source": [
        "import numpy as np\n",
        "from numpy import loadtxt\n",
        "X = loadtxt('cls_X.csv', delimiter=',')\n",
        "y = loadtxt('cls_y.csv', delimiter=',')"
      ],
      "metadata": {
        "id": "OEAqb9g7Nild"
      },
      "execution_count": 72,
      "outputs": []
    },
    {
      "cell_type": "markdown",
      "source": [
        "Q1.1 Split the data into training and test sets (20% for testing)"
      ],
      "metadata": {
        "id": "Tfd14b9DOMqe"
      }
    },
    {
      "cell_type": "code",
      "source": [
        "\n",
        "from sklearn.model_selection import train_test_split\n",
        "\n",
        "\n",
        "X_train, X_test, y_train, y_test = train_test_split(X, y, test_size=0.2, random_state=42)\n"
      ],
      "metadata": {
        "id": "yHseGWGTNisS"
      },
      "execution_count": 75,
      "outputs": []
    },
    {
      "cell_type": "markdown",
      "source": [
        "Q1.2 Create your first classifier"
      ],
      "metadata": {
        "id": "5b59a0eROf2V"
      }
    },
    {
      "cell_type": "code",
      "source": [
        "\n",
        "classifier = RandomForestClassifier(random_state=2)\n",
        "classifier.fit(X_train, y_train)\n",
        "\n",
        "y_pred = classifier.predict(X_test)\n",
        "accuracy = accuracy_score(y_test, y_pred)\n",
        "print(f'Test Accuracy: {accuracy:.4f}')"
      ],
      "metadata": {
        "colab": {
          "base_uri": "https://localhost:8080/"
        },
        "id": "fsaWo-WYNius",
        "outputId": "8cc97091-3097-4a9a-8d5c-ca15df19eb22"
      },
      "execution_count": 76,
      "outputs": [
        {
          "output_type": "stream",
          "name": "stdout",
          "text": [
            "Test Accuracy: 0.8375\n"
          ]
        }
      ]
    },
    {
      "cell_type": "markdown",
      "source": [
        "Q1.2.2 Then, optimise the hyperparameter(s) using the same machine learning method as above. Report the best hyperparameter(s) and, use it to make your first classifier and print out its test accuracy"
      ],
      "metadata": {
        "id": "W6xA_vG3Ojb3"
      }
    },
    {
      "cell_type": "code",
      "source": [
        "from sklearn.tree import DecisionTreeClassifier\n",
        "from sklearn.datasets import make_classification\n",
        "from sklearn.model_selection import train_test_split, GridSearchCV\n",
        "from sklearn.metrics import accuracy_score, classification_report\n",
        "\n",
        "decision_tree = DecisionTreeClassifier(random_state=42)\n",
        "\n",
        "param_grid = {\n",
        "    'max_depth': [None, 5, 10, 15],\n",
        "    'min_samples_split': [2, 5, 10],\n",
        "    'min_samples_leaf': [1, 2, 4]\n",
        "}\n",
        "\n",
        "grid_search = GridSearchCV(estimator=decision_tree, param_grid=param_grid, cv=5)\n",
        "grid_search.fit(X_train, y_train)\n",
        "\n",
        "best_params = grid_search.best_params_\n",
        "best_score = grid_search.best_score_\n",
        "\n",
        "print(\"Best Parameters:\", best_params)\n",
        "print(\"Best Score:\", best_score)\n",
        "\n",
        "best_decision_tree = DecisionTreeClassifier(**best_params, random_state=42)\n",
        "best_decision_tree.fit(X_train, y_train)\n",
        "\n",
        "\n",
        "y_pred = best_decision_tree.predict(X_test)\n",
        "\n",
        "\n",
        "accuracy = accuracy_score(y_test, y_pred)\n",
        "print(\"Accuracy:\", accuracy)\n",
        "\n",
        "print(\"Classification Report:\")\n",
        "print(classification_report(y_test, y_pred))\n"
      ],
      "metadata": {
        "colab": {
          "base_uri": "https://localhost:8080/"
        },
        "id": "qYSji8JtNiw1",
        "outputId": "8d8ffe97-db47-4039-9038-e605374d2bb5"
      },
      "execution_count": 77,
      "outputs": [
        {
          "output_type": "stream",
          "name": "stdout",
          "text": [
            "Best Parameters: {'max_depth': None, 'min_samples_leaf': 2, 'min_samples_split': 2}\n",
            "Best Score: 0.809375\n",
            "Accuracy: 0.8125\n",
            "Classification Report:\n",
            "              precision    recall  f1-score   support\n",
            "\n",
            "         0.0       0.78      0.81      0.79        36\n",
            "         1.0       0.84      0.82      0.83        44\n",
            "\n",
            "    accuracy                           0.81        80\n",
            "   macro avg       0.81      0.81      0.81        80\n",
            "weighted avg       0.81      0.81      0.81        80\n",
            "\n"
          ]
        }
      ]
    },
    {
      "cell_type": "markdown",
      "source": [
        "Q1.3 Create your second classifier"
      ],
      "metadata": {
        "id": "dvc4BiDxOnsM"
      }
    },
    {
      "cell_type": "markdown",
      "source": [
        "Q1.3.1 First, without optimising the hyperparameter(s), make an attempt by using a different machine learning method to the first classifier. Report the model accuracy over the test set (i.e. test accuracy)."
      ],
      "metadata": {
        "id": "yhr0zyNkOrdR"
      }
    },
    {
      "cell_type": "code",
      "source": [
        "\n",
        "from sklearn.ensemble import RandomForestClassifier\n",
        "\n",
        "\n",
        "random_forest = RandomForestClassifier()\n",
        "\n",
        "\n",
        "random_forest.fit(X_train, y_train)\n",
        "\n",
        "\n",
        "predictions = random_forest.predict(X_test)\n",
        "\n",
        "\n",
        "from sklearn.metrics import accuracy_score\n",
        "\n",
        "accuracy = accuracy_score(y_test, predictions)\n",
        "print(f\"Accuracy of the Random Forest classifier: {accuracy:.2f}\")\n"
      ],
      "metadata": {
        "colab": {
          "base_uri": "https://localhost:8080/"
        },
        "id": "oZbVDgirNizM",
        "outputId": "1a58f5a0-f722-402c-f4b1-9d1643a45e8d"
      },
      "execution_count": 78,
      "outputs": [
        {
          "output_type": "stream",
          "name": "stdout",
          "text": [
            "Accuracy of the Random Forest classifier: 0.82\n"
          ]
        }
      ]
    },
    {
      "cell_type": "markdown",
      "source": [
        "Q1.3.2 Then, optimise the hyperparameter(s) using the same machine learning method as above. Report the best hyperparameter(s) and, use it to make your second classifier and print out its test accuracy."
      ],
      "metadata": {
        "id": "aqZjfMaKOtGz"
      }
    },
    {
      "cell_type": "code",
      "source": [
        "\n",
        "from sklearn.ensemble import RandomForestClassifier\n",
        "\n",
        "\n",
        "random_forest = RandomForestClassifier()\n",
        "\n",
        "\n",
        "random_forest.fit(X_train, y_train)\n",
        "\n",
        "\n",
        "predictions = random_forest.predict(X_test)\n",
        "\n",
        "\n",
        "from sklearn.metrics import accuracy_score\n",
        "\n",
        "accuracy = accuracy_score(y_test, predictions)\n",
        "print(f\"Accuracy of the Random Forest classifier: {accuracy:.2f}\")"
      ],
      "metadata": {
        "colab": {
          "base_uri": "https://localhost:8080/"
        },
        "id": "Lh690CN4Ni1a",
        "outputId": "6b988db3-144e-4404-eb7d-da7db5876556"
      },
      "execution_count": 79,
      "outputs": [
        {
          "output_type": "stream",
          "name": "stdout",
          "text": [
            "Best hyperparameters: {'max_depth': None, 'min_samples_leaf': 1, 'min_samples_split': 2, 'n_estimators': 300}\n",
            "Accuracy of the tuned Random Forest classifier: 0.85\n"
          ]
        }
      ]
    },
    {
      "cell_type": "markdown",
      "source": [
        "Q1.4 Report the precision, recall, f1 score and confusion matrix on the best of the two classifiers"
      ],
      "metadata": {
        "id": "e4wDk4l_O_Q_"
      }
    },
    {
      "cell_type": "code",
      "source": [
        "# write your code below to replace the ellipsis \"...\"\n",
        "from sklearn.metrics import precision_score, recall_score, f1_score, confusion_matrix\n",
        "\n",
        "\n",
        "precision = precision_score(y_test, best_predictions1)\n",
        "recall = recall_score(y_test, best_predictions1)\n",
        "f1 = f1_score(y_test, best_predictions1)\n",
        "\n",
        "print(f\"Precision: {precision:.2f}\")\n",
        "print(f\"Recall: {recall:.2f}\")\n",
        "print(f\"F1-score: {f1:.2f}\")\n",
        "\n",
        "\n",
        "conf_matrix = confusion_matrix(y_test, best_predictions1)\n",
        "print(\"Confusion Matrix:\")\n",
        "print(conf_matrix)\n"
      ],
      "metadata": {
        "colab": {
          "base_uri": "https://localhost:8080/"
        },
        "id": "YCCf_xwlNi3v",
        "outputId": "92cd0f08-998f-4290-8824-b76703fc2dfe"
      },
      "execution_count": 80,
      "outputs": [
        {
          "output_type": "stream",
          "name": "stdout",
          "text": [
            "Precision: 0.82\n",
            "Recall: 0.93\n",
            "F1-score: 0.87\n",
            "Confusion Matrix:\n",
            "[[27  9]\n",
            " [ 3 41]]\n"
          ]
        }
      ]
    },
    {
      "cell_type": "markdown",
      "source": [
        "---\n",
        "## Question 2: Regression (10 marks)\n",
        "\n",
        "In this question you are given a simple dataset which you will perform regression on to predict values. You will build TWO Regression models and then take the best one and perform hyperparameter tuning on it.\n",
        "\n",
        "## Set up the environment"
      ],
      "metadata": {
        "id": "9gckRSHj3PdP"
      }
    },
    {
      "cell_type": "markdown",
      "source": [
        "Split data into training and testing data"
      ],
      "metadata": {
        "id": "_rXw674YtPdo"
      }
    },
    {
      "cell_type": "code",
      "source": [
        "import numpy as np\n",
        "from sklearn.model_selection import train_test_split"
      ],
      "metadata": {
        "id": "W-vFlRnBa2NP"
      },
      "execution_count": null,
      "outputs": []
    },
    {
      "cell_type": "markdown",
      "source": [
        "## Read in the data\n",
        "\n",
        "You'll need to download the data.csv file from https://ncl.instructure.com/courses/53509/files/7657710?wrap=1 and upload it to your Google Drive. I placed it in a folder called data. Then you need to mount your Google Drive in Colab (cell below)."
      ],
      "metadata": {
        "id": "end1ynOha5cg"
      }
    },
    {
      "cell_type": "code",
      "execution_count": null,
      "metadata": {
        "id": "cG7eucEW2RM9",
        "colab": {
          "base_uri": "https://localhost:8080/"
        },
        "outputId": "069656db-fd99-4757-a870-5762f1e1087f"
      },
      "outputs": [
        {
          "output_type": "stream",
          "name": "stdout",
          "text": [
            "Mounted at /content/drive\n"
          ]
        }
      ],
      "source": [
        "from google.colab import drive\n",
        "drive.mount('/content/drive')"
      ]
    },
    {
      "cell_type": "markdown",
      "source": [
        "Then read in the data"
      ],
      "metadata": {
        "id": "WwYiqGNp9X_P"
      }
    },
    {
      "cell_type": "code",
      "source": [
        "data = np.loadtxt('/content/drive/MyDrive/Data/data.csv', delimiter=',')\n",
        "print(data)"
      ],
      "metadata": {
        "id": "pQRk-XkFa7ke",
        "colab": {
          "base_uri": "https://localhost:8080/"
        },
        "outputId": "25d41bcb-db25-453d-a63a-c4365f7343bf"
      },
      "execution_count": null,
      "outputs": [
        {
          "output_type": "stream",
          "name": "stdout",
          "text": [
            "[[1.00000000e+00 9.00000000e+00 2.57259990e+00 2.49788633e+02]\n",
            " [1.00000000e+00 5.00000000e+00 9.21413366e+00 5.04502032e+02]\n",
            " [1.00000000e+00 1.70000000e+01 7.12330090e+00 1.33580225e+03]\n",
            " ...\n",
            " [5.00000000e+00 3.10000000e+01 6.80121067e+00 3.15979690e+03]\n",
            " [5.00000000e+00 1.00000000e+01 4.14995662e+00 6.21315789e+02]\n",
            " [5.00000000e+00 9.00000000e+00 9.61878173e+00 1.30105857e+03]]\n"
          ]
        }
      ]
    },
    {
      "cell_type": "markdown",
      "source": [
        "## Q2.1 Split the data into X and y\n",
        "\n",
        "X is the first three columns\n",
        "\n",
        "y is the last column"
      ],
      "metadata": {
        "id": "xr0Wc-5za96b"
      }
    },
    {
      "cell_type": "code",
      "source": [
        "import numpy as np\n",
        "\n",
        "X=data[:,:3]\n",
        "y = data[:, -1]\n",
        "\n",
        "print(\"Shape of X:\", X.shape)\n",
        "print(\"Shape of y:\", y.shape)"
      ],
      "metadata": {
        "id": "uXqIfwSKbBQ_",
        "colab": {
          "base_uri": "https://localhost:8080/"
        },
        "outputId": "bd8efb46-291a-4f40-86e3-bbbf257b0319"
      },
      "execution_count": null,
      "outputs": [
        {
          "output_type": "stream",
          "name": "stdout",
          "text": [
            "Shape of X: (1000, 3)\n",
            "Shape of y: (1000,)\n"
          ]
        }
      ]
    },
    {
      "cell_type": "markdown",
      "source": [
        "## Q2.2 Create the Train and Test datasets\n",
        "\n",
        "20% of the data is kept back for testing"
      ],
      "metadata": {
        "id": "lWn0sY4MbGSc"
      }
    },
    {
      "cell_type": "markdown",
      "source": [
        "Split the data into training and testing dataset"
      ],
      "metadata": {
        "id": "1ClrPpsIHhNC"
      }
    },
    {
      "cell_type": "code",
      "source": [
        "from sklearn.model_selection import train_test_split\n",
        "\n",
        "X_train, X_test, y_train, y_test = train_test_split(X, y, test_size=0.2, random_state=42)\n",
        "\n",
        "print(\"Training set - Features:\", X_train.shape, \"Target:\", y_train.shape)\n",
        "print(\"Test set - Features:\", X_test.shape, \"Target:\", y_test.shape)"
      ],
      "metadata": {
        "id": "MGffSN2bbKG6",
        "colab": {
          "base_uri": "https://localhost:8080/"
        },
        "outputId": "409fb431-02bd-4b40-8bfd-39c54f0e6e39"
      },
      "execution_count": null,
      "outputs": [
        {
          "output_type": "stream",
          "name": "stdout",
          "text": [
            "Training set - Features: (800, 3) Target: (800,)\n",
            "Test set - Features: (200, 3) Target: (200,)\n"
          ]
        }
      ]
    },
    {
      "cell_type": "markdown",
      "source": [
        "## Q2.3 Use TWO Regression approaches on the dataset\n",
        "\n",
        "In each case report the R^2 value against the test data."
      ],
      "metadata": {
        "id": "wmtjZE2qbJrT"
      }
    },
    {
      "cell_type": "markdown",
      "source": [
        "#LinearRegression"
      ],
      "metadata": {
        "id": "7FVXkjyCdWNi"
      }
    },
    {
      "cell_type": "markdown",
      "source": [
        "Q2.3.1 Regression approach 1"
      ],
      "metadata": {
        "id": "zGk6m2CGbPZa"
      }
    },
    {
      "cell_type": "code",
      "source": [
        "from sklearn.linear_model import LinearRegression\n",
        "from sklearn.metrics import r2_score\n",
        "\n",
        "linear_reg = LinearRegression()\n",
        "linear_reg.fit(X_train, y_train)\n",
        "linear_reg_predictions = linear_reg.predict(X_test)\n",
        "linear_reg_r2 = r2_score(y_test, linear_reg_predictions)\n",
        "print(f\"R-squared (Linear Regression): {linear_reg_r2:.4f}\")"
      ],
      "metadata": {
        "id": "itckiAcAbS5h",
        "colab": {
          "base_uri": "https://localhost:8080/"
        },
        "outputId": "9b022916-4778-4e76-c0f7-3b10e2221248"
      },
      "execution_count": null,
      "outputs": [
        {
          "output_type": "stream",
          "name": "stdout",
          "text": [
            "R-squared (Linear Regression): 0.8625\n"
          ]
        }
      ]
    },
    {
      "cell_type": "markdown",
      "source": [
        "#Ridge Regression"
      ],
      "metadata": {
        "id": "Ose8yVjZderh"
      }
    },
    {
      "cell_type": "markdown",
      "source": [
        "Q2.3.2 Regression approach 2"
      ],
      "metadata": {
        "id": "qsgsuh8zbTRg"
      }
    },
    {
      "cell_type": "code",
      "source": [
        "from sklearn.linear_model import Ridge\n",
        "from sklearn.datasets import make_regression\n",
        "from sklearn.model_selection import train_test_split\n",
        "from sklearn.metrics import mean_squared_error\n",
        "import numpy as np\n",
        "\n",
        "ridge=Ridge()\n",
        "ridge.fit(X_train,y_train)\n",
        "predictions = ridge.predict(X_test)\n",
        "\n",
        "r2 = r2_score(y_test, predictions)\n",
        "print(f\"R^2 Score: {r2}\")"
      ],
      "metadata": {
        "id": "Qr6GfmwbbV5c",
        "colab": {
          "base_uri": "https://localhost:8080/"
        },
        "outputId": "fcc4e657-8737-46e3-cfa4-2bde5f48abbb"
      },
      "execution_count": null,
      "outputs": [
        {
          "output_type": "stream",
          "name": "stdout",
          "text": [
            "R^2 Score: 0.8625239425970855\n"
          ]
        }
      ]
    },
    {
      "cell_type": "markdown",
      "source": [
        "#Hyperparameter using Ridge Regression"
      ],
      "metadata": {
        "id": "1BrenolkkCcN"
      }
    },
    {
      "cell_type": "markdown",
      "source": [
        "## Q2.4 Optimise the hyperparameters\n",
        "\n",
        "Take your best Regression approach from above and identify the best hyperparameters. Note as some Regression approaches have many hyperparameters you may limit yourself here to just THREE."
      ],
      "metadata": {
        "id": "m3JF75BVbb7R"
      }
    },
    {
      "cell_type": "markdown",
      "source": [
        "Q2.4.1 Search for the best hyperparameters"
      ],
      "metadata": {
        "id": "BVEVAHb6BXRt"
      }
    },
    {
      "cell_type": "markdown",
      "source": [
        "Ridge regression is used for hyperparameter  it has better accuracy."
      ],
      "metadata": {
        "id": "4asHUUrtHpLa"
      }
    },
    {
      "cell_type": "code",
      "source": [
        "import pandas as pd\n",
        "from sklearn.linear_model import Ridge\n",
        "from sklearn.model_selection import train_test_split, GridSearchCV\n",
        "from sklearn.preprocessing import StandardScaler\n",
        "\n",
        "X_train, X_test, y_train, y_test = train_test_split(X, y, test_size=0.2, random_state=42)\n",
        "\n",
        "ridge_regression = Ridge()\n",
        "\n",
        "param_grid = {\n",
        "    'alpha': [0.001, 0.01, 0.1, 1, 10]\n",
        "}\n",
        "\n",
        "grid_search = GridSearchCV(estimator=ridge_regression, param_grid=param_grid, cv=5)\n",
        "grid_search.fit(X_train, y_train)\n",
        "\n",
        "\n",
        "best_params = grid_search.best_params_\n",
        "best_score = grid_search.best_score_\n",
        "\n",
        "print(\"Best Parameters:\", best_params)\n",
        "print(\"Best Score:\", best_score)\n",
        "\n",
        "best_ridge_regression = Ridge(**best_params)\n",
        "best_ridge_regression.fit(X_train, y_train)\n",
        "\n",
        "score = best_ridge_regression.score(X_test, y_test)\n",
        "print(\"R-squared on Test Set:\", score)"
      ],
      "metadata": {
        "id": "8ijdArC8bc46",
        "colab": {
          "base_uri": "https://localhost:8080/"
        },
        "outputId": "3b9cefca-e4a4-4c4c-aeb5-09ecdcfd58f0"
      },
      "execution_count": null,
      "outputs": [
        {
          "output_type": "stream",
          "name": "stdout",
          "text": [
            "Best Parameters: {'alpha': 10}\n",
            "Best Score: 0.8446284937146773\n",
            "R-squared on Test Set: 0.8624012211555678\n"
          ]
        }
      ]
    },
    {
      "cell_type": "markdown",
      "source": [
        "#Best hyperparameter\n"
      ],
      "metadata": {
        "id": "qcxDRE4UkJ82"
      }
    },
    {
      "cell_type": "markdown",
      "source": [
        "Q2.4.2 Output the best hyperparameters found"
      ],
      "metadata": {
        "id": "UNW3xx80bUyR"
      }
    },
    {
      "cell_type": "code",
      "source": [
        "best_params = grid_search.best_params_\n",
        "print(\"Best hyperparameters:\", best_params)"
      ],
      "metadata": {
        "id": "XqeEdsTyBf4G",
        "colab": {
          "base_uri": "https://localhost:8080/"
        },
        "outputId": "63f4c645-d973-423c-d579-5fb21b41c7cd"
      },
      "execution_count": null,
      "outputs": [
        {
          "output_type": "stream",
          "name": "stdout",
          "text": [
            "Best hyperparameters: {'alpha': 10}\n"
          ]
        }
      ]
    },
    {
      "cell_type": "markdown",
      "source": [
        "Q2.4.3 Show the results for the best model"
      ],
      "metadata": {
        "id": "LRVDmIC5blNc"
      }
    },
    {
      "cell_type": "code",
      "source": [
        "best_model = grid_search.best_estimator_\n",
        "\n",
        "best_predictions = best_model.predict(X_test)\n",
        "\n",
        "best_model"
      ],
      "metadata": {
        "id": "MO5YBeW3bmCa",
        "colab": {
          "base_uri": "https://localhost:8080/",
          "height": 75
        },
        "outputId": "dacb7590-316c-46af-e792-287818d561d3"
      },
      "execution_count": null,
      "outputs": [
        {
          "output_type": "execute_result",
          "data": {
            "text/plain": [
              "Ridge(alpha=10)"
            ],
            "text/html": [
              "<style>#sk-container-id-1 {color: black;background-color: white;}#sk-container-id-1 pre{padding: 0;}#sk-container-id-1 div.sk-toggleable {background-color: white;}#sk-container-id-1 label.sk-toggleable__label {cursor: pointer;display: block;width: 100%;margin-bottom: 0;padding: 0.3em;box-sizing: border-box;text-align: center;}#sk-container-id-1 label.sk-toggleable__label-arrow:before {content: \"▸\";float: left;margin-right: 0.25em;color: #696969;}#sk-container-id-1 label.sk-toggleable__label-arrow:hover:before {color: black;}#sk-container-id-1 div.sk-estimator:hover label.sk-toggleable__label-arrow:before {color: black;}#sk-container-id-1 div.sk-toggleable__content {max-height: 0;max-width: 0;overflow: hidden;text-align: left;background-color: #f0f8ff;}#sk-container-id-1 div.sk-toggleable__content pre {margin: 0.2em;color: black;border-radius: 0.25em;background-color: #f0f8ff;}#sk-container-id-1 input.sk-toggleable__control:checked~div.sk-toggleable__content {max-height: 200px;max-width: 100%;overflow: auto;}#sk-container-id-1 input.sk-toggleable__control:checked~label.sk-toggleable__label-arrow:before {content: \"▾\";}#sk-container-id-1 div.sk-estimator input.sk-toggleable__control:checked~label.sk-toggleable__label {background-color: #d4ebff;}#sk-container-id-1 div.sk-label input.sk-toggleable__control:checked~label.sk-toggleable__label {background-color: #d4ebff;}#sk-container-id-1 input.sk-hidden--visually {border: 0;clip: rect(1px 1px 1px 1px);clip: rect(1px, 1px, 1px, 1px);height: 1px;margin: -1px;overflow: hidden;padding: 0;position: absolute;width: 1px;}#sk-container-id-1 div.sk-estimator {font-family: monospace;background-color: #f0f8ff;border: 1px dotted black;border-radius: 0.25em;box-sizing: border-box;margin-bottom: 0.5em;}#sk-container-id-1 div.sk-estimator:hover {background-color: #d4ebff;}#sk-container-id-1 div.sk-parallel-item::after {content: \"\";width: 100%;border-bottom: 1px solid gray;flex-grow: 1;}#sk-container-id-1 div.sk-label:hover label.sk-toggleable__label {background-color: #d4ebff;}#sk-container-id-1 div.sk-serial::before {content: \"\";position: absolute;border-left: 1px solid gray;box-sizing: border-box;top: 0;bottom: 0;left: 50%;z-index: 0;}#sk-container-id-1 div.sk-serial {display: flex;flex-direction: column;align-items: center;background-color: white;padding-right: 0.2em;padding-left: 0.2em;position: relative;}#sk-container-id-1 div.sk-item {position: relative;z-index: 1;}#sk-container-id-1 div.sk-parallel {display: flex;align-items: stretch;justify-content: center;background-color: white;position: relative;}#sk-container-id-1 div.sk-item::before, #sk-container-id-1 div.sk-parallel-item::before {content: \"\";position: absolute;border-left: 1px solid gray;box-sizing: border-box;top: 0;bottom: 0;left: 50%;z-index: -1;}#sk-container-id-1 div.sk-parallel-item {display: flex;flex-direction: column;z-index: 1;position: relative;background-color: white;}#sk-container-id-1 div.sk-parallel-item:first-child::after {align-self: flex-end;width: 50%;}#sk-container-id-1 div.sk-parallel-item:last-child::after {align-self: flex-start;width: 50%;}#sk-container-id-1 div.sk-parallel-item:only-child::after {width: 0;}#sk-container-id-1 div.sk-dashed-wrapped {border: 1px dashed gray;margin: 0 0.4em 0.5em 0.4em;box-sizing: border-box;padding-bottom: 0.4em;background-color: white;}#sk-container-id-1 div.sk-label label {font-family: monospace;font-weight: bold;display: inline-block;line-height: 1.2em;}#sk-container-id-1 div.sk-label-container {text-align: center;}#sk-container-id-1 div.sk-container {/* jupyter's `normalize.less` sets `[hidden] { display: none; }` but bootstrap.min.css set `[hidden] { display: none !important; }` so we also need the `!important` here to be able to override the default hidden behavior on the sphinx rendered scikit-learn.org. See: https://github.com/scikit-learn/scikit-learn/issues/21755 */display: inline-block !important;position: relative;}#sk-container-id-1 div.sk-text-repr-fallback {display: none;}</style><div id=\"sk-container-id-1\" class=\"sk-top-container\"><div class=\"sk-text-repr-fallback\"><pre>Ridge(alpha=10)</pre><b>In a Jupyter environment, please rerun this cell to show the HTML representation or trust the notebook. <br />On GitHub, the HTML representation is unable to render, please try loading this page with nbviewer.org.</b></div><div class=\"sk-container\" hidden><div class=\"sk-item\"><div class=\"sk-estimator sk-toggleable\"><input class=\"sk-toggleable__control sk-hidden--visually\" id=\"sk-estimator-id-1\" type=\"checkbox\" checked><label for=\"sk-estimator-id-1\" class=\"sk-toggleable__label sk-toggleable__label-arrow\">Ridge</label><div class=\"sk-toggleable__content\"><pre>Ridge(alpha=10)</pre></div></div></div></div></div>"
            ]
          },
          "metadata": {},
          "execution_count": 21
        }
      ]
    },
    {
      "cell_type": "markdown",
      "source": [
        "---\n",
        "## Question 3: Deep Learning (10 marks)"
      ],
      "metadata": {
        "id": "srmm6k8N3bHl"
      }
    },
    {
      "cell_type": "markdown",
      "source": [
        "Q3.1 For MNIST dataset, implement a deep learning model with 3 hidden layers with layer size: 128, 256, 50.\n"
      ],
      "metadata": {
        "id": "JGLqEuqrom65"
      }
    },
    {
      "cell_type": "code",
      "source": [
        "from keras.models import Sequential\n",
        "from keras.layers import Dense, Activation, Dropout\n",
        "from keras.datasets import mnist\n",
        "import keras.utils as utils\n",
        "\n",
        "batch_size = 128\n",
        "nb_classes = 10\n",
        "im_dim = 784\n",
        "nb_epoch = 2"
      ],
      "metadata": {
        "id": "Qohr1fFl11AQ"
      },
      "execution_count": null,
      "outputs": []
    },
    {
      "cell_type": "code",
      "source": [
        "(X_train, y_train), (X_test, y_test) = mnist.load_data()\n",
        "X_train = X_train.reshape(60000, im_dim)\n",
        "X_test = X_test.reshape(10000, im_dim)\n",
        "X_train = X_train.astype('float32')\n",
        "X_test = X_test.astype('float32')\n",
        "X_train /= 255\n",
        "X_test /= 255\n",
        "Y_train = utils.to_categorical(y_train, nb_classes)\n",
        "Y_test = utils.to_categorical(y_test, nb_classes)"
      ],
      "metadata": {
        "id": "gKJlUuXy2MpW",
        "colab": {
          "base_uri": "https://localhost:8080/"
        },
        "outputId": "dd7c1e57-b486-4d3e-829f-1c491cfb1f41"
      },
      "execution_count": null,
      "outputs": [
        {
          "output_type": "stream",
          "name": "stdout",
          "text": [
            "Downloading data from https://storage.googleapis.com/tensorflow/tf-keras-datasets/mnist.npz\n",
            "11490434/11490434 [==============================] - 0s 0us/step\n"
          ]
        }
      ]
    },
    {
      "cell_type": "markdown",
      "source": [
        "This deep learnig model has 3 hidden layers different size which are 128, 256,50.                   \n",
        "Overfitting should not happen so dropout is used.\n",
        "\n"
      ],
      "metadata": {
        "id": "xE7mViEDwLjK"
      }
    },
    {
      "cell_type": "code",
      "source": [
        "model = Sequential()\n",
        "model.add(Dense(128, input_shape=(im_dim,), activation='relu'))\n",
        "model.add(Dropout(0.2))\n",
        "model.add(Dense(256, activation='relu'))\n",
        "model.add(Dropout(0.2))\n",
        "model.add(Dense(50, activation='relu'))\n",
        "model.add(Dropout(0.2))\n",
        "model.add(Dense(nb_classes, activation='softmax'))"
      ],
      "metadata": {
        "id": "mzOgmZhH2YEo"
      },
      "execution_count": null,
      "outputs": []
    },
    {
      "cell_type": "markdown",
      "source": [
        "This below code shows the overall  strcuture of the code."
      ],
      "metadata": {
        "id": "qzJHDk0Bahdj"
      }
    },
    {
      "cell_type": "markdown",
      "source": [
        "Add code to output your network structure"
      ],
      "metadata": {
        "id": "dSWAUZHhE2sS"
      }
    },
    {
      "cell_type": "code",
      "source": [
        "model.summary()"
      ],
      "metadata": {
        "id": "ZG7FyBFb208l",
        "colab": {
          "base_uri": "https://localhost:8080/"
        },
        "outputId": "39fd1356-ad94-4305-e3b8-1c60194c0ac8"
      },
      "execution_count": null,
      "outputs": [
        {
          "output_type": "stream",
          "name": "stdout",
          "text": [
            "Model: \"sequential\"\n",
            "_________________________________________________________________\n",
            " Layer (type)                Output Shape              Param #   \n",
            "=================================================================\n",
            " dense (Dense)               (None, 128)               100480    \n",
            "                                                                 \n",
            " dropout (Dropout)           (None, 128)               0         \n",
            "                                                                 \n",
            " dense_1 (Dense)             (None, 256)               33024     \n",
            "                                                                 \n",
            " dropout_1 (Dropout)         (None, 256)               0         \n",
            "                                                                 \n",
            " dense_2 (Dense)             (None, 50)                12850     \n",
            "                                                                 \n",
            " dropout_2 (Dropout)         (None, 50)                0         \n",
            "                                                                 \n",
            " dense_3 (Dense)             (None, 10)                510       \n",
            "                                                                 \n",
            "=================================================================\n",
            "Total params: 146864 (573.69 KB)\n",
            "Trainable params: 146864 (573.69 KB)\n",
            "Non-trainable params: 0 (0.00 Byte)\n",
            "_________________________________________________________________\n"
          ]
        }
      ]
    },
    {
      "cell_type": "code",
      "source": [
        "model.compile(loss='categorical_crossentropy', optimizer='adam', metrics=['accuracy'])"
      ],
      "metadata": {
        "id": "p35KVJsvH9gR"
      },
      "execution_count": null,
      "outputs": []
    },
    {
      "cell_type": "markdown",
      "source": [
        "Train the model for just two epochs to show it works. All code provided - just run."
      ],
      "metadata": {
        "id": "g1TKigVc-q37"
      }
    },
    {
      "cell_type": "code",
      "source": [
        "history = model.fit(X_train, Y_train, epochs=nb_epoch,\n",
        "                    validation_split = 0.2,\n",
        "                    batch_size=batch_size, verbose=1)\n",
        "evaluation = model.evaluate(X_test, Y_test, verbose=1)\n",
        "print('Summary: Loss over the test dataset: %.2f, Accuracy: %.2f' % (evaluation[0], evaluation[1]))"
      ],
      "metadata": {
        "id": "2l4j6djO0xPE",
        "colab": {
          "base_uri": "https://localhost:8080/"
        },
        "outputId": "92499cc5-147a-483e-949a-964042bd13c5"
      },
      "execution_count": null,
      "outputs": [
        {
          "output_type": "stream",
          "name": "stdout",
          "text": [
            "Epoch 1/2\n",
            "375/375 [==============================] - 7s 10ms/step - loss: 0.4903 - accuracy: 0.8484 - val_loss: 0.1603 - val_accuracy: 0.9523\n",
            "Epoch 2/2\n",
            "375/375 [==============================] - 3s 8ms/step - loss: 0.1984 - accuracy: 0.9432 - val_loss: 0.1211 - val_accuracy: 0.9637\n",
            "313/313 [==============================] - 1s 2ms/step - loss: 0.1246 - accuracy: 0.9617\n",
            "Summary: Loss over the test dataset: 0.12, Accuracy: 0.96\n"
          ]
        }
      ]
    },
    {
      "cell_type": "markdown",
      "source": [
        "Q 3.2 For MNIST dataset, implement a CNN model with only one 2D CNN layer as the hidden layer."
      ],
      "metadata": {
        "id": "P_QoG4wjo2-p"
      }
    },
    {
      "cell_type": "code",
      "source": [
        "import keras\n",
        "from keras.datasets import mnist\n",
        "from keras.models import Sequential\n",
        "from keras.layers import Dense, Dropout, Flatten\n",
        "from keras.layers import Conv2D, MaxPooling2D\n",
        "from keras import backend as K\n",
        "\n",
        "batch_size = 128\n",
        "num_classes = 10\n",
        "epochs = 2\n",
        "\n",
        "\n",
        "(x_train, y_train), (x_test, y_test) = mnist.load_data()\n",
        "\n",
        "img_rows, img_cols = 28, 28\n",
        "x_train = x_train.reshape(x_train.shape[0], img_rows, img_cols, 1)\n",
        "x_test = x_test.reshape(x_test.shape[0], img_rows, img_cols, 1)\n",
        "\n",
        "x_train = x_train.astype('float32')\n",
        "x_test = x_test.astype('float32')\n",
        "x_train /= 255\n",
        "x_test /= 255\n",
        "print('x_train shape:', x_train.shape)\n",
        "print(x_train.shape[0], 'train samples')\n",
        "print(x_test.shape[0], 'test samples')\n",
        "\n",
        "\n",
        "y_train = keras.utils.to_categorical(y_train, num_classes)\n",
        "y_test = keras.utils.to_categorical(y_test, num_classes)"
      ],
      "metadata": {
        "colab": {
          "base_uri": "https://localhost:8080/"
        },
        "id": "3_2Usx0x5AGf",
        "outputId": "c5cca793-4f0c-4630-9d8a-b3a8d145ee4f"
      },
      "execution_count": null,
      "outputs": [
        {
          "output_type": "stream",
          "name": "stdout",
          "text": [
            "x_train shape: (60000, 28, 28, 1)\n",
            "60000 train samples\n",
            "10000 test samples\n"
          ]
        }
      ]
    },
    {
      "cell_type": "code",
      "source": [
        "model = Sequential()\n",
        "model.add(Conv2D(32, kernel_size=(3, 3), activation='relu', input_shape=(28, 28, 1)))\n",
        "model.add(MaxPooling2D(pool_size=(2, 2)))\n",
        "\n",
        "model.add(Flatten())\n",
        "\n",
        "model.add(Dropout(0.5))\n",
        "model.add(Dense(10, activation='softmax'))"
      ],
      "metadata": {
        "id": "5UjhYfvX5OCM"
      },
      "execution_count": null,
      "outputs": []
    },
    {
      "cell_type": "markdown",
      "source": [
        "Add code to output your network structure"
      ],
      "metadata": {
        "id": "lZpz9nRi5lj9"
      }
    },
    {
      "cell_type": "code",
      "source": [
        "model.summary()"
      ],
      "metadata": {
        "id": "zlhSLt6U5nLF",
        "colab": {
          "base_uri": "https://localhost:8080/"
        },
        "outputId": "33f03fea-15ac-45c5-9522-fe82f8483dd2"
      },
      "execution_count": null,
      "outputs": [
        {
          "output_type": "stream",
          "name": "stdout",
          "text": [
            "Model: \"sequential_1\"\n",
            "_________________________________________________________________\n",
            " Layer (type)                Output Shape              Param #   \n",
            "=================================================================\n",
            " conv2d (Conv2D)             (None, 26, 26, 32)        320       \n",
            "                                                                 \n",
            " max_pooling2d (MaxPooling2  (None, 13, 13, 32)        0         \n",
            " D)                                                              \n",
            "                                                                 \n",
            " flatten (Flatten)           (None, 5408)              0         \n",
            "                                                                 \n",
            " dropout_3 (Dropout)         (None, 5408)              0         \n",
            "                                                                 \n",
            " dense_4 (Dense)             (None, 10)                54090     \n",
            "                                                                 \n",
            "=================================================================\n",
            "Total params: 54410 (212.54 KB)\n",
            "Trainable params: 54410 (212.54 KB)\n",
            "Non-trainable params: 0 (0.00 Byte)\n",
            "_________________________________________________________________\n"
          ]
        }
      ]
    },
    {
      "cell_type": "code",
      "source": [
        "model.compile(loss='categorical_crossentropy', optimizer='adam', metrics=['accuracy'])\n"
      ],
      "metadata": {
        "id": "gvS9RyIKIYpZ"
      },
      "execution_count": null,
      "outputs": []
    },
    {
      "cell_type": "markdown",
      "source": [
        "We just train for two epochs to demonstrate that the network does work. Just run it."
      ],
      "metadata": {
        "id": "Z4mhkn4N5Tq3"
      }
    },
    {
      "cell_type": "code",
      "source": [
        "history = model.fit(x_train, y_train, batch_size=batch_size, epochs=epochs,\n",
        "              verbose=1, shuffle=True,\n",
        "              validation_split = 0.2)\n",
        "score = model.evaluate(x_test, y_test, verbose=0)\n",
        "print('Summary: Loss over the test dataset: %.2f, Accuracy: %.2f' % (score[0], score[1]))"
      ],
      "metadata": {
        "id": "wEkhYk7npCun",
        "colab": {
          "base_uri": "https://localhost:8080/"
        },
        "outputId": "d28e9dd9-a430-474a-cd81-1a87b59bd4c5"
      },
      "execution_count": null,
      "outputs": [
        {
          "output_type": "stream",
          "name": "stdout",
          "text": [
            "Epoch 1/2\n",
            "375/375 [==============================] - 33s 80ms/step - loss: 0.4434 - accuracy: 0.8766 - val_loss: 0.1913 - val_accuracy: 0.9477\n",
            "Epoch 2/2\n",
            "375/375 [==============================] - 20s 53ms/step - loss: 0.1864 - accuracy: 0.9442 - val_loss: 0.1226 - val_accuracy: 0.9674\n",
            "Summary: Loss over the test dataset: 0.12, Accuracy: 0.97\n"
          ]
        }
      ]
    },
    {
      "cell_type": "markdown",
      "source": [
        "---\n",
        "---\n",
        "---\n",
        "#Mini-projects: Introduction\n",
        "\n",
        "The remainder of this document defines four project-style questions which go more deeply into one of the areas from the module. You should pick **ONE** of these project-stye questions to answer.\n",
        "\n",
        "The learning objectives of this assignment are:\n",
        "1. To learn about the design of machine learning analysis pipelines\n",
        "2. To understand how to select appropriate methods given the dataset type\n",
        "3. To learn how to conduct machine learning experimentation in a rigorous and effective manner\n",
        "4. To critically evaluate the performance of the designed machine learning pipelines\n",
        "5. To learn and practice the skills of reporting machine learning experiments\n",
        "\n",
        "For this coursework you will be provided with a choice of four different datasets of different nature\n",
        "1. A tabular dataset (defined as a classification problem)\n",
        "2. An image dataset\n",
        "3. A text dataset\n",
        "4. A time series dataset\n",
        "\n",
        "Your job is easy to state: You should pick ONE out of these four options and design a range of machine learning pipelines appropriate to the nature of each of the selected datasets. Overall, we expect that you will perform a thorough investigation involving (whenever relevant) all parts of a machine learning pipeline (exploration, preprocessing, model training, model interpretation and evaluation), evaluating a range of options for all parts of the pipeline and with proper hyperparameter tuning.\n",
        "\n",
        "You will have to write a short report (as part of this notebook) that presents the experiments you did, their justification, a detailed description of the performance of your designed pipelines using the most appropriate presentation tools (e.g., tables of results, plots). We expect that you should be able to present your work at a level of detail that would enable a fellow student to reproduce your steps.\n",
        "\n",
        "## Deliverables\n",
        "An inline report and code blocks addressing the marking scheme below. The report should have 1000 to 2000 words. The word count excludes references, tables, figures and section headers, and has a 10% leeway.\n",
        "\n",
        "## Marking scheme\n",
        "\n",
        "- Writing Style, references, figures, etc. 7 marks\n",
        "- Dataset exploration 7 marks\n",
        "- Methods 21 marks\n",
        "- Results of analysis 21 marks\n",
        "- Discussion 14 marks"
      ],
      "metadata": {
        "id": "rIwvxKzo4Cnp"
      }
    },
    {
      "cell_type": "markdown",
      "source": [
        "---\n",
        "---\n",
        "## Project 1: Tabular dataset (70 marks)\n",
        "\n",
        "The dataset, called FARS, is a collection of statistics of US road traffic accidents. The class label is about the severity of the accident. It has 20 features and over 100K examples. The dataset is available in Canvas as a CSV file, in which the last column contains the class labels: https://ncl.instructure.com/courses/53509/files/7652449/download?download_frd=1\n",
        "\n",
        "Experiments on the tabular dataset will be relatively fast compared to the other three options. To compensate, we expect that you evaluate a very broad range of options for the design of your machine learning pipelines, including (but not limited to) data normalisation, feature/instance selection, class imbalance correction, several (appropriate) machine learning models, hyperparameter tuning and cross-validation evaluation."
      ],
      "metadata": {
        "id": "YFvmBHNN4ZAx"
      }
    },
    {
      "cell_type": "markdown",
      "source": [
        "# Tabular Data\n"
      ],
      "metadata": {
        "id": "xDPwGIZYWNG5"
      }
    },
    {
      "cell_type": "markdown",
      "source": [
        "##**Importing libraries**"
      ],
      "metadata": {
        "id": "stbVPQx8wM7s"
      }
    },
    {
      "cell_type": "markdown",
      "source": [
        "In the following section importing pandas,seaboarn and sklearn ,libraries."
      ],
      "metadata": {
        "id": "yadHyj0SvZxY"
      }
    },
    {
      "cell_type": "code",
      "source": [
        "import pandas as pd\n",
        "import seaborn as sns\n",
        "import matplotlib.pyplot as plt\n",
        "from sklearn.preprocessing import LabelEncoder\n",
        "from sklearn.preprocessing import OneHotEncoder\n",
        "from sklearn.preprocessing import MinMaxScaler\n",
        "from sklearn.model_selection import train_test_split\n",
        "from sklearn.decomposition import PCA\n",
        "from sklearn.tree import DecisionTreeClassifier\n",
        "from sklearn.metrics import accuracy_score\n",
        "from sklearn.metrics import confusion_matrix\n",
        "from sklearn.model_selection import GridSearchCV\n",
        "from sklearn.ensemble import RandomForestClassifier\n",
        "from sklearn.datasets import make_classification\n",
        "from sklearn.neighbors import KNeighborsClassifier\n",
        "from sklearn.metrics import classification_report\n",
        "from sklearn.metrics import precision_score, recall_score, f1_score\n",
        "from sklearn.svm import SVC"
      ],
      "metadata": {
        "id": "9kwhWir0WQj-"
      },
      "execution_count": null,
      "outputs": []
    },
    {
      "cell_type": "markdown",
      "source": [
        "##Read in the data"
      ],
      "metadata": {
        "id": "3POpMqMCv370"
      }
    },
    {
      "cell_type": "markdown",
      "source": [
        "Loading fars data & reading it through pandas library.The data is being read into data variable"
      ],
      "metadata": {
        "id": "BA_gLXr9wnwF"
      }
    },
    {
      "cell_type": "code",
      "source": [
        "file_path = '/content/fars 2.csv'\n",
        "data = pd.read_csv(file_path)"
      ],
      "metadata": {
        "id": "W_kPVNxbI5xz"
      },
      "execution_count": null,
      "outputs": []
    },
    {
      "cell_type": "markdown",
      "source": [
        "Number of row 100968 and column is 30"
      ],
      "metadata": {
        "id": "FKR5keq5wlRc"
      }
    },
    {
      "cell_type": "code",
      "source": [
        "data.shape"
      ],
      "metadata": {
        "colab": {
          "base_uri": "https://localhost:8080/"
        },
        "id": "WedIb1bmI50D",
        "outputId": "e3d0a2e0-7635-4b86-9950-16835bba798a"
      },
      "execution_count": null,
      "outputs": [
        {
          "output_type": "execute_result",
          "data": {
            "text/plain": [
              "(100968, 30)"
            ]
          },
          "metadata": {},
          "execution_count": 4
        }
      ]
    },
    {
      "cell_type": "markdown",
      "source": [
        "Printing all the 30 columns of the data variable"
      ],
      "metadata": {
        "id": "52Ey7kg8xLf6"
      }
    },
    {
      "cell_type": "code",
      "source": [
        "data.columns"
      ],
      "metadata": {
        "colab": {
          "base_uri": "https://localhost:8080/"
        },
        "id": "n0r6en26I52h",
        "outputId": "a139efe9-40b7-462c-9895-aeaaf9617923"
      },
      "execution_count": null,
      "outputs": [
        {
          "output_type": "execute_result",
          "data": {
            "text/plain": [
              "Index(['CASE_STATE', 'AGE', 'SEX', 'PERSON_TYPE', 'SEATING_POSITION',\n",
              "       'RESTRAINT_SYSTEM-USE', 'AIR_BAG_AVAILABILITY/DEPLOYMENT', 'EJECTION',\n",
              "       'EJECTION_PATH', 'EXTRICATION', 'NON_MOTORIST_LOCATION',\n",
              "       'POLICE_REPORTED_ALCOHOL_INVOLVEMENT', 'METHOD_ALCOHOL_DETERMINATION',\n",
              "       'ALCOHOL_TEST_TYPE', 'ALCOHOL_TEST_RESULT',\n",
              "       'POLICE-REPORTED_DRUG_INVOLVEMENT', 'METHOD_OF_DRUG_DETERMINATION',\n",
              "       'DRUG_TEST_TYPE_(1_of_3)', 'DRUG_TEST_RESULTS_(1_of_3)',\n",
              "       'DRUG_TEST_TYPE_(2_of_3)', 'DRUG_TEST_RESULTS_(2_of_3)',\n",
              "       'DRUG_TEST_TYPE_(3_of_3)', 'DRUG_TEST_RESULTS_(3_of_3)',\n",
              "       'HISPANIC_ORIGIN', 'TAKEN_TO_HOSPITAL',\n",
              "       'RELATED_FACTOR_(1)-PERSON_LEVEL', 'RELATED_FACTOR_(2)-PERSON_LEVEL',\n",
              "       'RELATED_FACTOR_(3)-PERSON_LEVEL', 'RACE', 'INJURY_SEVERITY'],\n",
              "      dtype='object')"
            ]
          },
          "metadata": {},
          "execution_count": 5
        }
      ]
    },
    {
      "cell_type": "markdown",
      "source": [
        "data.describe() provides a summary of descriptive statistics for numerical columns in the dataset.                                        \n",
        "Count- tells about number of non null values present in each column.                                    \n",
        "Mean-calculates the average value of each column which has datatype as int 64                            \n",
        "std-define the standard deviation for each column           \n",
        "min-It defines the minimum value of that particular column             \n",
        "max-It defines the maximun value of that particular column\n",
        "25%- Value below which 25% of the data falls.        \n",
        "50%-Middle value separating the higher half from the lower half of the data.                  \n",
        "75%-Value below which 75% of the data falls.\n",
        "\n",
        "\n"
      ],
      "metadata": {
        "id": "-5FrqVUQxiic"
      }
    },
    {
      "cell_type": "code",
      "source": [
        "data.describe()"
      ],
      "metadata": {
        "colab": {
          "base_uri": "https://localhost:8080/",
          "height": 300
        },
        "id": "LFCuumbxI542",
        "outputId": "8bf87e30-2c46-4c1b-e85b-e64993adf4d2"
      },
      "execution_count": null,
      "outputs": [
        {
          "output_type": "execute_result",
          "data": {
            "text/plain": [
              "                 AGE  ALCOHOL_TEST_RESULT  DRUG_TEST_RESULTS_(1_of_3)  \\\n",
              "count  100968.000000        100968.000000               100968.000000   \n",
              "mean       37.106707            68.023116                  207.393758   \n",
              "std        22.109641            42.306371                  396.194002   \n",
              "min         0.000000             0.000000                    0.000000   \n",
              "25%        20.000000            15.000000                    0.000000   \n",
              "50%        32.000000            96.000000                    0.000000   \n",
              "75%        49.000000            96.000000                    1.000000   \n",
              "max        99.000000            99.000000                  999.000000   \n",
              "\n",
              "       DRUG_TEST_RESULTS_(2_of_3)  DRUG_TEST_RESULTS_(3_of_3)  \n",
              "count               100968.000000               100968.000000  \n",
              "mean                   100.089672                   95.441556  \n",
              "std                    295.089512                  292.121277  \n",
              "min                      0.000000                    0.000000  \n",
              "25%                      0.000000                    0.000000  \n",
              "50%                      0.000000                    0.000000  \n",
              "75%                      0.000000                    0.000000  \n",
              "max                    999.000000                  999.000000  "
            ],
            "text/html": [
              "\n",
              "  <div id=\"df-4f75a3c9-a823-40c3-8ee5-404e9cb23a1b\" class=\"colab-df-container\">\n",
              "    <div>\n",
              "<style scoped>\n",
              "    .dataframe tbody tr th:only-of-type {\n",
              "        vertical-align: middle;\n",
              "    }\n",
              "\n",
              "    .dataframe tbody tr th {\n",
              "        vertical-align: top;\n",
              "    }\n",
              "\n",
              "    .dataframe thead th {\n",
              "        text-align: right;\n",
              "    }\n",
              "</style>\n",
              "<table border=\"1\" class=\"dataframe\">\n",
              "  <thead>\n",
              "    <tr style=\"text-align: right;\">\n",
              "      <th></th>\n",
              "      <th>AGE</th>\n",
              "      <th>ALCOHOL_TEST_RESULT</th>\n",
              "      <th>DRUG_TEST_RESULTS_(1_of_3)</th>\n",
              "      <th>DRUG_TEST_RESULTS_(2_of_3)</th>\n",
              "      <th>DRUG_TEST_RESULTS_(3_of_3)</th>\n",
              "    </tr>\n",
              "  </thead>\n",
              "  <tbody>\n",
              "    <tr>\n",
              "      <th>count</th>\n",
              "      <td>100968.000000</td>\n",
              "      <td>100968.000000</td>\n",
              "      <td>100968.000000</td>\n",
              "      <td>100968.000000</td>\n",
              "      <td>100968.000000</td>\n",
              "    </tr>\n",
              "    <tr>\n",
              "      <th>mean</th>\n",
              "      <td>37.106707</td>\n",
              "      <td>68.023116</td>\n",
              "      <td>207.393758</td>\n",
              "      <td>100.089672</td>\n",
              "      <td>95.441556</td>\n",
              "    </tr>\n",
              "    <tr>\n",
              "      <th>std</th>\n",
              "      <td>22.109641</td>\n",
              "      <td>42.306371</td>\n",
              "      <td>396.194002</td>\n",
              "      <td>295.089512</td>\n",
              "      <td>292.121277</td>\n",
              "    </tr>\n",
              "    <tr>\n",
              "      <th>min</th>\n",
              "      <td>0.000000</td>\n",
              "      <td>0.000000</td>\n",
              "      <td>0.000000</td>\n",
              "      <td>0.000000</td>\n",
              "      <td>0.000000</td>\n",
              "    </tr>\n",
              "    <tr>\n",
              "      <th>25%</th>\n",
              "      <td>20.000000</td>\n",
              "      <td>15.000000</td>\n",
              "      <td>0.000000</td>\n",
              "      <td>0.000000</td>\n",
              "      <td>0.000000</td>\n",
              "    </tr>\n",
              "    <tr>\n",
              "      <th>50%</th>\n",
              "      <td>32.000000</td>\n",
              "      <td>96.000000</td>\n",
              "      <td>0.000000</td>\n",
              "      <td>0.000000</td>\n",
              "      <td>0.000000</td>\n",
              "    </tr>\n",
              "    <tr>\n",
              "      <th>75%</th>\n",
              "      <td>49.000000</td>\n",
              "      <td>96.000000</td>\n",
              "      <td>1.000000</td>\n",
              "      <td>0.000000</td>\n",
              "      <td>0.000000</td>\n",
              "    </tr>\n",
              "    <tr>\n",
              "      <th>max</th>\n",
              "      <td>99.000000</td>\n",
              "      <td>99.000000</td>\n",
              "      <td>999.000000</td>\n",
              "      <td>999.000000</td>\n",
              "      <td>999.000000</td>\n",
              "    </tr>\n",
              "  </tbody>\n",
              "</table>\n",
              "</div>\n",
              "    <div class=\"colab-df-buttons\">\n",
              "\n",
              "  <div class=\"colab-df-container\">\n",
              "    <button class=\"colab-df-convert\" onclick=\"convertToInteractive('df-4f75a3c9-a823-40c3-8ee5-404e9cb23a1b')\"\n",
              "            title=\"Convert this dataframe to an interactive table.\"\n",
              "            style=\"display:none;\">\n",
              "\n",
              "  <svg xmlns=\"http://www.w3.org/2000/svg\" height=\"24px\" viewBox=\"0 -960 960 960\">\n",
              "    <path d=\"M120-120v-720h720v720H120Zm60-500h600v-160H180v160Zm220 220h160v-160H400v160Zm0 220h160v-160H400v160ZM180-400h160v-160H180v160Zm440 0h160v-160H620v160ZM180-180h160v-160H180v160Zm440 0h160v-160H620v160Z\"/>\n",
              "  </svg>\n",
              "    </button>\n",
              "\n",
              "  <style>\n",
              "    .colab-df-container {\n",
              "      display:flex;\n",
              "      gap: 12px;\n",
              "    }\n",
              "\n",
              "    .colab-df-convert {\n",
              "      background-color: #E8F0FE;\n",
              "      border: none;\n",
              "      border-radius: 50%;\n",
              "      cursor: pointer;\n",
              "      display: none;\n",
              "      fill: #1967D2;\n",
              "      height: 32px;\n",
              "      padding: 0 0 0 0;\n",
              "      width: 32px;\n",
              "    }\n",
              "\n",
              "    .colab-df-convert:hover {\n",
              "      background-color: #E2EBFA;\n",
              "      box-shadow: 0px 1px 2px rgba(60, 64, 67, 0.3), 0px 1px 3px 1px rgba(60, 64, 67, 0.15);\n",
              "      fill: #174EA6;\n",
              "    }\n",
              "\n",
              "    .colab-df-buttons div {\n",
              "      margin-bottom: 4px;\n",
              "    }\n",
              "\n",
              "    [theme=dark] .colab-df-convert {\n",
              "      background-color: #3B4455;\n",
              "      fill: #D2E3FC;\n",
              "    }\n",
              "\n",
              "    [theme=dark] .colab-df-convert:hover {\n",
              "      background-color: #434B5C;\n",
              "      box-shadow: 0px 1px 3px 1px rgba(0, 0, 0, 0.15);\n",
              "      filter: drop-shadow(0px 1px 2px rgba(0, 0, 0, 0.3));\n",
              "      fill: #FFFFFF;\n",
              "    }\n",
              "  </style>\n",
              "\n",
              "    <script>\n",
              "      const buttonEl =\n",
              "        document.querySelector('#df-4f75a3c9-a823-40c3-8ee5-404e9cb23a1b button.colab-df-convert');\n",
              "      buttonEl.style.display =\n",
              "        google.colab.kernel.accessAllowed ? 'block' : 'none';\n",
              "\n",
              "      async function convertToInteractive(key) {\n",
              "        const element = document.querySelector('#df-4f75a3c9-a823-40c3-8ee5-404e9cb23a1b');\n",
              "        const dataTable =\n",
              "          await google.colab.kernel.invokeFunction('convertToInteractive',\n",
              "                                                    [key], {});\n",
              "        if (!dataTable) return;\n",
              "\n",
              "        const docLinkHtml = 'Like what you see? Visit the ' +\n",
              "          '<a target=\"_blank\" href=https://colab.research.google.com/notebooks/data_table.ipynb>data table notebook</a>'\n",
              "          + ' to learn more about interactive tables.';\n",
              "        element.innerHTML = '';\n",
              "        dataTable['output_type'] = 'display_data';\n",
              "        await google.colab.output.renderOutput(dataTable, element);\n",
              "        const docLink = document.createElement('div');\n",
              "        docLink.innerHTML = docLinkHtml;\n",
              "        element.appendChild(docLink);\n",
              "      }\n",
              "    </script>\n",
              "  </div>\n",
              "\n",
              "\n",
              "<div id=\"df-ab993e63-84bf-42c1-9025-62fe073c9636\">\n",
              "  <button class=\"colab-df-quickchart\" onclick=\"quickchart('df-ab993e63-84bf-42c1-9025-62fe073c9636')\"\n",
              "            title=\"Suggest charts\"\n",
              "            style=\"display:none;\">\n",
              "\n",
              "<svg xmlns=\"http://www.w3.org/2000/svg\" height=\"24px\"viewBox=\"0 0 24 24\"\n",
              "     width=\"24px\">\n",
              "    <g>\n",
              "        <path d=\"M19 3H5c-1.1 0-2 .9-2 2v14c0 1.1.9 2 2 2h14c1.1 0 2-.9 2-2V5c0-1.1-.9-2-2-2zM9 17H7v-7h2v7zm4 0h-2V7h2v10zm4 0h-2v-4h2v4z\"/>\n",
              "    </g>\n",
              "</svg>\n",
              "  </button>\n",
              "\n",
              "<style>\n",
              "  .colab-df-quickchart {\n",
              "      --bg-color: #E8F0FE;\n",
              "      --fill-color: #1967D2;\n",
              "      --hover-bg-color: #E2EBFA;\n",
              "      --hover-fill-color: #174EA6;\n",
              "      --disabled-fill-color: #AAA;\n",
              "      --disabled-bg-color: #DDD;\n",
              "  }\n",
              "\n",
              "  [theme=dark] .colab-df-quickchart {\n",
              "      --bg-color: #3B4455;\n",
              "      --fill-color: #D2E3FC;\n",
              "      --hover-bg-color: #434B5C;\n",
              "      --hover-fill-color: #FFFFFF;\n",
              "      --disabled-bg-color: #3B4455;\n",
              "      --disabled-fill-color: #666;\n",
              "  }\n",
              "\n",
              "  .colab-df-quickchart {\n",
              "    background-color: var(--bg-color);\n",
              "    border: none;\n",
              "    border-radius: 50%;\n",
              "    cursor: pointer;\n",
              "    display: none;\n",
              "    fill: var(--fill-color);\n",
              "    height: 32px;\n",
              "    padding: 0;\n",
              "    width: 32px;\n",
              "  }\n",
              "\n",
              "  .colab-df-quickchart:hover {\n",
              "    background-color: var(--hover-bg-color);\n",
              "    box-shadow: 0 1px 2px rgba(60, 64, 67, 0.3), 0 1px 3px 1px rgba(60, 64, 67, 0.15);\n",
              "    fill: var(--button-hover-fill-color);\n",
              "  }\n",
              "\n",
              "  .colab-df-quickchart-complete:disabled,\n",
              "  .colab-df-quickchart-complete:disabled:hover {\n",
              "    background-color: var(--disabled-bg-color);\n",
              "    fill: var(--disabled-fill-color);\n",
              "    box-shadow: none;\n",
              "  }\n",
              "\n",
              "  .colab-df-spinner {\n",
              "    border: 2px solid var(--fill-color);\n",
              "    border-color: transparent;\n",
              "    border-bottom-color: var(--fill-color);\n",
              "    animation:\n",
              "      spin 1s steps(1) infinite;\n",
              "  }\n",
              "\n",
              "  @keyframes spin {\n",
              "    0% {\n",
              "      border-color: transparent;\n",
              "      border-bottom-color: var(--fill-color);\n",
              "      border-left-color: var(--fill-color);\n",
              "    }\n",
              "    20% {\n",
              "      border-color: transparent;\n",
              "      border-left-color: var(--fill-color);\n",
              "      border-top-color: var(--fill-color);\n",
              "    }\n",
              "    30% {\n",
              "      border-color: transparent;\n",
              "      border-left-color: var(--fill-color);\n",
              "      border-top-color: var(--fill-color);\n",
              "      border-right-color: var(--fill-color);\n",
              "    }\n",
              "    40% {\n",
              "      border-color: transparent;\n",
              "      border-right-color: var(--fill-color);\n",
              "      border-top-color: var(--fill-color);\n",
              "    }\n",
              "    60% {\n",
              "      border-color: transparent;\n",
              "      border-right-color: var(--fill-color);\n",
              "    }\n",
              "    80% {\n",
              "      border-color: transparent;\n",
              "      border-right-color: var(--fill-color);\n",
              "      border-bottom-color: var(--fill-color);\n",
              "    }\n",
              "    90% {\n",
              "      border-color: transparent;\n",
              "      border-bottom-color: var(--fill-color);\n",
              "    }\n",
              "  }\n",
              "</style>\n",
              "\n",
              "  <script>\n",
              "    async function quickchart(key) {\n",
              "      const quickchartButtonEl =\n",
              "        document.querySelector('#' + key + ' button');\n",
              "      quickchartButtonEl.disabled = true;  // To prevent multiple clicks.\n",
              "      quickchartButtonEl.classList.add('colab-df-spinner');\n",
              "      try {\n",
              "        const charts = await google.colab.kernel.invokeFunction(\n",
              "            'suggestCharts', [key], {});\n",
              "      } catch (error) {\n",
              "        console.error('Error during call to suggestCharts:', error);\n",
              "      }\n",
              "      quickchartButtonEl.classList.remove('colab-df-spinner');\n",
              "      quickchartButtonEl.classList.add('colab-df-quickchart-complete');\n",
              "    }\n",
              "    (() => {\n",
              "      let quickchartButtonEl =\n",
              "        document.querySelector('#df-ab993e63-84bf-42c1-9025-62fe073c9636 button');\n",
              "      quickchartButtonEl.style.display =\n",
              "        google.colab.kernel.accessAllowed ? 'block' : 'none';\n",
              "    })();\n",
              "  </script>\n",
              "</div>\n",
              "    </div>\n",
              "  </div>\n"
            ]
          },
          "metadata": {},
          "execution_count": 6
        }
      ]
    },
    {
      "cell_type": "markdown",
      "source": [
        "Prints the first five rows of the dataset"
      ],
      "metadata": {
        "id": "uFT8ktFAzGpa"
      }
    },
    {
      "cell_type": "code",
      "source": [
        "data.head()"
      ],
      "metadata": {
        "colab": {
          "base_uri": "https://localhost:8080/",
          "height": 446
        },
        "id": "rkQ4V_LmI57n",
        "outputId": "274f3036-d5ce-4bb6-ac46-b0c6d08f33bf"
      },
      "execution_count": null,
      "outputs": [
        {
          "output_type": "execute_result",
          "data": {
            "text/plain": [
              "  CASE_STATE  AGE     SEX                                PERSON_TYPE  \\\n",
              "0    Alabama   34    Male                                     Driver   \n",
              "1    Alabama   20    Male                                     Driver   \n",
              "2    Alabama   43    Male                                     Driver   \n",
              "3    Alabama   38  Female  Passenger_of_a_Motor_Vehicle_in_Transport   \n",
              "4    Alabama   50    Male                                     Driver   \n",
              "\n",
              "                        SEATING_POSITION      RESTRAINT_SYSTEM-USE  \\\n",
              "0  Front_Seat_-_Left_Side_(Drivers_Side)  None_Used/Not_Applicable   \n",
              "1  Front_Seat_-_Left_Side_(Drivers_Side)  None_Used/Not_Applicable   \n",
              "2  Front_Seat_-_Left_Side_(Drivers_Side)     Lap_and_Shoulder_Belt   \n",
              "3                Front_Seat_-_Right_Side     Lap_and_Shoulder_Belt   \n",
              "4  Front_Seat_-_Left_Side_(Drivers_Side)     Lap_and_Shoulder_Belt   \n",
              "\n",
              "                    AIR_BAG_AVAILABILITY/DEPLOYMENT         EJECTION  \\\n",
              "0  Air_Bag_Available_but_Not_Deployed_for_this_Seat  Totally_Ejected   \n",
              "1                       Deployed_Air_Bag_from_Front  Totally_Ejected   \n",
              "2               Air_Bag_Not_Available_for_this_Seat      Not_Ejected   \n",
              "3               Air_Bag_Not_Available_for_this_Seat      Not_Ejected   \n",
              "4                       Deployed_Air_Bag_from_Front      Not_Ejected   \n",
              "\n",
              "                EJECTION_PATH     EXTRICATION  ... DRUG_TEST_RESULTS_(2_of_3)  \\\n",
              "0                     Unknown  Not_Extricated  ...                          0   \n",
              "1                     Unknown  Not_Extricated  ...                          0   \n",
              "2  Not_Ejected/Not_Applicable      Extricated  ...                          0   \n",
              "3  Not_Ejected/Not_Applicable      Extricated  ...                          0   \n",
              "4  Not_Ejected/Not_Applicable  Not_Extricated  ...                          0   \n",
              "\n",
              "  DRUG_TEST_TYPE_(3_of_3) DRUG_TEST_RESULTS_(3_of_3)  \\\n",
              "0    Not_Tested_for_Drugs                          0   \n",
              "1    Not_Tested_for_Drugs                          0   \n",
              "2    Not_Tested_for_Drugs                          0   \n",
              "3    Not_Tested_for_Drugs                          0   \n",
              "4    Not_Tested_for_Drugs                          0   \n",
              "\n",
              "                   HISPANIC_ORIGIN  TAKEN_TO_HOSPITAL  \\\n",
              "0                     Non-Hispanic                 No   \n",
              "1                     Non-Hispanic                 No   \n",
              "2                     Non-Hispanic                 No   \n",
              "3  Not_a_Fatality_(Not_Applicable)                Yes   \n",
              "4                     Non-Hispanic                Yes   \n",
              "\n",
              "                    RELATED_FACTOR_(1)-PERSON_LEVEL  \\\n",
              "0  Not_Applicable_-_Driver/None_-_All_Other_Persons   \n",
              "1  Not_Applicable_-_Driver/None_-_All_Other_Persons   \n",
              "2  Not_Applicable_-_Driver/None_-_All_Other_Persons   \n",
              "3  Not_Applicable_-_Driver/None_-_All_Other_Persons   \n",
              "4  Not_Applicable_-_Driver/None_-_All_Other_Persons   \n",
              "\n",
              "                    RELATED_FACTOR_(2)-PERSON_LEVEL  \\\n",
              "0  Not_Applicable_-_Driver/None_-_All_Other_Persons   \n",
              "1  Not_Applicable_-_Driver/None_-_All_Other_Persons   \n",
              "2  Not_Applicable_-_Driver/None_-_All_Other_Persons   \n",
              "3  Not_Applicable_-_Driver/None_-_All_Other_Persons   \n",
              "4  Not_Applicable_-_Driver/None_-_All_Other_Persons   \n",
              "\n",
              "                    RELATED_FACTOR_(3)-PERSON_LEVEL  \\\n",
              "0  Not_Applicable_-_Driver/None_-_All_Other_Persons   \n",
              "1  Not_Applicable_-_Driver/None_-_All_Other_Persons   \n",
              "2  Not_Applicable_-_Driver/None_-_All_Other_Persons   \n",
              "3  Not_Applicable_-_Driver/None_-_All_Other_Persons   \n",
              "4  Not_Applicable_-_Driver/None_-_All_Other_Persons   \n",
              "\n",
              "                              RACE      INJURY_SEVERITY  \n",
              "0                            White         Fatal_Injury  \n",
              "1                            White         Fatal_Injury  \n",
              "2                            Black         Fatal_Injury  \n",
              "3  Not_a_Fatality_(Not_Applicable)  Incapaciting_Injury  \n",
              "4                            Black         Fatal_Injury  \n",
              "\n",
              "[5 rows x 30 columns]"
            ],
            "text/html": [
              "\n",
              "  <div id=\"df-97386727-f6fd-4f0f-9bc6-8bd96ccbac13\" class=\"colab-df-container\">\n",
              "    <div>\n",
              "<style scoped>\n",
              "    .dataframe tbody tr th:only-of-type {\n",
              "        vertical-align: middle;\n",
              "    }\n",
              "\n",
              "    .dataframe tbody tr th {\n",
              "        vertical-align: top;\n",
              "    }\n",
              "\n",
              "    .dataframe thead th {\n",
              "        text-align: right;\n",
              "    }\n",
              "</style>\n",
              "<table border=\"1\" class=\"dataframe\">\n",
              "  <thead>\n",
              "    <tr style=\"text-align: right;\">\n",
              "      <th></th>\n",
              "      <th>CASE_STATE</th>\n",
              "      <th>AGE</th>\n",
              "      <th>SEX</th>\n",
              "      <th>PERSON_TYPE</th>\n",
              "      <th>SEATING_POSITION</th>\n",
              "      <th>RESTRAINT_SYSTEM-USE</th>\n",
              "      <th>AIR_BAG_AVAILABILITY/DEPLOYMENT</th>\n",
              "      <th>EJECTION</th>\n",
              "      <th>EJECTION_PATH</th>\n",
              "      <th>EXTRICATION</th>\n",
              "      <th>...</th>\n",
              "      <th>DRUG_TEST_RESULTS_(2_of_3)</th>\n",
              "      <th>DRUG_TEST_TYPE_(3_of_3)</th>\n",
              "      <th>DRUG_TEST_RESULTS_(3_of_3)</th>\n",
              "      <th>HISPANIC_ORIGIN</th>\n",
              "      <th>TAKEN_TO_HOSPITAL</th>\n",
              "      <th>RELATED_FACTOR_(1)-PERSON_LEVEL</th>\n",
              "      <th>RELATED_FACTOR_(2)-PERSON_LEVEL</th>\n",
              "      <th>RELATED_FACTOR_(3)-PERSON_LEVEL</th>\n",
              "      <th>RACE</th>\n",
              "      <th>INJURY_SEVERITY</th>\n",
              "    </tr>\n",
              "  </thead>\n",
              "  <tbody>\n",
              "    <tr>\n",
              "      <th>0</th>\n",
              "      <td>Alabama</td>\n",
              "      <td>34</td>\n",
              "      <td>Male</td>\n",
              "      <td>Driver</td>\n",
              "      <td>Front_Seat_-_Left_Side_(Drivers_Side)</td>\n",
              "      <td>None_Used/Not_Applicable</td>\n",
              "      <td>Air_Bag_Available_but_Not_Deployed_for_this_Seat</td>\n",
              "      <td>Totally_Ejected</td>\n",
              "      <td>Unknown</td>\n",
              "      <td>Not_Extricated</td>\n",
              "      <td>...</td>\n",
              "      <td>0</td>\n",
              "      <td>Not_Tested_for_Drugs</td>\n",
              "      <td>0</td>\n",
              "      <td>Non-Hispanic</td>\n",
              "      <td>No</td>\n",
              "      <td>Not_Applicable_-_Driver/None_-_All_Other_Persons</td>\n",
              "      <td>Not_Applicable_-_Driver/None_-_All_Other_Persons</td>\n",
              "      <td>Not_Applicable_-_Driver/None_-_All_Other_Persons</td>\n",
              "      <td>White</td>\n",
              "      <td>Fatal_Injury</td>\n",
              "    </tr>\n",
              "    <tr>\n",
              "      <th>1</th>\n",
              "      <td>Alabama</td>\n",
              "      <td>20</td>\n",
              "      <td>Male</td>\n",
              "      <td>Driver</td>\n",
              "      <td>Front_Seat_-_Left_Side_(Drivers_Side)</td>\n",
              "      <td>None_Used/Not_Applicable</td>\n",
              "      <td>Deployed_Air_Bag_from_Front</td>\n",
              "      <td>Totally_Ejected</td>\n",
              "      <td>Unknown</td>\n",
              "      <td>Not_Extricated</td>\n",
              "      <td>...</td>\n",
              "      <td>0</td>\n",
              "      <td>Not_Tested_for_Drugs</td>\n",
              "      <td>0</td>\n",
              "      <td>Non-Hispanic</td>\n",
              "      <td>No</td>\n",
              "      <td>Not_Applicable_-_Driver/None_-_All_Other_Persons</td>\n",
              "      <td>Not_Applicable_-_Driver/None_-_All_Other_Persons</td>\n",
              "      <td>Not_Applicable_-_Driver/None_-_All_Other_Persons</td>\n",
              "      <td>White</td>\n",
              "      <td>Fatal_Injury</td>\n",
              "    </tr>\n",
              "    <tr>\n",
              "      <th>2</th>\n",
              "      <td>Alabama</td>\n",
              "      <td>43</td>\n",
              "      <td>Male</td>\n",
              "      <td>Driver</td>\n",
              "      <td>Front_Seat_-_Left_Side_(Drivers_Side)</td>\n",
              "      <td>Lap_and_Shoulder_Belt</td>\n",
              "      <td>Air_Bag_Not_Available_for_this_Seat</td>\n",
              "      <td>Not_Ejected</td>\n",
              "      <td>Not_Ejected/Not_Applicable</td>\n",
              "      <td>Extricated</td>\n",
              "      <td>...</td>\n",
              "      <td>0</td>\n",
              "      <td>Not_Tested_for_Drugs</td>\n",
              "      <td>0</td>\n",
              "      <td>Non-Hispanic</td>\n",
              "      <td>No</td>\n",
              "      <td>Not_Applicable_-_Driver/None_-_All_Other_Persons</td>\n",
              "      <td>Not_Applicable_-_Driver/None_-_All_Other_Persons</td>\n",
              "      <td>Not_Applicable_-_Driver/None_-_All_Other_Persons</td>\n",
              "      <td>Black</td>\n",
              "      <td>Fatal_Injury</td>\n",
              "    </tr>\n",
              "    <tr>\n",
              "      <th>3</th>\n",
              "      <td>Alabama</td>\n",
              "      <td>38</td>\n",
              "      <td>Female</td>\n",
              "      <td>Passenger_of_a_Motor_Vehicle_in_Transport</td>\n",
              "      <td>Front_Seat_-_Right_Side</td>\n",
              "      <td>Lap_and_Shoulder_Belt</td>\n",
              "      <td>Air_Bag_Not_Available_for_this_Seat</td>\n",
              "      <td>Not_Ejected</td>\n",
              "      <td>Not_Ejected/Not_Applicable</td>\n",
              "      <td>Extricated</td>\n",
              "      <td>...</td>\n",
              "      <td>0</td>\n",
              "      <td>Not_Tested_for_Drugs</td>\n",
              "      <td>0</td>\n",
              "      <td>Not_a_Fatality_(Not_Applicable)</td>\n",
              "      <td>Yes</td>\n",
              "      <td>Not_Applicable_-_Driver/None_-_All_Other_Persons</td>\n",
              "      <td>Not_Applicable_-_Driver/None_-_All_Other_Persons</td>\n",
              "      <td>Not_Applicable_-_Driver/None_-_All_Other_Persons</td>\n",
              "      <td>Not_a_Fatality_(Not_Applicable)</td>\n",
              "      <td>Incapaciting_Injury</td>\n",
              "    </tr>\n",
              "    <tr>\n",
              "      <th>4</th>\n",
              "      <td>Alabama</td>\n",
              "      <td>50</td>\n",
              "      <td>Male</td>\n",
              "      <td>Driver</td>\n",
              "      <td>Front_Seat_-_Left_Side_(Drivers_Side)</td>\n",
              "      <td>Lap_and_Shoulder_Belt</td>\n",
              "      <td>Deployed_Air_Bag_from_Front</td>\n",
              "      <td>Not_Ejected</td>\n",
              "      <td>Not_Ejected/Not_Applicable</td>\n",
              "      <td>Not_Extricated</td>\n",
              "      <td>...</td>\n",
              "      <td>0</td>\n",
              "      <td>Not_Tested_for_Drugs</td>\n",
              "      <td>0</td>\n",
              "      <td>Non-Hispanic</td>\n",
              "      <td>Yes</td>\n",
              "      <td>Not_Applicable_-_Driver/None_-_All_Other_Persons</td>\n",
              "      <td>Not_Applicable_-_Driver/None_-_All_Other_Persons</td>\n",
              "      <td>Not_Applicable_-_Driver/None_-_All_Other_Persons</td>\n",
              "      <td>Black</td>\n",
              "      <td>Fatal_Injury</td>\n",
              "    </tr>\n",
              "  </tbody>\n",
              "</table>\n",
              "<p>5 rows × 30 columns</p>\n",
              "</div>\n",
              "    <div class=\"colab-df-buttons\">\n",
              "\n",
              "  <div class=\"colab-df-container\">\n",
              "    <button class=\"colab-df-convert\" onclick=\"convertToInteractive('df-97386727-f6fd-4f0f-9bc6-8bd96ccbac13')\"\n",
              "            title=\"Convert this dataframe to an interactive table.\"\n",
              "            style=\"display:none;\">\n",
              "\n",
              "  <svg xmlns=\"http://www.w3.org/2000/svg\" height=\"24px\" viewBox=\"0 -960 960 960\">\n",
              "    <path d=\"M120-120v-720h720v720H120Zm60-500h600v-160H180v160Zm220 220h160v-160H400v160Zm0 220h160v-160H400v160ZM180-400h160v-160H180v160Zm440 0h160v-160H620v160ZM180-180h160v-160H180v160Zm440 0h160v-160H620v160Z\"/>\n",
              "  </svg>\n",
              "    </button>\n",
              "\n",
              "  <style>\n",
              "    .colab-df-container {\n",
              "      display:flex;\n",
              "      gap: 12px;\n",
              "    }\n",
              "\n",
              "    .colab-df-convert {\n",
              "      background-color: #E8F0FE;\n",
              "      border: none;\n",
              "      border-radius: 50%;\n",
              "      cursor: pointer;\n",
              "      display: none;\n",
              "      fill: #1967D2;\n",
              "      height: 32px;\n",
              "      padding: 0 0 0 0;\n",
              "      width: 32px;\n",
              "    }\n",
              "\n",
              "    .colab-df-convert:hover {\n",
              "      background-color: #E2EBFA;\n",
              "      box-shadow: 0px 1px 2px rgba(60, 64, 67, 0.3), 0px 1px 3px 1px rgba(60, 64, 67, 0.15);\n",
              "      fill: #174EA6;\n",
              "    }\n",
              "\n",
              "    .colab-df-buttons div {\n",
              "      margin-bottom: 4px;\n",
              "    }\n",
              "\n",
              "    [theme=dark] .colab-df-convert {\n",
              "      background-color: #3B4455;\n",
              "      fill: #D2E3FC;\n",
              "    }\n",
              "\n",
              "    [theme=dark] .colab-df-convert:hover {\n",
              "      background-color: #434B5C;\n",
              "      box-shadow: 0px 1px 3px 1px rgba(0, 0, 0, 0.15);\n",
              "      filter: drop-shadow(0px 1px 2px rgba(0, 0, 0, 0.3));\n",
              "      fill: #FFFFFF;\n",
              "    }\n",
              "  </style>\n",
              "\n",
              "    <script>\n",
              "      const buttonEl =\n",
              "        document.querySelector('#df-97386727-f6fd-4f0f-9bc6-8bd96ccbac13 button.colab-df-convert');\n",
              "      buttonEl.style.display =\n",
              "        google.colab.kernel.accessAllowed ? 'block' : 'none';\n",
              "\n",
              "      async function convertToInteractive(key) {\n",
              "        const element = document.querySelector('#df-97386727-f6fd-4f0f-9bc6-8bd96ccbac13');\n",
              "        const dataTable =\n",
              "          await google.colab.kernel.invokeFunction('convertToInteractive',\n",
              "                                                    [key], {});\n",
              "        if (!dataTable) return;\n",
              "\n",
              "        const docLinkHtml = 'Like what you see? Visit the ' +\n",
              "          '<a target=\"_blank\" href=https://colab.research.google.com/notebooks/data_table.ipynb>data table notebook</a>'\n",
              "          + ' to learn more about interactive tables.';\n",
              "        element.innerHTML = '';\n",
              "        dataTable['output_type'] = 'display_data';\n",
              "        await google.colab.output.renderOutput(dataTable, element);\n",
              "        const docLink = document.createElement('div');\n",
              "        docLink.innerHTML = docLinkHtml;\n",
              "        element.appendChild(docLink);\n",
              "      }\n",
              "    </script>\n",
              "  </div>\n",
              "\n",
              "\n",
              "<div id=\"df-c4ba1377-6e87-477a-be1c-f06ce89a885a\">\n",
              "  <button class=\"colab-df-quickchart\" onclick=\"quickchart('df-c4ba1377-6e87-477a-be1c-f06ce89a885a')\"\n",
              "            title=\"Suggest charts\"\n",
              "            style=\"display:none;\">\n",
              "\n",
              "<svg xmlns=\"http://www.w3.org/2000/svg\" height=\"24px\"viewBox=\"0 0 24 24\"\n",
              "     width=\"24px\">\n",
              "    <g>\n",
              "        <path d=\"M19 3H5c-1.1 0-2 .9-2 2v14c0 1.1.9 2 2 2h14c1.1 0 2-.9 2-2V5c0-1.1-.9-2-2-2zM9 17H7v-7h2v7zm4 0h-2V7h2v10zm4 0h-2v-4h2v4z\"/>\n",
              "    </g>\n",
              "</svg>\n",
              "  </button>\n",
              "\n",
              "<style>\n",
              "  .colab-df-quickchart {\n",
              "      --bg-color: #E8F0FE;\n",
              "      --fill-color: #1967D2;\n",
              "      --hover-bg-color: #E2EBFA;\n",
              "      --hover-fill-color: #174EA6;\n",
              "      --disabled-fill-color: #AAA;\n",
              "      --disabled-bg-color: #DDD;\n",
              "  }\n",
              "\n",
              "  [theme=dark] .colab-df-quickchart {\n",
              "      --bg-color: #3B4455;\n",
              "      --fill-color: #D2E3FC;\n",
              "      --hover-bg-color: #434B5C;\n",
              "      --hover-fill-color: #FFFFFF;\n",
              "      --disabled-bg-color: #3B4455;\n",
              "      --disabled-fill-color: #666;\n",
              "  }\n",
              "\n",
              "  .colab-df-quickchart {\n",
              "    background-color: var(--bg-color);\n",
              "    border: none;\n",
              "    border-radius: 50%;\n",
              "    cursor: pointer;\n",
              "    display: none;\n",
              "    fill: var(--fill-color);\n",
              "    height: 32px;\n",
              "    padding: 0;\n",
              "    width: 32px;\n",
              "  }\n",
              "\n",
              "  .colab-df-quickchart:hover {\n",
              "    background-color: var(--hover-bg-color);\n",
              "    box-shadow: 0 1px 2px rgba(60, 64, 67, 0.3), 0 1px 3px 1px rgba(60, 64, 67, 0.15);\n",
              "    fill: var(--button-hover-fill-color);\n",
              "  }\n",
              "\n",
              "  .colab-df-quickchart-complete:disabled,\n",
              "  .colab-df-quickchart-complete:disabled:hover {\n",
              "    background-color: var(--disabled-bg-color);\n",
              "    fill: var(--disabled-fill-color);\n",
              "    box-shadow: none;\n",
              "  }\n",
              "\n",
              "  .colab-df-spinner {\n",
              "    border: 2px solid var(--fill-color);\n",
              "    border-color: transparent;\n",
              "    border-bottom-color: var(--fill-color);\n",
              "    animation:\n",
              "      spin 1s steps(1) infinite;\n",
              "  }\n",
              "\n",
              "  @keyframes spin {\n",
              "    0% {\n",
              "      border-color: transparent;\n",
              "      border-bottom-color: var(--fill-color);\n",
              "      border-left-color: var(--fill-color);\n",
              "    }\n",
              "    20% {\n",
              "      border-color: transparent;\n",
              "      border-left-color: var(--fill-color);\n",
              "      border-top-color: var(--fill-color);\n",
              "    }\n",
              "    30% {\n",
              "      border-color: transparent;\n",
              "      border-left-color: var(--fill-color);\n",
              "      border-top-color: var(--fill-color);\n",
              "      border-right-color: var(--fill-color);\n",
              "    }\n",
              "    40% {\n",
              "      border-color: transparent;\n",
              "      border-right-color: var(--fill-color);\n",
              "      border-top-color: var(--fill-color);\n",
              "    }\n",
              "    60% {\n",
              "      border-color: transparent;\n",
              "      border-right-color: var(--fill-color);\n",
              "    }\n",
              "    80% {\n",
              "      border-color: transparent;\n",
              "      border-right-color: var(--fill-color);\n",
              "      border-bottom-color: var(--fill-color);\n",
              "    }\n",
              "    90% {\n",
              "      border-color: transparent;\n",
              "      border-bottom-color: var(--fill-color);\n",
              "    }\n",
              "  }\n",
              "</style>\n",
              "\n",
              "  <script>\n",
              "    async function quickchart(key) {\n",
              "      const quickchartButtonEl =\n",
              "        document.querySelector('#' + key + ' button');\n",
              "      quickchartButtonEl.disabled = true;  // To prevent multiple clicks.\n",
              "      quickchartButtonEl.classList.add('colab-df-spinner');\n",
              "      try {\n",
              "        const charts = await google.colab.kernel.invokeFunction(\n",
              "            'suggestCharts', [key], {});\n",
              "      } catch (error) {\n",
              "        console.error('Error during call to suggestCharts:', error);\n",
              "      }\n",
              "      quickchartButtonEl.classList.remove('colab-df-spinner');\n",
              "      quickchartButtonEl.classList.add('colab-df-quickchart-complete');\n",
              "    }\n",
              "    (() => {\n",
              "      let quickchartButtonEl =\n",
              "        document.querySelector('#df-c4ba1377-6e87-477a-be1c-f06ce89a885a button');\n",
              "      quickchartButtonEl.style.display =\n",
              "        google.colab.kernel.accessAllowed ? 'block' : 'none';\n",
              "    })();\n",
              "  </script>\n",
              "</div>\n",
              "    </div>\n",
              "  </div>\n"
            ]
          },
          "metadata": {},
          "execution_count": 7
        }
      ]
    },
    {
      "cell_type": "markdown",
      "source": [
        "Prints the last five rows of the dataset"
      ],
      "metadata": {
        "id": "FmIkBGGYzPLu"
      }
    },
    {
      "cell_type": "code",
      "source": [
        "data.tail()"
      ],
      "metadata": {
        "colab": {
          "base_uri": "https://localhost:8080/",
          "height": 446
        },
        "id": "VlwLaQzWI5-I",
        "outputId": "87c9da2f-1f98-4fec-c02c-35cedeb39e2a"
      },
      "execution_count": null,
      "outputs": [
        {
          "output_type": "execute_result",
          "data": {
            "text/plain": [
              "       CASE_STATE  AGE     SEX                                PERSON_TYPE  \\\n",
              "100963    Wyoming   10  Female  Passenger_of_a_Motor_Vehicle_in_Transport   \n",
              "100964    Wyoming    9  Female  Passenger_of_a_Motor_Vehicle_in_Transport   \n",
              "100965    Wyoming    7  Female  Passenger_of_a_Motor_Vehicle_in_Transport   \n",
              "100966    Wyoming    4  Female  Passenger_of_a_Motor_Vehicle_in_Transport   \n",
              "100967    Wyoming   61    Male                                     Driver   \n",
              "\n",
              "                             SEATING_POSITION      RESTRAINT_SYSTEM-USE  \\\n",
              "100963                Second_Seat_-_Left_Side     Lap_and_Shoulder_Belt   \n",
              "100964               Second_Seat_-_Right_Side     Lap_and_Shoulder_Belt   \n",
              "100965                   Second_Seat_-_Middle                  Lap_Belt   \n",
              "100966                   Second_Seat_-_Middle                  Lap_Belt   \n",
              "100967  Front_Seat_-_Left_Side_(Drivers_Side)  None_Used/Not_Applicable   \n",
              "\n",
              "            AIR_BAG_AVAILABILITY/DEPLOYMENT     EJECTION  \\\n",
              "100963  Air_Bag_Not_Available_for_this_Seat  Not_Ejected   \n",
              "100964  Air_Bag_Not_Available_for_this_Seat  Not_Ejected   \n",
              "100965  Air_Bag_Not_Available_for_this_Seat  Not_Ejected   \n",
              "100966  Air_Bag_Not_Available_for_this_Seat  Not_Ejected   \n",
              "100967  Air_Bag_Not_Available_for_this_Seat  Not_Ejected   \n",
              "\n",
              "                     EJECTION_PATH     EXTRICATION  ...  \\\n",
              "100963  Not_Ejected/Not_Applicable  Not_Extricated  ...   \n",
              "100964  Not_Ejected/Not_Applicable  Not_Extricated  ...   \n",
              "100965  Not_Ejected/Not_Applicable  Not_Extricated  ...   \n",
              "100966  Not_Ejected/Not_Applicable  Not_Extricated  ...   \n",
              "100967  Not_Ejected/Not_Applicable  Not_Extricated  ...   \n",
              "\n",
              "       DRUG_TEST_RESULTS_(2_of_3) DRUG_TEST_TYPE_(3_of_3)  \\\n",
              "100963                          0    Not_Tested_for_Drugs   \n",
              "100964                          0    Not_Tested_for_Drugs   \n",
              "100965                          0    Not_Tested_for_Drugs   \n",
              "100966                          0    Not_Tested_for_Drugs   \n",
              "100967                          0    Not_Tested_for_Drugs   \n",
              "\n",
              "       DRUG_TEST_RESULTS_(3_of_3)  \\\n",
              "100963                          0   \n",
              "100964                          0   \n",
              "100965                          0   \n",
              "100966                          0   \n",
              "100967                          0   \n",
              "\n",
              "                                        HISPANIC_ORIGIN  TAKEN_TO_HOSPITAL  \\\n",
              "100963                  Not_a_Fatality_(Not_Applicable)                Yes   \n",
              "100964                  Not_a_Fatality_(Not_Applicable)                Yes   \n",
              "100965                  Not_a_Fatality_(Not_Applicable)                Yes   \n",
              "100966                  Not_a_Fatality_(Not_Applicable)                Yes   \n",
              "100967  Hispanic_-_Origin_Not_Specified_or_Other_Origin                 No   \n",
              "\n",
              "                         RELATED_FACTOR_(1)-PERSON_LEVEL  \\\n",
              "100963  Not_Applicable_-_Driver/None_-_All_Other_Persons   \n",
              "100964  Not_Applicable_-_Driver/None_-_All_Other_Persons   \n",
              "100965  Not_Applicable_-_Driver/None_-_All_Other_Persons   \n",
              "100966  Not_Applicable_-_Driver/None_-_All_Other_Persons   \n",
              "100967  Not_Applicable_-_Driver/None_-_All_Other_Persons   \n",
              "\n",
              "                         RELATED_FACTOR_(2)-PERSON_LEVEL  \\\n",
              "100963  Not_Applicable_-_Driver/None_-_All_Other_Persons   \n",
              "100964  Not_Applicable_-_Driver/None_-_All_Other_Persons   \n",
              "100965  Not_Applicable_-_Driver/None_-_All_Other_Persons   \n",
              "100966  Not_Applicable_-_Driver/None_-_All_Other_Persons   \n",
              "100967  Not_Applicable_-_Driver/None_-_All_Other_Persons   \n",
              "\n",
              "                         RELATED_FACTOR_(3)-PERSON_LEVEL  \\\n",
              "100963  Not_Applicable_-_Driver/None_-_All_Other_Persons   \n",
              "100964  Not_Applicable_-_Driver/None_-_All_Other_Persons   \n",
              "100965  Not_Applicable_-_Driver/None_-_All_Other_Persons   \n",
              "100966  Not_Applicable_-_Driver/None_-_All_Other_Persons   \n",
              "100967  Not_Applicable_-_Driver/None_-_All_Other_Persons   \n",
              "\n",
              "                                   RACE  INJURY_SEVERITY  \n",
              "100963  Not_a_Fatality_(Not_Applicable)  Possible_Injury  \n",
              "100964  Not_a_Fatality_(Not_Applicable)  Possible_Injury  \n",
              "100965  Not_a_Fatality_(Not_Applicable)  Possible_Injury  \n",
              "100966  Not_a_Fatality_(Not_Applicable)  Possible_Injury  \n",
              "100967                            White     Fatal_Injury  \n",
              "\n",
              "[5 rows x 30 columns]"
            ],
            "text/html": [
              "\n",
              "  <div id=\"df-4c3b022a-4cef-4f6f-aa7f-9d9c6be0765c\" class=\"colab-df-container\">\n",
              "    <div>\n",
              "<style scoped>\n",
              "    .dataframe tbody tr th:only-of-type {\n",
              "        vertical-align: middle;\n",
              "    }\n",
              "\n",
              "    .dataframe tbody tr th {\n",
              "        vertical-align: top;\n",
              "    }\n",
              "\n",
              "    .dataframe thead th {\n",
              "        text-align: right;\n",
              "    }\n",
              "</style>\n",
              "<table border=\"1\" class=\"dataframe\">\n",
              "  <thead>\n",
              "    <tr style=\"text-align: right;\">\n",
              "      <th></th>\n",
              "      <th>CASE_STATE</th>\n",
              "      <th>AGE</th>\n",
              "      <th>SEX</th>\n",
              "      <th>PERSON_TYPE</th>\n",
              "      <th>SEATING_POSITION</th>\n",
              "      <th>RESTRAINT_SYSTEM-USE</th>\n",
              "      <th>AIR_BAG_AVAILABILITY/DEPLOYMENT</th>\n",
              "      <th>EJECTION</th>\n",
              "      <th>EJECTION_PATH</th>\n",
              "      <th>EXTRICATION</th>\n",
              "      <th>...</th>\n",
              "      <th>DRUG_TEST_RESULTS_(2_of_3)</th>\n",
              "      <th>DRUG_TEST_TYPE_(3_of_3)</th>\n",
              "      <th>DRUG_TEST_RESULTS_(3_of_3)</th>\n",
              "      <th>HISPANIC_ORIGIN</th>\n",
              "      <th>TAKEN_TO_HOSPITAL</th>\n",
              "      <th>RELATED_FACTOR_(1)-PERSON_LEVEL</th>\n",
              "      <th>RELATED_FACTOR_(2)-PERSON_LEVEL</th>\n",
              "      <th>RELATED_FACTOR_(3)-PERSON_LEVEL</th>\n",
              "      <th>RACE</th>\n",
              "      <th>INJURY_SEVERITY</th>\n",
              "    </tr>\n",
              "  </thead>\n",
              "  <tbody>\n",
              "    <tr>\n",
              "      <th>100963</th>\n",
              "      <td>Wyoming</td>\n",
              "      <td>10</td>\n",
              "      <td>Female</td>\n",
              "      <td>Passenger_of_a_Motor_Vehicle_in_Transport</td>\n",
              "      <td>Second_Seat_-_Left_Side</td>\n",
              "      <td>Lap_and_Shoulder_Belt</td>\n",
              "      <td>Air_Bag_Not_Available_for_this_Seat</td>\n",
              "      <td>Not_Ejected</td>\n",
              "      <td>Not_Ejected/Not_Applicable</td>\n",
              "      <td>Not_Extricated</td>\n",
              "      <td>...</td>\n",
              "      <td>0</td>\n",
              "      <td>Not_Tested_for_Drugs</td>\n",
              "      <td>0</td>\n",
              "      <td>Not_a_Fatality_(Not_Applicable)</td>\n",
              "      <td>Yes</td>\n",
              "      <td>Not_Applicable_-_Driver/None_-_All_Other_Persons</td>\n",
              "      <td>Not_Applicable_-_Driver/None_-_All_Other_Persons</td>\n",
              "      <td>Not_Applicable_-_Driver/None_-_All_Other_Persons</td>\n",
              "      <td>Not_a_Fatality_(Not_Applicable)</td>\n",
              "      <td>Possible_Injury</td>\n",
              "    </tr>\n",
              "    <tr>\n",
              "      <th>100964</th>\n",
              "      <td>Wyoming</td>\n",
              "      <td>9</td>\n",
              "      <td>Female</td>\n",
              "      <td>Passenger_of_a_Motor_Vehicle_in_Transport</td>\n",
              "      <td>Second_Seat_-_Right_Side</td>\n",
              "      <td>Lap_and_Shoulder_Belt</td>\n",
              "      <td>Air_Bag_Not_Available_for_this_Seat</td>\n",
              "      <td>Not_Ejected</td>\n",
              "      <td>Not_Ejected/Not_Applicable</td>\n",
              "      <td>Not_Extricated</td>\n",
              "      <td>...</td>\n",
              "      <td>0</td>\n",
              "      <td>Not_Tested_for_Drugs</td>\n",
              "      <td>0</td>\n",
              "      <td>Not_a_Fatality_(Not_Applicable)</td>\n",
              "      <td>Yes</td>\n",
              "      <td>Not_Applicable_-_Driver/None_-_All_Other_Persons</td>\n",
              "      <td>Not_Applicable_-_Driver/None_-_All_Other_Persons</td>\n",
              "      <td>Not_Applicable_-_Driver/None_-_All_Other_Persons</td>\n",
              "      <td>Not_a_Fatality_(Not_Applicable)</td>\n",
              "      <td>Possible_Injury</td>\n",
              "    </tr>\n",
              "    <tr>\n",
              "      <th>100965</th>\n",
              "      <td>Wyoming</td>\n",
              "      <td>7</td>\n",
              "      <td>Female</td>\n",
              "      <td>Passenger_of_a_Motor_Vehicle_in_Transport</td>\n",
              "      <td>Second_Seat_-_Middle</td>\n",
              "      <td>Lap_Belt</td>\n",
              "      <td>Air_Bag_Not_Available_for_this_Seat</td>\n",
              "      <td>Not_Ejected</td>\n",
              "      <td>Not_Ejected/Not_Applicable</td>\n",
              "      <td>Not_Extricated</td>\n",
              "      <td>...</td>\n",
              "      <td>0</td>\n",
              "      <td>Not_Tested_for_Drugs</td>\n",
              "      <td>0</td>\n",
              "      <td>Not_a_Fatality_(Not_Applicable)</td>\n",
              "      <td>Yes</td>\n",
              "      <td>Not_Applicable_-_Driver/None_-_All_Other_Persons</td>\n",
              "      <td>Not_Applicable_-_Driver/None_-_All_Other_Persons</td>\n",
              "      <td>Not_Applicable_-_Driver/None_-_All_Other_Persons</td>\n",
              "      <td>Not_a_Fatality_(Not_Applicable)</td>\n",
              "      <td>Possible_Injury</td>\n",
              "    </tr>\n",
              "    <tr>\n",
              "      <th>100966</th>\n",
              "      <td>Wyoming</td>\n",
              "      <td>4</td>\n",
              "      <td>Female</td>\n",
              "      <td>Passenger_of_a_Motor_Vehicle_in_Transport</td>\n",
              "      <td>Second_Seat_-_Middle</td>\n",
              "      <td>Lap_Belt</td>\n",
              "      <td>Air_Bag_Not_Available_for_this_Seat</td>\n",
              "      <td>Not_Ejected</td>\n",
              "      <td>Not_Ejected/Not_Applicable</td>\n",
              "      <td>Not_Extricated</td>\n",
              "      <td>...</td>\n",
              "      <td>0</td>\n",
              "      <td>Not_Tested_for_Drugs</td>\n",
              "      <td>0</td>\n",
              "      <td>Not_a_Fatality_(Not_Applicable)</td>\n",
              "      <td>Yes</td>\n",
              "      <td>Not_Applicable_-_Driver/None_-_All_Other_Persons</td>\n",
              "      <td>Not_Applicable_-_Driver/None_-_All_Other_Persons</td>\n",
              "      <td>Not_Applicable_-_Driver/None_-_All_Other_Persons</td>\n",
              "      <td>Not_a_Fatality_(Not_Applicable)</td>\n",
              "      <td>Possible_Injury</td>\n",
              "    </tr>\n",
              "    <tr>\n",
              "      <th>100967</th>\n",
              "      <td>Wyoming</td>\n",
              "      <td>61</td>\n",
              "      <td>Male</td>\n",
              "      <td>Driver</td>\n",
              "      <td>Front_Seat_-_Left_Side_(Drivers_Side)</td>\n",
              "      <td>None_Used/Not_Applicable</td>\n",
              "      <td>Air_Bag_Not_Available_for_this_Seat</td>\n",
              "      <td>Not_Ejected</td>\n",
              "      <td>Not_Ejected/Not_Applicable</td>\n",
              "      <td>Not_Extricated</td>\n",
              "      <td>...</td>\n",
              "      <td>0</td>\n",
              "      <td>Not_Tested_for_Drugs</td>\n",
              "      <td>0</td>\n",
              "      <td>Hispanic_-_Origin_Not_Specified_or_Other_Origin</td>\n",
              "      <td>No</td>\n",
              "      <td>Not_Applicable_-_Driver/None_-_All_Other_Persons</td>\n",
              "      <td>Not_Applicable_-_Driver/None_-_All_Other_Persons</td>\n",
              "      <td>Not_Applicable_-_Driver/None_-_All_Other_Persons</td>\n",
              "      <td>White</td>\n",
              "      <td>Fatal_Injury</td>\n",
              "    </tr>\n",
              "  </tbody>\n",
              "</table>\n",
              "<p>5 rows × 30 columns</p>\n",
              "</div>\n",
              "    <div class=\"colab-df-buttons\">\n",
              "\n",
              "  <div class=\"colab-df-container\">\n",
              "    <button class=\"colab-df-convert\" onclick=\"convertToInteractive('df-4c3b022a-4cef-4f6f-aa7f-9d9c6be0765c')\"\n",
              "            title=\"Convert this dataframe to an interactive table.\"\n",
              "            style=\"display:none;\">\n",
              "\n",
              "  <svg xmlns=\"http://www.w3.org/2000/svg\" height=\"24px\" viewBox=\"0 -960 960 960\">\n",
              "    <path d=\"M120-120v-720h720v720H120Zm60-500h600v-160H180v160Zm220 220h160v-160H400v160Zm0 220h160v-160H400v160ZM180-400h160v-160H180v160Zm440 0h160v-160H620v160ZM180-180h160v-160H180v160Zm440 0h160v-160H620v160Z\"/>\n",
              "  </svg>\n",
              "    </button>\n",
              "\n",
              "  <style>\n",
              "    .colab-df-container {\n",
              "      display:flex;\n",
              "      gap: 12px;\n",
              "    }\n",
              "\n",
              "    .colab-df-convert {\n",
              "      background-color: #E8F0FE;\n",
              "      border: none;\n",
              "      border-radius: 50%;\n",
              "      cursor: pointer;\n",
              "      display: none;\n",
              "      fill: #1967D2;\n",
              "      height: 32px;\n",
              "      padding: 0 0 0 0;\n",
              "      width: 32px;\n",
              "    }\n",
              "\n",
              "    .colab-df-convert:hover {\n",
              "      background-color: #E2EBFA;\n",
              "      box-shadow: 0px 1px 2px rgba(60, 64, 67, 0.3), 0px 1px 3px 1px rgba(60, 64, 67, 0.15);\n",
              "      fill: #174EA6;\n",
              "    }\n",
              "\n",
              "    .colab-df-buttons div {\n",
              "      margin-bottom: 4px;\n",
              "    }\n",
              "\n",
              "    [theme=dark] .colab-df-convert {\n",
              "      background-color: #3B4455;\n",
              "      fill: #D2E3FC;\n",
              "    }\n",
              "\n",
              "    [theme=dark] .colab-df-convert:hover {\n",
              "      background-color: #434B5C;\n",
              "      box-shadow: 0px 1px 3px 1px rgba(0, 0, 0, 0.15);\n",
              "      filter: drop-shadow(0px 1px 2px rgba(0, 0, 0, 0.3));\n",
              "      fill: #FFFFFF;\n",
              "    }\n",
              "  </style>\n",
              "\n",
              "    <script>\n",
              "      const buttonEl =\n",
              "        document.querySelector('#df-4c3b022a-4cef-4f6f-aa7f-9d9c6be0765c button.colab-df-convert');\n",
              "      buttonEl.style.display =\n",
              "        google.colab.kernel.accessAllowed ? 'block' : 'none';\n",
              "\n",
              "      async function convertToInteractive(key) {\n",
              "        const element = document.querySelector('#df-4c3b022a-4cef-4f6f-aa7f-9d9c6be0765c');\n",
              "        const dataTable =\n",
              "          await google.colab.kernel.invokeFunction('convertToInteractive',\n",
              "                                                    [key], {});\n",
              "        if (!dataTable) return;\n",
              "\n",
              "        const docLinkHtml = 'Like what you see? Visit the ' +\n",
              "          '<a target=\"_blank\" href=https://colab.research.google.com/notebooks/data_table.ipynb>data table notebook</a>'\n",
              "          + ' to learn more about interactive tables.';\n",
              "        element.innerHTML = '';\n",
              "        dataTable['output_type'] = 'display_data';\n",
              "        await google.colab.output.renderOutput(dataTable, element);\n",
              "        const docLink = document.createElement('div');\n",
              "        docLink.innerHTML = docLinkHtml;\n",
              "        element.appendChild(docLink);\n",
              "      }\n",
              "    </script>\n",
              "  </div>\n",
              "\n",
              "\n",
              "<div id=\"df-b38b110c-2dee-4ce7-b520-cd83858da4e0\">\n",
              "  <button class=\"colab-df-quickchart\" onclick=\"quickchart('df-b38b110c-2dee-4ce7-b520-cd83858da4e0')\"\n",
              "            title=\"Suggest charts\"\n",
              "            style=\"display:none;\">\n",
              "\n",
              "<svg xmlns=\"http://www.w3.org/2000/svg\" height=\"24px\"viewBox=\"0 0 24 24\"\n",
              "     width=\"24px\">\n",
              "    <g>\n",
              "        <path d=\"M19 3H5c-1.1 0-2 .9-2 2v14c0 1.1.9 2 2 2h14c1.1 0 2-.9 2-2V5c0-1.1-.9-2-2-2zM9 17H7v-7h2v7zm4 0h-2V7h2v10zm4 0h-2v-4h2v4z\"/>\n",
              "    </g>\n",
              "</svg>\n",
              "  </button>\n",
              "\n",
              "<style>\n",
              "  .colab-df-quickchart {\n",
              "      --bg-color: #E8F0FE;\n",
              "      --fill-color: #1967D2;\n",
              "      --hover-bg-color: #E2EBFA;\n",
              "      --hover-fill-color: #174EA6;\n",
              "      --disabled-fill-color: #AAA;\n",
              "      --disabled-bg-color: #DDD;\n",
              "  }\n",
              "\n",
              "  [theme=dark] .colab-df-quickchart {\n",
              "      --bg-color: #3B4455;\n",
              "      --fill-color: #D2E3FC;\n",
              "      --hover-bg-color: #434B5C;\n",
              "      --hover-fill-color: #FFFFFF;\n",
              "      --disabled-bg-color: #3B4455;\n",
              "      --disabled-fill-color: #666;\n",
              "  }\n",
              "\n",
              "  .colab-df-quickchart {\n",
              "    background-color: var(--bg-color);\n",
              "    border: none;\n",
              "    border-radius: 50%;\n",
              "    cursor: pointer;\n",
              "    display: none;\n",
              "    fill: var(--fill-color);\n",
              "    height: 32px;\n",
              "    padding: 0;\n",
              "    width: 32px;\n",
              "  }\n",
              "\n",
              "  .colab-df-quickchart:hover {\n",
              "    background-color: var(--hover-bg-color);\n",
              "    box-shadow: 0 1px 2px rgba(60, 64, 67, 0.3), 0 1px 3px 1px rgba(60, 64, 67, 0.15);\n",
              "    fill: var(--button-hover-fill-color);\n",
              "  }\n",
              "\n",
              "  .colab-df-quickchart-complete:disabled,\n",
              "  .colab-df-quickchart-complete:disabled:hover {\n",
              "    background-color: var(--disabled-bg-color);\n",
              "    fill: var(--disabled-fill-color);\n",
              "    box-shadow: none;\n",
              "  }\n",
              "\n",
              "  .colab-df-spinner {\n",
              "    border: 2px solid var(--fill-color);\n",
              "    border-color: transparent;\n",
              "    border-bottom-color: var(--fill-color);\n",
              "    animation:\n",
              "      spin 1s steps(1) infinite;\n",
              "  }\n",
              "\n",
              "  @keyframes spin {\n",
              "    0% {\n",
              "      border-color: transparent;\n",
              "      border-bottom-color: var(--fill-color);\n",
              "      border-left-color: var(--fill-color);\n",
              "    }\n",
              "    20% {\n",
              "      border-color: transparent;\n",
              "      border-left-color: var(--fill-color);\n",
              "      border-top-color: var(--fill-color);\n",
              "    }\n",
              "    30% {\n",
              "      border-color: transparent;\n",
              "      border-left-color: var(--fill-color);\n",
              "      border-top-color: var(--fill-color);\n",
              "      border-right-color: var(--fill-color);\n",
              "    }\n",
              "    40% {\n",
              "      border-color: transparent;\n",
              "      border-right-color: var(--fill-color);\n",
              "      border-top-color: var(--fill-color);\n",
              "    }\n",
              "    60% {\n",
              "      border-color: transparent;\n",
              "      border-right-color: var(--fill-color);\n",
              "    }\n",
              "    80% {\n",
              "      border-color: transparent;\n",
              "      border-right-color: var(--fill-color);\n",
              "      border-bottom-color: var(--fill-color);\n",
              "    }\n",
              "    90% {\n",
              "      border-color: transparent;\n",
              "      border-bottom-color: var(--fill-color);\n",
              "    }\n",
              "  }\n",
              "</style>\n",
              "\n",
              "  <script>\n",
              "    async function quickchart(key) {\n",
              "      const quickchartButtonEl =\n",
              "        document.querySelector('#' + key + ' button');\n",
              "      quickchartButtonEl.disabled = true;  // To prevent multiple clicks.\n",
              "      quickchartButtonEl.classList.add('colab-df-spinner');\n",
              "      try {\n",
              "        const charts = await google.colab.kernel.invokeFunction(\n",
              "            'suggestCharts', [key], {});\n",
              "      } catch (error) {\n",
              "        console.error('Error during call to suggestCharts:', error);\n",
              "      }\n",
              "      quickchartButtonEl.classList.remove('colab-df-spinner');\n",
              "      quickchartButtonEl.classList.add('colab-df-quickchart-complete');\n",
              "    }\n",
              "    (() => {\n",
              "      let quickchartButtonEl =\n",
              "        document.querySelector('#df-b38b110c-2dee-4ce7-b520-cd83858da4e0 button');\n",
              "      quickchartButtonEl.style.display =\n",
              "        google.colab.kernel.accessAllowed ? 'block' : 'none';\n",
              "    })();\n",
              "  </script>\n",
              "</div>\n",
              "    </div>\n",
              "  </div>\n"
            ]
          },
          "metadata": {},
          "execution_count": 8
        }
      ]
    },
    {
      "cell_type": "markdown",
      "source": [
        "#Data Cleaning"
      ],
      "metadata": {
        "id": "z76RB__5vC89"
      }
    },
    {
      "cell_type": "markdown",
      "source": [
        "In the process of data cleaning we are preparing the quality data which will be useful in training the models further.It involves different aspect like  checking missing values,eliminating Duplicates.\n"
      ],
      "metadata": {
        "id": "C91cE-5qvMk1"
      }
    },
    {
      "cell_type": "markdown",
      "source": [
        "##Check for Null Values\n",
        "isnull().sum()-function calculates  the number of missing values present in each column        \n",
        "len(data)-this function returns the number of rows in each column    \n",
        "In the percent_missing we are calculates the percentage of missing values present in each column."
      ],
      "metadata": {
        "id": "SS2ibwv1mBAN"
      }
    },
    {
      "cell_type": "code",
      "source": [
        "percent_missing = round(data.isnull().sum()/len(data)*100,2)\n",
        "percent_missing"
      ],
      "metadata": {
        "colab": {
          "base_uri": "https://localhost:8080/"
        },
        "id": "6qze7C0BI6Am",
        "outputId": "22d0ccd4-345e-4137-8823-14476ae845f9"
      },
      "execution_count": null,
      "outputs": [
        {
          "output_type": "execute_result",
          "data": {
            "text/plain": [
              "CASE_STATE                             0.0\n",
              "AGE                                    0.0\n",
              "SEX                                    0.0\n",
              "PERSON_TYPE                            0.0\n",
              "SEATING_POSITION                       0.0\n",
              "RESTRAINT_SYSTEM-USE                   0.0\n",
              "AIR_BAG_AVAILABILITY/DEPLOYMENT        0.0\n",
              "EJECTION                               0.0\n",
              "EJECTION_PATH                          0.0\n",
              "EXTRICATION                            0.0\n",
              "NON_MOTORIST_LOCATION                  0.0\n",
              "POLICE_REPORTED_ALCOHOL_INVOLVEMENT    0.0\n",
              "METHOD_ALCOHOL_DETERMINATION           0.0\n",
              "ALCOHOL_TEST_TYPE                      0.0\n",
              "ALCOHOL_TEST_RESULT                    0.0\n",
              "POLICE-REPORTED_DRUG_INVOLVEMENT       0.0\n",
              "METHOD_OF_DRUG_DETERMINATION           0.0\n",
              "DRUG_TEST_TYPE_(1_of_3)                0.0\n",
              "DRUG_TEST_RESULTS_(1_of_3)             0.0\n",
              "DRUG_TEST_TYPE_(2_of_3)                0.0\n",
              "DRUG_TEST_RESULTS_(2_of_3)             0.0\n",
              "DRUG_TEST_TYPE_(3_of_3)                0.0\n",
              "DRUG_TEST_RESULTS_(3_of_3)             0.0\n",
              "HISPANIC_ORIGIN                        0.0\n",
              "TAKEN_TO_HOSPITAL                      0.0\n",
              "RELATED_FACTOR_(1)-PERSON_LEVEL        0.0\n",
              "RELATED_FACTOR_(2)-PERSON_LEVEL        0.0\n",
              "RELATED_FACTOR_(3)-PERSON_LEVEL        0.0\n",
              "RACE                                   0.0\n",
              "INJURY_SEVERITY                        0.0\n",
              "dtype: float64"
            ]
          },
          "metadata": {},
          "execution_count": 9
        }
      ]
    },
    {
      "cell_type": "markdown",
      "source": [
        "##Check for duplicate values\n",
        "In the below code we are finding the duplicate rows in the dataset."
      ],
      "metadata": {
        "id": "ujH8BEY-mGLs"
      }
    },
    {
      "cell_type": "code",
      "source": [
        "data.duplicated()"
      ],
      "metadata": {
        "colab": {
          "base_uri": "https://localhost:8080/"
        },
        "id": "KjdFbvhSI6DD",
        "outputId": "82d52f5d-2db0-43bf-eda0-cb507efbe78b"
      },
      "execution_count": null,
      "outputs": [
        {
          "output_type": "execute_result",
          "data": {
            "text/plain": [
              "0         False\n",
              "1         False\n",
              "2         False\n",
              "3         False\n",
              "4         False\n",
              "          ...  \n",
              "100963    False\n",
              "100964    False\n",
              "100965    False\n",
              "100966    False\n",
              "100967    False\n",
              "Length: 100968, dtype: bool"
            ]
          },
          "metadata": {},
          "execution_count": 10
        }
      ]
    },
    {
      "cell_type": "markdown",
      "source": [
        "##Remove Duplicate values from the dataset\n",
        "\n",
        "Droping the duplicates values present in the dataset"
      ],
      "metadata": {
        "id": "4mYcAuhdmKKA"
      }
    },
    {
      "cell_type": "code",
      "source": [
        "data.drop_duplicates(inplace=True)"
      ],
      "metadata": {
        "id": "n9I3QNhQI6FZ"
      },
      "execution_count": null,
      "outputs": []
    },
    {
      "cell_type": "markdown",
      "source": [
        "#Size of dataset after removing null and duplicate\n",
        "\n",
        "After removing the duplicates number of rows are 93004 and columns are 30."
      ],
      "metadata": {
        "id": "pPsrbK82mSLS"
      }
    },
    {
      "cell_type": "code",
      "source": [
        "data.shape"
      ],
      "metadata": {
        "colab": {
          "base_uri": "https://localhost:8080/"
        },
        "id": "cx_FWmj3I6Hc",
        "outputId": "3666539f-a135-4e26-8818-1361a4158325"
      },
      "execution_count": null,
      "outputs": [
        {
          "output_type": "execute_result",
          "data": {
            "text/plain": [
              "(93004, 30)"
            ]
          },
          "metadata": {},
          "execution_count": 12
        }
      ]
    },
    {
      "cell_type": "markdown",
      "source": [
        "#Report"
      ],
      "metadata": {
        "id": "jXzgdKW-Yr0r"
      }
    },
    {
      "cell_type": "code",
      "source": [
        "pip install sweetviz\n"
      ],
      "metadata": {
        "colab": {
          "base_uri": "https://localhost:8080/"
        },
        "id": "Zb3gyLE8Yx3B",
        "outputId": "0886566c-f26f-44ee-f6dd-fc7bc01331a6"
      },
      "execution_count": null,
      "outputs": [
        {
          "output_type": "stream",
          "name": "stdout",
          "text": [
            "Requirement already satisfied: sweetviz in /usr/local/lib/python3.10/dist-packages (2.3.1)\n",
            "Requirement already satisfied: pandas!=1.0.0,!=1.0.1,!=1.0.2,>=0.25.3 in /usr/local/lib/python3.10/dist-packages (from sweetviz) (1.5.3)\n",
            "Requirement already satisfied: numpy>=1.16.0 in /usr/local/lib/python3.10/dist-packages (from sweetviz) (1.23.5)\n",
            "Requirement already satisfied: matplotlib>=3.1.3 in /usr/local/lib/python3.10/dist-packages (from sweetviz) (3.7.1)\n",
            "Requirement already satisfied: tqdm>=4.43.0 in /usr/local/lib/python3.10/dist-packages (from sweetviz) (4.66.1)\n",
            "Requirement already satisfied: scipy>=1.3.2 in /usr/local/lib/python3.10/dist-packages (from sweetviz) (1.11.4)\n",
            "Requirement already satisfied: jinja2>=2.11.1 in /usr/local/lib/python3.10/dist-packages (from sweetviz) (3.1.2)\n",
            "Requirement already satisfied: importlib-resources>=1.2.0 in /usr/local/lib/python3.10/dist-packages (from sweetviz) (6.1.1)\n",
            "Requirement already satisfied: MarkupSafe>=2.0 in /usr/local/lib/python3.10/dist-packages (from jinja2>=2.11.1->sweetviz) (2.1.3)\n",
            "Requirement already satisfied: contourpy>=1.0.1 in /usr/local/lib/python3.10/dist-packages (from matplotlib>=3.1.3->sweetviz) (1.2.0)\n",
            "Requirement already satisfied: cycler>=0.10 in /usr/local/lib/python3.10/dist-packages (from matplotlib>=3.1.3->sweetviz) (0.12.1)\n",
            "Requirement already satisfied: fonttools>=4.22.0 in /usr/local/lib/python3.10/dist-packages (from matplotlib>=3.1.3->sweetviz) (4.46.0)\n",
            "Requirement already satisfied: kiwisolver>=1.0.1 in /usr/local/lib/python3.10/dist-packages (from matplotlib>=3.1.3->sweetviz) (1.4.5)\n",
            "Requirement already satisfied: packaging>=20.0 in /usr/local/lib/python3.10/dist-packages (from matplotlib>=3.1.3->sweetviz) (23.2)\n",
            "Requirement already satisfied: pillow>=6.2.0 in /usr/local/lib/python3.10/dist-packages (from matplotlib>=3.1.3->sweetviz) (9.4.0)\n",
            "Requirement already satisfied: pyparsing>=2.3.1 in /usr/local/lib/python3.10/dist-packages (from matplotlib>=3.1.3->sweetviz) (3.1.1)\n",
            "Requirement already satisfied: python-dateutil>=2.7 in /usr/local/lib/python3.10/dist-packages (from matplotlib>=3.1.3->sweetviz) (2.8.2)\n",
            "Requirement already satisfied: pytz>=2020.1 in /usr/local/lib/python3.10/dist-packages (from pandas!=1.0.0,!=1.0.1,!=1.0.2,>=0.25.3->sweetviz) (2023.3.post1)\n",
            "Requirement already satisfied: six>=1.5 in /usr/local/lib/python3.10/dist-packages (from python-dateutil>=2.7->matplotlib>=3.1.3->sweetviz) (1.16.0)\n"
          ]
        }
      ]
    },
    {
      "cell_type": "code",
      "source": [
        "import sweetviz as sv\n",
        "import pandas as pd\n",
        "report = sv.analyze(data)\n",
        "report.show_html('report.html')"
      ],
      "metadata": {
        "id": "pjrME2NjQO3E"
      },
      "execution_count": null,
      "outputs": []
    },
    {
      "cell_type": "markdown",
      "source": [
        "#correlation matrix\n"
      ],
      "metadata": {
        "id": "OmGv5qvGmaXO"
      }
    },
    {
      "cell_type": "markdown",
      "source": [
        "Through the correlation matrix we are depicting the relation between the columns which has datatype has int64"
      ],
      "metadata": {
        "id": "17W6h4oY4BYi"
      }
    },
    {
      "cell_type": "code",
      "source": [
        "correlation_matrix =data\n",
        "correlation_matrix = data.corr()\n",
        "for column in correlation_matrix.columns:\n",
        "    print(f\"Correlation of '{column}' with other columns:\")\n",
        "    print(correlation_matrix[column])\n",
        "    print(\"\\n\")"
      ],
      "metadata": {
        "colab": {
          "base_uri": "https://localhost:8080/"
        },
        "id": "9Px3P6i0I6KF",
        "outputId": "64ce0fae-3a0c-41b8-9c05-d523cff9fb76"
      },
      "execution_count": null,
      "outputs": [
        {
          "output_type": "stream",
          "name": "stdout",
          "text": [
            "Correlation of 'AGE' with other columns:\n",
            "AGE                           1.000000\n",
            "ALCOHOL_TEST_RESULT          -0.074804\n",
            "DRUG_TEST_RESULTS_(1_of_3)    0.029645\n",
            "DRUG_TEST_RESULTS_(2_of_3)    0.024178\n",
            "DRUG_TEST_RESULTS_(3_of_3)    0.025266\n",
            "Name: AGE, dtype: float64\n",
            "\n",
            "\n",
            "Correlation of 'ALCOHOL_TEST_RESULT' with other columns:\n",
            "AGE                          -0.074804\n",
            "ALCOHOL_TEST_RESULT           1.000000\n",
            "DRUG_TEST_RESULTS_(1_of_3)    0.035061\n",
            "DRUG_TEST_RESULTS_(2_of_3)    0.081114\n",
            "DRUG_TEST_RESULTS_(3_of_3)    0.104216\n",
            "Name: ALCOHOL_TEST_RESULT, dtype: float64\n",
            "\n",
            "\n",
            "Correlation of 'DRUG_TEST_RESULTS_(1_of_3)' with other columns:\n",
            "AGE                           0.029645\n",
            "ALCOHOL_TEST_RESULT           0.035061\n",
            "DRUG_TEST_RESULTS_(1_of_3)    1.000000\n",
            "DRUG_TEST_RESULTS_(2_of_3)    0.618869\n",
            "DRUG_TEST_RESULTS_(3_of_3)    0.612399\n",
            "Name: DRUG_TEST_RESULTS_(1_of_3), dtype: float64\n",
            "\n",
            "\n",
            "Correlation of 'DRUG_TEST_RESULTS_(2_of_3)' with other columns:\n",
            "AGE                           0.024178\n",
            "ALCOHOL_TEST_RESULT           0.081114\n",
            "DRUG_TEST_RESULTS_(1_of_3)    0.618869\n",
            "DRUG_TEST_RESULTS_(2_of_3)    1.000000\n",
            "DRUG_TEST_RESULTS_(3_of_3)    0.969622\n",
            "Name: DRUG_TEST_RESULTS_(2_of_3), dtype: float64\n",
            "\n",
            "\n",
            "Correlation of 'DRUG_TEST_RESULTS_(3_of_3)' with other columns:\n",
            "AGE                           0.025266\n",
            "ALCOHOL_TEST_RESULT           0.104216\n",
            "DRUG_TEST_RESULTS_(1_of_3)    0.612399\n",
            "DRUG_TEST_RESULTS_(2_of_3)    0.969622\n",
            "DRUG_TEST_RESULTS_(3_of_3)    1.000000\n",
            "Name: DRUG_TEST_RESULTS_(3_of_3), dtype: float64\n",
            "\n",
            "\n"
          ]
        },
        {
          "output_type": "stream",
          "name": "stderr",
          "text": [
            "<ipython-input-13-b7a5575f6375>:2: FutureWarning: The default value of numeric_only in DataFrame.corr is deprecated. In a future version, it will default to False. Select only valid columns or specify the value of numeric_only to silence this warning.\n",
            "  correlation_matrix = data.corr()\n"
          ]
        }
      ]
    },
    {
      "cell_type": "markdown",
      "source": [
        "#Encoding"
      ],
      "metadata": {
        "id": "JToZhT3MRpP0"
      }
    },
    {
      "cell_type": "markdown",
      "source": [
        "\n",
        "##One Hot Encoding & Label Encoding\n",
        "\n",
        "Machine learning understand numerical data rather than string.\n",
        "In our data set we have combination of numerical as well as strig data.Through one hot encoding we are converting categorical data into the numeric.      \n",
        "Out of 30 columns 24 columns are encoding using one hot encoding.      \n",
        "On the output column we are performing labelencoding.\n",
        "And the rest five columns are in numerical format so there is no need to perform encoding on them.\n",
        "\n",
        "First Label encoding is performed on the injury severity columns.\n",
        "In the next step we have dropped integer columns of the dataframe.\n",
        "Further one hot encoding is performed on the rest 24 columns and resetting the index.    \n",
        "At the last we are concatinating \"df_encoded\" which has the 24 columns on which one hot encoding is performed with \"includecolumn\" which has 5 colums which are of type numerical.\n",
        "So \"df_xyz\" has now 362 columns and further concatinated with \"column_to_drop\" which has the injury severity column."
      ],
      "metadata": {
        "id": "IS9qKuclKIDh"
      }
    },
    {
      "cell_type": "code",
      "source": [
        "le = LabelEncoder()\n",
        "data['INJURY_SEVERITY']= le.fit_transform(data['INJURY_SEVERITY'])\n",
        "\n",
        "columns_to_drop = ['AGE', 'INJURY_SEVERITY','ALCOHOL_TEST_RESULT','DRUG_TEST_RESULTS_(1_of_3)','DRUG_TEST_RESULTS_(2_of_3)','DRUG_TEST_RESULTS_(3_of_3)']\n",
        "df_temp = data.drop(columns=columns_to_drop)\n",
        "\n",
        "column_to_drop = data['INJURY_SEVERITY']\n",
        "categorical_columns = df_temp.select_dtypes(include=['object']).columns\n",
        "df_subset = df_temp[categorical_columns]\n",
        "\n",
        "encoder = OneHotEncoder(sparse=False)\n",
        "one_hot_encoded = encoder.fit_transform(df_subset)\n",
        "df_encoded = pd.DataFrame(one_hot_encoded, columns=encoder.get_feature_names_out(df_subset.columns))\n",
        "\n",
        "includecolumn=data[['AGE','ALCOHOL_TEST_RESULT','DRUG_TEST_RESULTS_(1_of_3)','DRUG_TEST_RESULTS_(2_of_3)','DRUG_TEST_RESULTS_(3_of_3)']]\n",
        "\n",
        "\n",
        "includecolumn.reset_index(drop=True, inplace=True)\n",
        "df_encoded.reset_index(drop=True, inplace=True)\n",
        "\n",
        "\n",
        "df_xyz = pd.concat([includecolumn,df_encoded], axis=1)\n",
        "\n",
        "df_xyz.reset_index(drop=True, inplace=True)\n",
        "column_to_drop.reset_index(drop=True, inplace=True)\n",
        "\n",
        "\n",
        "df_xyz1 = pd.concat([df_xyz,column_to_drop], axis=1)\n",
        "df_temp.shape\n",
        "\n"
      ],
      "metadata": {
        "colab": {
          "base_uri": "https://localhost:8080/"
        },
        "id": "EvNXIUczI6Re",
        "outputId": "4f85c28e-5e92-4a26-9a22-ef41563838a4"
      },
      "execution_count": null,
      "outputs": [
        {
          "output_type": "stream",
          "name": "stderr",
          "text": [
            "/usr/local/lib/python3.10/dist-packages/sklearn/preprocessing/_encoders.py:868: FutureWarning: `sparse` was renamed to `sparse_output` in version 1.2 and will be removed in 1.4. `sparse_output` is ignored unless you leave `sparse` to its default value.\n",
            "  warnings.warn(\n"
          ]
        },
        {
          "output_type": "execute_result",
          "data": {
            "text/plain": [
              "(93004, 24)"
            ]
          },
          "metadata": {},
          "execution_count": 14
        }
      ]
    },
    {
      "cell_type": "markdown",
      "source": [
        "total number of rows are 93004 and columns are 363 after doing one hot encoding and label encoding"
      ],
      "metadata": {
        "id": "mEmWJG9k8_ll"
      }
    },
    {
      "cell_type": "code",
      "source": [
        "df_xyz1.shape"
      ],
      "metadata": {
        "colab": {
          "base_uri": "https://localhost:8080/"
        },
        "id": "OZDcnJbYI6T8",
        "outputId": "b9e3dad2-4ac8-45f7-ccc9-36e81c3141ad"
      },
      "execution_count": null,
      "outputs": [
        {
          "output_type": "execute_result",
          "data": {
            "text/plain": [
              "(93004, 363)"
            ]
          },
          "metadata": {},
          "execution_count": 15
        }
      ]
    },
    {
      "cell_type": "markdown",
      "source": [
        "For futher processing the data is divided into two sets 'X' and 'Y'.       \n",
        "X which has 29 columns and Y which has Injury Severity column.\n",
        "\n"
      ],
      "metadata": {
        "id": "vBsv4JfhlxPX"
      }
    },
    {
      "cell_type": "code",
      "source": [
        "X=df_xyz1.drop(columns=['INJURY_SEVERITY'])\n",
        "Y=df_xyz1['INJURY_SEVERITY']"
      ],
      "metadata": {
        "id": "NfnvtxmAI6WU"
      },
      "execution_count": null,
      "outputs": []
    },
    {
      "cell_type": "markdown",
      "source": [
        "nunique method in pandas is used to find out unique values present in the dataset.\n",
        "Y dataset has 8 unique values\n",
        "\n",
        "---\n",
        "\n"
      ],
      "metadata": {
        "id": "-57MwYB-lxb1"
      }
    },
    {
      "cell_type": "code",
      "source": [
        "Y.nunique()"
      ],
      "metadata": {
        "colab": {
          "base_uri": "https://localhost:8080/"
        },
        "id": "UlwuY_OhI6Yy",
        "outputId": "0906b6dd-db77-466d-b4c5-d6b033f0a18c"
      },
      "execution_count": null,
      "outputs": [
        {
          "output_type": "execute_result",
          "data": {
            "text/plain": [
              "8"
            ]
          },
          "metadata": {},
          "execution_count": 17
        }
      ]
    },
    {
      "cell_type": "code",
      "source": [
        "X.nunique()"
      ],
      "metadata": {
        "colab": {
          "base_uri": "https://localhost:8080/"
        },
        "id": "s8_SRgbwI6bK",
        "outputId": "a55c524f-b976-4301-d0c5-3c95abfea06a"
      },
      "execution_count": null,
      "outputs": [
        {
          "output_type": "execute_result",
          "data": {
            "text/plain": [
              "AGE                                                       99\n",
              "ALCOHOL_TEST_RESULT                                       69\n",
              "DRUG_TEST_RESULTS_(1_of_3)                                95\n",
              "DRUG_TEST_RESULTS_(2_of_3)                                73\n",
              "DRUG_TEST_RESULTS_(3_of_3)                                59\n",
              "                                                          ..\n",
              "RACE_Other_Indian_(Includes_South_and_Central_America)     2\n",
              "RACE_Samoan                                                2\n",
              "RACE_Unknown                                               2\n",
              "RACE_Vietnamese                                            2\n",
              "RACE_White                                                 2\n",
              "Length: 362, dtype: int64"
            ]
          },
          "metadata": {},
          "execution_count": 18
        }
      ]
    },
    {
      "cell_type": "markdown",
      "source": [
        "#Split dataset into training set and test set\n",
        "####training dataset consist of 80 percentage & testing dataset consist of 20 percentage"
      ],
      "metadata": {
        "id": "PYTdMu0plKMZ"
      }
    },
    {
      "cell_type": "code",
      "source": [
        "X_train, X_test, y_train, y_test = train_test_split(X,Y,test_size=0.2, random_state=42)"
      ],
      "metadata": {
        "id": "5pn5A4XVI6iB"
      },
      "execution_count": null,
      "outputs": []
    },
    {
      "cell_type": "code",
      "source": [
        "X.shape"
      ],
      "metadata": {
        "colab": {
          "base_uri": "https://localhost:8080/"
        },
        "id": "laoJXOARtXdh",
        "outputId": "b3343d7f-8ecf-46bd-c1af-592d3e7dda9f"
      },
      "execution_count": null,
      "outputs": [
        {
          "output_type": "execute_result",
          "data": {
            "text/plain": [
              "(93004, 362)"
            ]
          },
          "metadata": {},
          "execution_count": 20
        }
      ]
    },
    {
      "cell_type": "markdown",
      "source": [
        "#OverSampler"
      ],
      "metadata": {
        "id": "HtdzzX2Hoona"
      }
    },
    {
      "cell_type": "markdown",
      "source": [
        "\n",
        "An oversampler in machine learning refers to a technique used to tackle class imbalance in datasets."
      ],
      "metadata": {
        "id": "RjKU5NL2i__r"
      }
    },
    {
      "cell_type": "markdown",
      "source": [
        "##RandomOverSampler"
      ],
      "metadata": {
        "id": "QjPN-0UyVBNB"
      }
    },
    {
      "cell_type": "markdown",
      "source": [
        "Purpose of using RandomOverSampler is to prevent the machine learning model from being biased towards the majority class and to improve its ability to learn from the minority class.\n",
        "As a input X_train and y_trai are given as input.\n",
        "after oversampling the data is in this two varibales.\n",
        "X_train---->X_random_oversampled\n",
        "y_train---->y_random_oversampled"
      ],
      "metadata": {
        "id": "zRyft8EIkZs6"
      }
    },
    {
      "cell_type": "code",
      "source": [
        "from imblearn.over_sampling import RandomOverSampler\n",
        "from collections import Counter\n",
        "\n",
        "random_oversampler = RandomOverSampler(random_state=42)\n",
        "\n",
        "x_random_oversampled, y_random_oversampled = random_oversampler.fit_resample(X_train,y_train)\n",
        "\n",
        "print('Original dataset shape', Counter(Y))\n",
        "print('Resampled dataset shape', Counter(y_random_oversampled))"
      ],
      "metadata": {
        "colab": {
          "base_uri": "https://localhost:8080/"
        },
        "id": "rQtba0yEI6kf",
        "outputId": "22700a0f-73f3-41dd-944b-6a9718995193"
      },
      "execution_count": null,
      "outputs": [
        {
          "output_type": "stream",
          "name": "stdout",
          "text": [
            "Original dataset shape Counter({1: 41442, 4: 15642, 2: 14230, 5: 12945, 6: 8104, 7: 399, 3: 233, 0: 9})\n",
            "Resampled dataset shape Counter({4: 33224, 1: 33224, 5: 33224, 6: 33224, 2: 33224, 7: 33224, 3: 33224, 0: 33224})\n"
          ]
        }
      ]
    },
    {
      "cell_type": "markdown",
      "source": [
        "#Data Normalised  "
      ],
      "metadata": {
        "id": "DpwANqTfot6U"
      }
    },
    {
      "cell_type": "markdown",
      "source": [
        "Normalization refers to the process of scaling numerical features to a standard range, typically between 0 and 1 or within a specific range. Normalizing data is crucial in machine learning to ensure that features with different scales contribute equally to the analysis and model training.\n",
        "\n",
        "---\n",
        "\n"
      ],
      "metadata": {
        "id": "rKt8TUZYXgl4"
      }
    },
    {
      "cell_type": "markdown",
      "source": [
        "##MinMaxScaler"
      ],
      "metadata": {
        "id": "I9hTetdEVKZW"
      }
    },
    {
      "cell_type": "markdown",
      "source": [
        "After over sampling is done now data need to be normalised for this we are using MinMax Scaler which transform the features between 0 and 1.          \n",
        "x_random_oversampled & X_test to transform the features as states in the below code."
      ],
      "metadata": {
        "id": "DzfpQI0lXKGD"
      }
    },
    {
      "cell_type": "code",
      "source": [
        "from sklearn.preprocessing import MinMaxScaler\n",
        "\n",
        "scaler = MinMaxScaler()\n",
        "\n",
        "X_train_scaled = scaler.fit_transform(x_random_oversampled)\n",
        "\n",
        "X_test_scaled = scaler.transform(X_test)"
      ],
      "metadata": {
        "id": "ZnFp4oFEI6nG"
      },
      "execution_count": null,
      "outputs": []
    },
    {
      "cell_type": "markdown",
      "source": [
        "#Decision Tree\n",
        "\n",
        "#####Decision tree in machine learning is a supervised learning algorithm used for both classification and regression tasks.It has tree like strcture.Tree-like model where each internal node represents a decision based on a feature"
      ],
      "metadata": {
        "id": "yoG8YwuGKv_k"
      }
    },
    {
      "cell_type": "markdown",
      "source": [
        "##Decision tree with hyperparameter\n",
        "grid_search is used to find out the best possible hyperparameter\n",
        "\n",
        "min_samples_split->minimum number of samples required to split an internal node.parametersare(1,2,4)\n",
        "min_samples_leaf->minimum number of samples required to be at a leaf node. Nodes that would create leaf nodes containing fewer samples.parameters are(2,5,10)\n",
        "max_depth->maximum depth that the tree can grow to during the learning process.parameters are(None,5,10,15)"
      ],
      "metadata": {
        "id": "Wfla_bWVTPOY"
      }
    },
    {
      "cell_type": "code",
      "source": [
        "param_grid = {\n",
        "    'max_depth': [None, 5, 10, 15],\n",
        "    'min_samples_split': [2, 5, 10],\n",
        "    'min_samples_leaf': [1, 2, 4]\n",
        "}\n",
        "\n",
        "dt_classifier = DecisionTreeClassifier(random_state=42)\n",
        "\n",
        "grid_search = GridSearchCV(estimator=dt_classifier, param_grid=param_grid, cv=3, scoring='accuracy', verbose=1)\n",
        "\n",
        "grid_search.fit(X_train_scaled, y_random_oversampled)\n",
        "\n",
        "best_params = grid_search.best_params_\n",
        "print(\"Best Hyperparameters:\", best_params)\n",
        "\n",
        "best_dt = DecisionTreeClassifier(random_state=42, **best_params)\n",
        "best_dt.fit(X_train_scaled, y_random_oversampled)\n",
        "\n",
        "predictions = best_dt.predict(X_test_scaled)\n",
        "\n",
        "print(classification_report(y_test,predictions))"
      ],
      "metadata": {
        "id": "kEjqcbUFI6sU",
        "colab": {
          "base_uri": "https://localhost:8080/"
        },
        "outputId": "bd155d6e-2c70-414c-9645-e2b8fa560f3d"
      },
      "execution_count": null,
      "outputs": [
        {
          "output_type": "stream",
          "name": "stdout",
          "text": [
            "Fitting 3 folds for each of 36 candidates, totalling 108 fits\n",
            "Best Hyperparameters: {'max_depth': None, 'min_samples_leaf': 1, 'min_samples_split': 2}\n",
            "              precision    recall  f1-score   support\n",
            "\n",
            "           0       0.00      0.00      0.00         4\n",
            "           1       1.00      1.00      1.00      8218\n",
            "           2       0.50      0.51      0.50      2881\n",
            "           3       0.27      0.33      0.30        39\n",
            "           4       0.83      0.80      0.81      3108\n",
            "           5       0.37      0.36      0.36      2615\n",
            "           6       0.23      0.24      0.23      1650\n",
            "           7       0.40      0.45      0.42        86\n",
            "\n",
            "    accuracy                           0.73     18601\n",
            "   macro avg       0.45      0.46      0.45     18601\n",
            "weighted avg       0.73      0.73      0.73     18601\n",
            "\n"
          ]
        },
        {
          "output_type": "stream",
          "name": "stderr",
          "text": [
            "/usr/local/lib/python3.10/dist-packages/sklearn/metrics/_classification.py:1344: UndefinedMetricWarning: Precision and F-score are ill-defined and being set to 0.0 in labels with no predicted samples. Use `zero_division` parameter to control this behavior.\n",
            "  _warn_prf(average, modifier, msg_start, len(result))\n",
            "/usr/local/lib/python3.10/dist-packages/sklearn/metrics/_classification.py:1344: UndefinedMetricWarning: Precision and F-score are ill-defined and being set to 0.0 in labels with no predicted samples. Use `zero_division` parameter to control this behavior.\n",
            "  _warn_prf(average, modifier, msg_start, len(result))\n",
            "/usr/local/lib/python3.10/dist-packages/sklearn/metrics/_classification.py:1344: UndefinedMetricWarning: Precision and F-score are ill-defined and being set to 0.0 in labels with no predicted samples. Use `zero_division` parameter to control this behavior.\n",
            "  _warn_prf(average, modifier, msg_start, len(result))\n"
          ]
        }
      ]
    },
    {
      "cell_type": "markdown",
      "source": [
        "##Decision Tree without Hyperparameter"
      ],
      "metadata": {
        "id": "M4VcqF9RK5Ho"
      }
    },
    {
      "cell_type": "code",
      "source": [
        "decision_tree = DecisionTreeClassifier(random_state=42)\n",
        "\n",
        "decision_tree.fit(X_train_scaled, y_random_oversampled)\n",
        "\n",
        "y_pred = decision_tree.predict(X_test_scaled)\n",
        "\n",
        "print(classification_report(y_test, y_pred))"
      ],
      "metadata": {
        "colab": {
          "base_uri": "https://localhost:8080/"
        },
        "id": "oVZX6p0yI6uz",
        "outputId": "9954de03-1874-453a-e3b1-cadffebfa54c"
      },
      "execution_count": null,
      "outputs": [
        {
          "output_type": "stream",
          "name": "stdout",
          "text": [
            "              precision    recall  f1-score   support\n",
            "\n",
            "           0       0.00      0.00      0.00         4\n",
            "           1       1.00      1.00      1.00      8218\n",
            "           2       0.50      0.51      0.50      2881\n",
            "           3       0.27      0.33      0.30        39\n",
            "           4       0.83      0.80      0.81      3108\n",
            "           5       0.37      0.36      0.36      2615\n",
            "           6       0.23      0.24      0.23      1650\n",
            "           7       0.40      0.45      0.42        86\n",
            "\n",
            "    accuracy                           0.73     18601\n",
            "   macro avg       0.45      0.46      0.45     18601\n",
            "weighted avg       0.73      0.73      0.73     18601\n",
            "\n"
          ]
        },
        {
          "output_type": "stream",
          "name": "stderr",
          "text": [
            "/usr/local/lib/python3.10/dist-packages/sklearn/metrics/_classification.py:1344: UndefinedMetricWarning: Precision and F-score are ill-defined and being set to 0.0 in labels with no predicted samples. Use `zero_division` parameter to control this behavior.\n",
            "  _warn_prf(average, modifier, msg_start, len(result))\n",
            "/usr/local/lib/python3.10/dist-packages/sklearn/metrics/_classification.py:1344: UndefinedMetricWarning: Precision and F-score are ill-defined and being set to 0.0 in labels with no predicted samples. Use `zero_division` parameter to control this behavior.\n",
            "  _warn_prf(average, modifier, msg_start, len(result))\n",
            "/usr/local/lib/python3.10/dist-packages/sklearn/metrics/_classification.py:1344: UndefinedMetricWarning: Precision and F-score are ill-defined and being set to 0.0 in labels with no predicted samples. Use `zero_division` parameter to control this behavior.\n",
            "  _warn_prf(average, modifier, msg_start, len(result))\n"
          ]
        }
      ]
    },
    {
      "cell_type": "markdown",
      "source": [
        "#Random Forest"
      ],
      "metadata": {
        "id": "hECA86ftLD2t"
      }
    },
    {
      "cell_type": "markdown",
      "source": [
        "RandomForest model is a machine learnig supervised model which is used both for classification and regression.It outpouts the mean prediction (for regression) or the mode prediction (for classification).\n",
        "As above oversampling is done and data is normalised this data is passed to random forest variables are X_train_oversampled and y_random_oversampled"
      ],
      "metadata": {
        "id": "KmToTNsny3rm"
      }
    },
    {
      "cell_type": "markdown",
      "source": [
        "##RandomForest with hyperparameter"
      ],
      "metadata": {
        "id": "fnnitGBuTd_9"
      }
    },
    {
      "cell_type": "markdown",
      "source": [
        "Hyperparameter Tunning is finding the best hyper parameter to improve the models performance.The hyperparameter used are           \n",
        "n_estimators-> which determines the  number of decision tree that will be used in the forest\n",
        "max_depth->controlling the complexity of the tree and preventing overfitting.\n",
        "min_samples_split->minimum number of samples required to split an internal node during the construction of individual decision trees within the forest hyperparameters are\n",
        "n_estimators->100, 200, 300\n",
        "max_depth : 5, 10, 15\n",
        "min_samples_split: 2, 5, 10"
      ],
      "metadata": {
        "id": "Hn_gPLRozj7v"
      }
    },
    {
      "cell_type": "code",
      "source": [
        "from sklearn.model_selection import train_test_split\n",
        "from sklearn.ensemble import RandomForestClassifier\n",
        "from sklearn.metrics import accuracy_score\n",
        "from sklearn.model_selection import GridSearchCV\n",
        "\n",
        "param_grid = {\n",
        "    'n_estimators': [10, 20, 30],\n",
        "    'max_depth': [5, 10, 15],\n",
        "}\n",
        "rf = RandomForestClassifier()\n",
        "\n",
        "grid_search = GridSearchCV(estimator=rf, param_grid=param_grid, cv=5, scoring='accuracy', verbose=2, n_jobs=-1)\n",
        "grid_search.fit(X_train_scaled, y_random_oversampled)\n",
        "\n",
        "best_params = grid_search.best_params_\n",
        "best_model = grid_search.best_estimator_\n",
        "\n",
        "accuracy = best_model.score(X_test_scaled, y_test)\n",
        "print(f\"Accuracy: {accuracy}\")\n"
      ],
      "metadata": {
        "id": "T_d7BgKkI6xa",
        "colab": {
          "base_uri": "https://localhost:8080/"
        },
        "outputId": "31a7a096-f6cd-4d97-e48b-8d5c1a20e3c4"
      },
      "execution_count": null,
      "outputs": [
        {
          "output_type": "stream",
          "name": "stdout",
          "text": [
            "Fitting 5 folds for each of 9 candidates, totalling 45 fits\n",
            "Accuracy: 0.7950876497969694\n"
          ]
        }
      ]
    },
    {
      "cell_type": "markdown",
      "source": [
        "##Random Forest without Hyperparameter\n"
      ],
      "metadata": {
        "id": "b2KQo-8JLKfO"
      }
    },
    {
      "cell_type": "code",
      "source": [
        "from sklearn.ensemble import RandomForestClassifier\n",
        "from sklearn.datasets import make_classification\n",
        "from sklearn.model_selection import train_test_split\n",
        "from sklearn.metrics import confusion_matrix, classification_report\n",
        "\n",
        "rf_classifier = RandomForestClassifier(random_state=42)\n",
        "\n",
        "rf_classifier.fit(X_train_scaled, y_random_oversampled)\n",
        "\n",
        "predictions = rf_classifier.predict(X_test)\n",
        "\n",
        "conf_matrix = confusion_matrix(y_test, predictions)\n",
        "print(\"Confusion Matrix:\")\n",
        "print(conf_matrix)\n",
        "\n",
        "print(                                        )\n",
        "print(classification_report(y_test,predictions,zero_division= 1))"
      ],
      "metadata": {
        "colab": {
          "base_uri": "https://localhost:8080/"
        },
        "id": "8MUqln2lI60B",
        "outputId": "cbaac015-8249-4816-a5d1-6332dbb037a2"
      },
      "execution_count": null,
      "outputs": [
        {
          "output_type": "stream",
          "name": "stderr",
          "text": [
            "/usr/local/lib/python3.10/dist-packages/sklearn/base.py:432: UserWarning: X has feature names, but RandomForestClassifier was fitted without feature names\n",
            "  warnings.warn(\n"
          ]
        },
        {
          "output_type": "stream",
          "name": "stdout",
          "text": [
            "Confusion Matrix:\n",
            "[[   0    0    0    0    3    1    0    0]\n",
            " [   0 8214    0    0    0    0    0    4]\n",
            " [   0    0 1800   14    1  785  278    3]\n",
            " [   0    0    8   15    1   10    5    0]\n",
            " [  11    0    5    0 2830   32  175   55]\n",
            " [   0    0 1135   13  119  964  363   21]\n",
            " [   0    0  406    8  429  422  374   11]\n",
            " [   0    1    3    0   35    4    4   39]]\n",
            "\n",
            "              precision    recall  f1-score   support\n",
            "\n",
            "           0       0.00      0.00      0.00         4\n",
            "           1       1.00      1.00      1.00      8218\n",
            "           2       0.54      0.62      0.58      2881\n",
            "           3       0.30      0.38      0.34        39\n",
            "           4       0.83      0.91      0.87      3108\n",
            "           5       0.43      0.37      0.40      2615\n",
            "           6       0.31      0.23      0.26      1650\n",
            "           7       0.29      0.45      0.36        86\n",
            "\n",
            "    accuracy                           0.77     18601\n",
            "   macro avg       0.46      0.50      0.47     18601\n",
            "weighted avg       0.75      0.77      0.76     18601\n",
            "\n"
          ]
        }
      ]
    },
    {
      "cell_type": "markdown",
      "source": [
        "#Logistic Regression\n",
        "\n",
        "Logistic Regression is a machine learning model used for classification.\n",
        "Uses a logistic function to transform the output of the linear function into a probability value.\n",
        "\n"
      ],
      "metadata": {
        "id": "EI2IsdceYPEt"
      }
    },
    {
      "cell_type": "markdown",
      "source": [
        "##With Hyperparameters"
      ],
      "metadata": {
        "id": "LHRo-DSw402-"
      }
    },
    {
      "cell_type": "code",
      "source": [
        "from sklearn.model_selection import train_test_split, GridSearchCV\n",
        "from sklearn.linear_model import LogisticRegression\n",
        "from sklearn.metrics import accuracy_score, classification_report\n",
        "from sklearn.preprocessing import StandardScaler\n",
        "\n",
        "logreg = LogisticRegression()\n",
        "\n",
        "grid_search = GridSearchCV(estimator=logreg, param_grid=param_grid, cv=5, scoring='accuracy', verbose=2, n_jobs=-1)\n",
        "grid_search.fit(X_train_scaled, y_random_oversampled)\n",
        "\n",
        "best_params = grid_search.best_params_\n",
        "best_score = grid_search.best_score_\n",
        "\n",
        "print(\"Best Parameters:\", best_params)\n",
        "print(\"Best Score:\", best_score)\n",
        "\n",
        "best_logreg = grid_search.best_estimator_\n",
        "y_pred = best_logreg.predict(X_test_scaled)\n",
        "\n",
        "print(\"Classification Report:\")\n",
        "print(classification_report(y_test, y_pred))"
      ],
      "metadata": {
        "id": "jpofk8moYRfx",
        "colab": {
          "base_uri": "https://localhost:8080/"
        },
        "outputId": "9142539e-dc72-4003-8adf-effd417fce6d"
      },
      "execution_count": null,
      "outputs": [
        {
          "output_type": "stream",
          "name": "stdout",
          "text": [
            "Fitting 5 folds for each of 3 candidates, totalling 15 fits\n",
            "Best Parameters: {'C': 1}\n",
            "Best Score: 0.7420050242567614\n",
            "Classification Report:\n",
            "              precision    recall  f1-score   support\n",
            "\n",
            "           0       0.03      0.25      0.05         4\n",
            "           1       1.00      1.00      1.00      8218\n",
            "           2       0.63      0.55      0.59      2881\n",
            "           3       0.09      0.87      0.15        39\n",
            "           4       0.85      0.89      0.87      3108\n",
            "           5       0.46      0.47      0.47      2615\n",
            "           6       0.38      0.25      0.30      1650\n",
            "           7       0.17      0.81      0.29        86\n",
            "\n",
            "    accuracy                           0.77     18601\n",
            "   macro avg       0.45      0.64      0.46     18601\n",
            "weighted avg       0.78      0.77      0.77     18601\n",
            "\n"
          ]
        },
        {
          "output_type": "stream",
          "name": "stderr",
          "text": [
            "/usr/local/lib/python3.10/dist-packages/sklearn/linear_model/_logistic.py:458: ConvergenceWarning: lbfgs failed to converge (status=1):\n",
            "STOP: TOTAL NO. of ITERATIONS REACHED LIMIT.\n",
            "\n",
            "Increase the number of iterations (max_iter) or scale the data as shown in:\n",
            "    https://scikit-learn.org/stable/modules/preprocessing.html\n",
            "Please also refer to the documentation for alternative solver options:\n",
            "    https://scikit-learn.org/stable/modules/linear_model.html#logistic-regression\n",
            "  n_iter_i = _check_optimize_result(\n"
          ]
        }
      ]
    },
    {
      "cell_type": "markdown",
      "source": [
        "#KNN Model\n",
        "\n",
        "he K-Nearest Neighbors (KNN) algorithm is a supervised learning algorithm used for classification and regression tasks.*Predicts* the class of a new data point based on the majority class among its nearest neighbors"
      ],
      "metadata": {
        "id": "F49tbEIaLXcf"
      }
    },
    {
      "cell_type": "markdown",
      "source": [
        "##With PCA\n",
        " Principal Component Analysis.\n",
        "PCA helps you find the most important things that describe these measurements without losing too much information.\n",
        "n_components=12 which means 12 features will be extracted"
      ],
      "metadata": {
        "id": "kHCuYz4ZT4KG"
      }
    },
    {
      "cell_type": "code",
      "source": [
        "pca = PCA(n_components=12)\n",
        "X_train_pca = pca.fit_transform(X_train)\n",
        "X_test_pca = pca.transform(X_test)\n",
        "\n",
        "knn = KNeighborsClassifier(n_neighbors=5)\n",
        "knn.fit(X_train_pca, y_train)\n",
        "\n",
        "y_pred = knn.predict(X_test_pca)\n",
        "\n",
        "print(classification_report(y_test,y_pred,zero_division= 1))\n"
      ],
      "metadata": {
        "colab": {
          "base_uri": "https://localhost:8080/"
        },
        "id": "OvfC4CxzI62n",
        "outputId": "ba2ec056-a0fc-4a50-bae0-175220d0ec09"
      },
      "execution_count": null,
      "outputs": [
        {
          "output_type": "stream",
          "name": "stdout",
          "text": [
            "              precision    recall  f1-score   support\n",
            "\n",
            "           0       0.00      0.00      0.00         4\n",
            "           1       0.97      0.99      0.98      8218\n",
            "           2       0.45      0.56      0.50      2881\n",
            "           3       0.00      0.00      0.00        39\n",
            "           4       0.79      0.94      0.86      3108\n",
            "           5       0.38      0.35      0.36      2615\n",
            "           6       0.19      0.05      0.08      1650\n",
            "           7       0.47      0.22      0.30        86\n",
            "\n",
            "    accuracy                           0.74     18601\n",
            "   macro avg       0.41      0.39      0.38     18601\n",
            "weighted avg       0.70      0.74      0.71     18601\n",
            "\n"
          ]
        }
      ]
    },
    {
      "cell_type": "markdown",
      "source": [
        "KNN original data without PCA"
      ],
      "metadata": {
        "id": "ihVFOWGQG4Re"
      }
    },
    {
      "cell_type": "markdown",
      "source": [
        "##Without PCA"
      ],
      "metadata": {
        "id": "ha5PBeRqLhJh"
      }
    },
    {
      "cell_type": "code",
      "source": [
        "knn = KNeighborsClassifier(n_neighbors=8)\n",
        "knn.fit(X_train, y_train)\n",
        "\n",
        "y_pred = knn.predict(X_test)\n",
        "\n",
        "print(classification_report(y_test,y_pred,zero_division= 1))"
      ],
      "metadata": {
        "colab": {
          "base_uri": "https://localhost:8080/"
        },
        "id": "F5V4YRx1I65X",
        "outputId": "fa1fd917-a027-4c4a-da81-51f7767f2286"
      },
      "execution_count": null,
      "outputs": [
        {
          "output_type": "stream",
          "name": "stdout",
          "text": [
            "              precision    recall  f1-score   support\n",
            "\n",
            "           0       1.00      0.00      0.00         4\n",
            "           1       0.95      0.99      0.97      8218\n",
            "           2       0.47      0.55      0.51      2881\n",
            "           3       0.14      0.03      0.04        39\n",
            "           4       0.76      0.92      0.83      3108\n",
            "           5       0.39      0.36      0.37      2615\n",
            "           6       0.26      0.07      0.11      1650\n",
            "           7       0.53      0.24      0.33        86\n",
            "\n",
            "    accuracy                           0.73     18601\n",
            "   macro avg       0.56      0.40      0.40     18601\n",
            "weighted avg       0.70      0.73      0.71     18601\n",
            "\n"
          ]
        }
      ]
    },
    {
      "cell_type": "markdown",
      "source": [
        "#Cross Validation\n",
        "\n",
        "Cross-validation is a technique used in machine learning to assess how well a trained model generalizes to new\n",
        "Cross-validation divides the input data in sets and then train the model to find out the best possible accuracy.\n",
        "CV='5' specifies number of folds to be perofrmed"
      ],
      "metadata": {
        "id": "SfkT7OdwXVTI"
      }
    },
    {
      "cell_type": "markdown",
      "source": [
        "##Random Forest"
      ],
      "metadata": {
        "id": "yNbGYAnzXb2V"
      }
    },
    {
      "cell_type": "code",
      "source": [
        "from sklearn.model_selection import cross_val_score\n",
        "\n",
        "rf_classifier = RandomForestClassifier(n_estimators=100, random_state=42)\n",
        "\n",
        "scores = cross_val_score(rf_classifier, X, Y, cv=5)\n",
        "\n",
        "print(\"Cross-Validation Scores:\", scores)\n",
        "print(\"Average Cross-Validation Score:\", scores.mean())"
      ],
      "metadata": {
        "colab": {
          "base_uri": "https://localhost:8080/"
        },
        "id": "Swp7e4HSI7C1",
        "outputId": "dc7831be-59f8-4f4f-8e8c-01d2939e791d"
      },
      "execution_count": null,
      "outputs": [
        {
          "output_type": "stream",
          "name": "stdout",
          "text": [
            "Cross-Validation Scores: [0.73302511 0.7421644  0.74813182 0.77431321 0.75870968]\n",
            "Average Cross-Validation Score: 0.7512688426394003\n"
          ]
        }
      ]
    },
    {
      "cell_type": "markdown",
      "source": [
        "##Decision Tree"
      ],
      "metadata": {
        "id": "2e51Bm0wpHiy"
      }
    },
    {
      "cell_type": "code",
      "source": [
        "from sklearn.model_selection import cross_val_score\n",
        "\n",
        "dt_classifier = DecisionTreeClassifier(random_state=42)\n",
        "\n",
        "scores = cross_val_score(dt_classifier, X, y, cv=5)\n",
        "\n",
        "print(\"Cross-Validation Scores:\", scores)\n",
        "print(\"Average Cross-Validation Score:\", scores.mean())"
      ],
      "metadata": {
        "colab": {
          "base_uri": "https://localhost:8080/"
        },
        "id": "WoWCt55zI7Fc",
        "outputId": "6839a171-a394-4316-9874-952799428c95"
      },
      "execution_count": null,
      "outputs": [
        {
          "output_type": "stream",
          "name": "stdout",
          "text": [
            "Cross-Validation Scores: [0.9  0.85 0.83 0.86 0.87]\n",
            "Average Cross-Validation Score: 0.8619999999999999\n"
          ]
        }
      ]
    },
    {
      "cell_type": "markdown",
      "source": [
        "#Conclusion\n",
        "\n"
      ],
      "metadata": {
        "id": "SqGzOTjYUYll"
      }
    },
    {
      "cell_type": "markdown",
      "source": [
        "The Random Forest model, after hyperparameter tuning, achieved an accuracy of 79%. This improvement over the Decision Tree model suggests that the ensemble nature of Random Forests, combined with optimized hyperparameters, provides a more robust and accurate classification\n",
        "Cross Validation- Random Forest has 75 percentage & Decision Tree has 86    \n",
        "\n",
        "KNN with PCA has accuracy of 74 and without PCA 73.\n",
        "\n",
        "\n",
        "So I would suggest Random Forest for tabular dataset (fars data set)\n",
        "                                        "
      ],
      "metadata": {
        "id": "23eQdFKoImPe"
      }
    }
  ]
}