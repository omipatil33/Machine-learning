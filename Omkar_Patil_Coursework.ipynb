{
  "cells": [
    {
      "cell_type": "markdown",
      "metadata": {
        "id": "eZrEVcd6cqTs"
      },
      "source": [
        "\n",
        "\n",
        "```\n",
        "# This is formatted as code\n",
        "```\n",
        "\n",
        "## Omkar Mahesh Patil\n",
        "## The project I attempted was: (1) Tabular, (2) Image, (3) Text, (4) Time-series\n",
        "(please delete as appropriate)"
      ]
    },
    {
      "cell_type": "markdown",
      "metadata": {
        "id": "bbN5C3u52T3T"
      },
      "source": [
        "# CSC8111 Coursework Specification\n",
        "\n",
        "For this coursework you will perform **THREE** short questions which cover the breadth of the machine learning module along with attempting **ONE** of the four longer project-style questions. All of the short tasks and longer project-style questions can be found in this notebook. You should provide all of your answers in this notebook and submit it to Canvas before the submission deadline.\n",
        "\n",
        "The learning objectives of these short questions are:\n",
        "- To demonstrate a wide-range of machine learning skills.\n",
        "- To be able to apply the most appropriate approach at the right time."
      ]
    },
    {
      "cell_type": "markdown",
      "metadata": {
        "id": "TP7dNS643CwX"
      },
      "source": [
        "\n",
        "\n",
        "---\n",
        "## Question 1: Classification (10 marks)\n",
        "\n",
        "Load the dataset below, where X and y are the feature (input) variables and target (output) variable. Based on this dataset, build TWO classifiers using different machine learning approaches to predict the two classes in the target variable. You are free to use any appropriate machine learning models and libraries, but you need to split the dataset into training and test sets and optimise the model's hyperparameters (e.g. using GridSearchCV()). As a result, the performance metrics of the best classifier should be reported over the test set. Please follow the steps below to complete the code.\n",
        "\n",
        "The dataset is available at:\n",
        "https://ncl.instructure.com/courses/53509/files/7659751?wrap=1 and\n",
        "https://ncl.instructure.com/courses/53509/files/7659755?wrap=1\n"
      ]
    },
    {
      "cell_type": "markdown",
      "metadata": {
        "id": "nm8C4PpFrHIB"
      },
      "source": [
        "## Set up the environment and load the dataset"
      ]
    },
    {
      "cell_type": "code",
      "execution_count": null,
      "metadata": {
        "id": "OZxqzi0vrNlc"
      },
      "outputs": [],
      "source": [
        "# just run this cell, don't change the code\n",
        "import numpy as np\n",
        "from numpy import loadtxt\n",
        "X = loadtxt('cls_X.csv', delimiter=',')\n",
        "y = loadtxt('cls_y.csv', delimiter=',')"
      ]
    },
    {
      "cell_type": "markdown",
      "metadata": {
        "id": "i_CnC7pLrUnk"
      },
      "source": [
        "## Q1.1 Split the data into training and test sets (20% for testing)"
      ]
    },
    {
      "cell_type": "code",
      "execution_count": null,
      "metadata": {
        "colab": {
          "base_uri": "https://localhost:8080/"
        },
        "id": "E7_KCvHbrbX0",
        "outputId": "bc25faf8-96b3-4212-8c03-a8352aa76bde"
      },
      "outputs": [
        {
          "name": "stdout",
          "output_type": "stream",
          "text": [
            "Training set - Features: (320, 6) Target: (320,)\n",
            "Test set - Features: (80, 6) Target: (80,)\n"
          ]
        }
      ],
      "source": [
        "from sklearn.model_selection import train_test_split\n",
        "\n",
        "\n",
        "X_train, X_test, y_train, y_test = train_test_split(X, y, test_size=0.2, random_state=42)\n",
        "\n",
        "print(\"Training set - Features:\", X_train.shape, \"Target:\", y_train.shape)\n",
        "print(\"Test set - Features:\", X_test.shape, \"Target:\", y_test.shape)"
      ]
    },
    {
      "cell_type": "markdown",
      "metadata": {
        "id": "9hNfN-wfrpy7"
      },
      "source": [
        "## Q1.2 Create your first classifier"
      ]
    },
    {
      "cell_type": "markdown",
      "metadata": {
        "id": "MoIln9tQrziM"
      },
      "source": [
        "#### Q1.2.1 First, make an attempt by using an appropriate machine learning method without optimising the hyperparameter(s). Report the model accuracy over the test set (i.e. test accuracy)."
      ]
    },
    {
      "cell_type": "code",
      "execution_count": null,
      "metadata": {
        "colab": {
          "base_uri": "https://localhost:8080/"
        },
        "id": "M8B7NYQer40j",
        "outputId": "cb025645-1a90-43ea-dc33-83ec3ec1947b"
      },
      "outputs": [
        {
          "name": "stdout",
          "output_type": "stream",
          "text": [
            "Classification Report:\n",
            "              precision    recall  f1-score   support\n",
            "\n",
            "         0.0       0.80      0.78      0.79        36\n",
            "         1.0       0.82      0.84      0.83        44\n",
            "\n",
            "    accuracy                           0.81        80\n",
            "   macro avg       0.81      0.81      0.81        80\n",
            "weighted avg       0.81      0.81      0.81        80\n",
            "\n"
          ]
        }
      ],
      "source": [
        "# write your code below to replace the ellipsis \"...\"\n",
        "from sklearn.tree import DecisionTreeClassifier\n",
        "from sklearn.metrics import accuracy_score, classification_report\n",
        "\n",
        "dt_classifier = DecisionTreeClassifier(random_state=42)\n",
        "\n",
        "# Train the Decision Tree model using the training data\n",
        "dt_classifier.fit(X_train, y_train)\n",
        "\n",
        "# Make predictions on the test set\n",
        "predictions = dt_classifier.predict(X_test)\n",
        "# Print classification report\n",
        "print(\"Classification Report:\")\n",
        "print(classification_report(y_test, predictions))\n"
      ]
    },
    {
      "cell_type": "markdown",
      "metadata": {
        "id": "Qv4TGRbir9Qj"
      },
      "source": [
        "#### Q1.2.2 Then, optimise the hyperparameter(s) using the same machine learning method as above. Report the best hyperparameter(s) and, use it to make your first classifier and print out its test accuracy."
      ]
    },
    {
      "cell_type": "code",
      "execution_count": null,
      "metadata": {
        "colab": {
          "base_uri": "https://localhost:8080/"
        },
        "id": "py6TTQBbsN2z",
        "outputId": "71e1f029-e3c8-4515-fc23-6df9f5018e4a"
      },
      "outputs": [
        {
          "name": "stdout",
          "output_type": "stream",
          "text": [
            "Best Parameters: {'class_weight': None, 'max_leaf_nodes': None, 'min_samples_leaf': 1, 'min_samples_split': 2}\n",
            "Best Score: 0.79375\n",
            "Accuracy: 0.8125\n",
            "Classification Report:\n",
            "              precision    recall  f1-score   support\n",
            "\n",
            "         0.0       0.80      0.78      0.79        36\n",
            "         1.0       0.82      0.84      0.83        44\n",
            "\n",
            "    accuracy                           0.81        80\n",
            "   macro avg       0.81      0.81      0.81        80\n",
            "weighted avg       0.81      0.81      0.81        80\n",
            "\n"
          ]
        }
      ],
      "source": [
        "# write your code below to replace the ellipsis \"...\"\n",
        "from sklearn.tree import DecisionTreeClassifier\n",
        "from sklearn.datasets import make_classification\n",
        "from sklearn.model_selection import train_test_split, GridSearchCV\n",
        "from sklearn.metrics import accuracy_score, classification_report\n",
        "\n",
        "# Creating a Decision Tree Classifier\n",
        "decision_tree = DecisionTreeClassifier(random_state=42)\n",
        "\n",
        "# Define hyperparameters and their values to tune\n",
        "param_grid = {\n",
        "    'max_leaf_nodes': [None],\n",
        "    'min_samples_split': [2],\n",
        "    'min_samples_leaf': [1],\n",
        "    'class_weight': [None]\n",
        "\n",
        "}\n",
        "\n",
        "# GridSearchCV to find the best hyperparameters\n",
        "grid_search = GridSearchCV(estimator=decision_tree, param_grid=param_grid, cv=5)\n",
        "grid_search.fit(X_train, y_train)\n",
        "\n",
        "# Get the best parameters and the best score\n",
        "best_params = grid_search.best_params_\n",
        "best_score = grid_search.best_score_\n",
        "\n",
        "print(\"Best Parameters:\", best_params)\n",
        "print(\"Best Score:\", best_score)\n",
        "\n",
        "# Train the model using the best parameters\n",
        "best_decision_tree = DecisionTreeClassifier(**best_params, random_state=42)\n",
        "best_decision_tree.fit(X_train, y_train)\n",
        "\n",
        "# Make predictions on the test set\n",
        "y_pred = best_decision_tree.predict(X_test)\n",
        "\n",
        "# Evaluate the model\n",
        "accuracy = accuracy_score(y_test, y_pred)\n",
        "print(\"Accuracy:\", accuracy)\n",
        "\n",
        "# Additional evaluation metrics\n",
        "print(\"Classification Report:\")\n",
        "print(classification_report(y_test, y_pred))\n"
      ]
    },
    {
      "cell_type": "markdown",
      "metadata": {
        "id": "a9vtXIavsR3c"
      },
      "source": [
        "## Q1.3 Create your second classifier"
      ]
    },
    {
      "cell_type": "markdown",
      "metadata": {
        "id": "7e2hW5LosXij"
      },
      "source": [
        "#### Q1.3.1 First, without optimising the hyperparameter(s), make an attempt by using a different machine learning method to the first classifier. Report the model accuracy over the test set (i.e. test accuracy)."
      ]
    },
    {
      "cell_type": "code",
      "execution_count": null,
      "metadata": {
        "id": "xOdf70l6sdB7"
      },
      "outputs": [],
      "source": [
        "from sklearn.ensemble import RandomForestClassifier\n",
        "\n",
        "# Create a Random Forest classifier\n",
        "random_forest = RandomForestClassifier()\n",
        "\n",
        "# Fit the model using the training data\n",
        "random_forest.fit(X_train, y_train)\n",
        "\n",
        "# Make predictions on the test set\n",
        "predictions = random_forest.predict(X_test)\n",
        "\n",
        "# Evaluate model performance (e.g., accuracy)\n",
        "from sklearn.metrics import accuracy_score\n",
        "\n",
        "accuracy = accuracy_score(y_test, predictions)\n",
        "print(f\"Accuracy of the Random Forest classifier: {accuracy:.2f}\")\n"
      ]
    },
    {
      "cell_type": "markdown",
      "metadata": {
        "id": "oEkKujVhshwk"
      },
      "source": [
        "#### Q1.3.2 Then, optimise the hyperparameter(s) using the same machine learning method as above. Report the best hyperparameter(s) and, use it to make your second classifier and print out its test accuracy.\n",
        "\n"
      ]
    },
    {
      "cell_type": "code",
      "execution_count": null,
      "metadata": {
        "id": "9A7qo9PEsmyU"
      },
      "outputs": [],
      "source": [
        "# write your code below to replace the ellipsis \"...\"\n",
        "# write your code below to replace the ellipsis \"...\"\n",
        "from sklearn.ensemble import RandomForestClassifier\n",
        "from sklearn.model_selection import GridSearchCV\n",
        "\n",
        "# Define the hyperparameters and their values to search\n",
        "param_grid = {\n",
        "    'n_estimators': [10, 20, 30],\n",
        "    'max_depth': [None, 5, 10, 15],\n",
        "    'min_samples_split': [2, 5, 10],\n",
        "}\n",
        "\n",
        "# Create a Random Forest classifier\n",
        "random_forest = RandomForestClassifier()\n",
        "\n",
        "# Perform GridSearchCV to find the best hyperparameters\n",
        "grid_search = GridSearchCV(estimator=random_forest, param_grid=param_grid, cv=5)\n",
        "grid_search.fit(X_train, y_train)\n",
        "\n",
        "# Get the best hyperparameters\n",
        "best_params = grid_search.best_params_\n",
        "print(\"Best hyperparameters:\", best_params)\n",
        "\n",
        "# Use the best model\n",
        "best_model = grid_search.best_estimator_\n",
        "\n",
        "# Make predictions on the test set using the best model\n",
        "best_predictions1 = best_model.predict(X_test)\n",
        "\n",
        "# Evaluate model performance\n",
        "from sklearn.metrics import accuracy_score\n",
        "\n",
        "accuracy = accuracy_score(y_test, best_predictions1)\n",
        "print(f\"Accuracy of the tuned Random Forest classifier: {accuracy:.2f}\")\n"
      ]
    },
    {
      "cell_type": "markdown",
      "metadata": {
        "id": "7b0F3CHOstgE"
      },
      "source": [
        "## Q1.4 Report the precision, recall, f1 score and confusion matrix on the best of the two classifiers"
      ]
    },
    {
      "cell_type": "code",
      "execution_count": null,
      "metadata": {
        "id": "b8xcn_ZPsyhJ"
      },
      "outputs": [],
      "source": [
        "# write your code below to replace the ellipsis \"...\"\n",
        "# write your code below to replace the ellipsis \"...\"\n",
        "from sklearn.metrics import precision_score, recall_score, f1_score, confusion_matrix\n",
        "\n",
        "# Calculate precision, recall, and F1-score\n",
        "precision = precision_score(y_test, best_predictions1)\n",
        "recall = recall_score(y_test, best_predictions1)\n",
        "f1 = f1_score(y_test, best_predictions1)\n",
        "\n",
        "print(f\"Precision: {precision:.2f}\")\n",
        "print(f\"Recall: {recall:.2f}\")\n",
        "print(f\"F1-score: {f1:.2f}\")\n",
        "\n",
        "# Calculate the confusion matrix\n",
        "conf_matrix = confusion_matrix(y_test, best_predictions1)\n",
        "print(\"Confusion Matrix:\")\n",
        "print(conf_matrix)\n"
      ]
    },
    {
      "cell_type": "markdown",
      "metadata": {
        "id": "9gckRSHj3PdP"
      },
      "source": [
        "---\n",
        "## Question 2: Regression (10 marks)\n",
        "\n",
        "In this question you are given a simple dataset which you will perform regression on to predict values. You will build TWO Regression models and then take the best one and perform hyperparameter tuning on it.\n",
        "\n",
        "## Set up the environment"
      ]
    },
    {
      "cell_type": "markdown",
      "metadata": {
        "id": "_rXw674YtPdo"
      },
      "source": []
    },
    {
      "cell_type": "code",
      "execution_count": null,
      "metadata": {
        "id": "W-vFlRnBa2NP"
      },
      "outputs": [],
      "source": [
        "import numpy as np\n",
        "from sklearn.model_selection import train_test_split"
      ]
    },
    {
      "cell_type": "markdown",
      "metadata": {
        "id": "end1ynOha5cg"
      },
      "source": [
        "## Read in the data\n",
        "\n",
        "You'll need to download the data.csv file from https://ncl.instructure.com/courses/53509/files/7657710?wrap=1 and upload it to your Google Drive. I placed it in a folder called data. Then you need to mount your Google Drive in Colab (cell below)."
      ]
    },
    {
      "cell_type": "code",
      "execution_count": null,
      "metadata": {
        "colab": {
          "base_uri": "https://localhost:8080/"
        },
        "id": "cG7eucEW2RM9",
        "outputId": "069656db-fd99-4757-a870-5762f1e1087f"
      },
      "outputs": [
        {
          "name": "stdout",
          "output_type": "stream",
          "text": [
            "Mounted at /content/drive\n"
          ]
        }
      ],
      "source": [
        "from google.colab import drive\n",
        "drive.mount('/content/drive')"
      ]
    },
    {
      "cell_type": "markdown",
      "metadata": {
        "id": "WwYiqGNp9X_P"
      },
      "source": [
        "Then read in the data"
      ]
    },
    {
      "cell_type": "code",
      "execution_count": null,
      "metadata": {
        "colab": {
          "base_uri": "https://localhost:8080/"
        },
        "id": "pQRk-XkFa7ke",
        "outputId": "25d41bcb-db25-453d-a63a-c4365f7343bf"
      },
      "outputs": [
        {
          "name": "stdout",
          "output_type": "stream",
          "text": [
            "[[1.00000000e+00 9.00000000e+00 2.57259990e+00 2.49788633e+02]\n",
            " [1.00000000e+00 5.00000000e+00 9.21413366e+00 5.04502032e+02]\n",
            " [1.00000000e+00 1.70000000e+01 7.12330090e+00 1.33580225e+03]\n",
            " ...\n",
            " [5.00000000e+00 3.10000000e+01 6.80121067e+00 3.15979690e+03]\n",
            " [5.00000000e+00 1.00000000e+01 4.14995662e+00 6.21315789e+02]\n",
            " [5.00000000e+00 9.00000000e+00 9.61878173e+00 1.30105857e+03]]\n"
          ]
        }
      ],
      "source": [
        "data = np.loadtxt('/content/drive/MyDrive/Data/data.csv', delimiter=',')\n",
        "print(data)"
      ]
    },
    {
      "cell_type": "markdown",
      "metadata": {
        "id": "xr0Wc-5za96b"
      },
      "source": [
        "## Q2.1 Split the data into X and y\n",
        "\n",
        "X is the first three columns\n",
        "\n",
        "y is the last column"
      ]
    },
    {
      "cell_type": "code",
      "execution_count": null,
      "metadata": {
        "colab": {
          "base_uri": "https://localhost:8080/"
        },
        "id": "uXqIfwSKbBQ_",
        "outputId": "bd8efb46-291a-4f40-86e3-bbbf257b0319"
      },
      "outputs": [
        {
          "name": "stdout",
          "output_type": "stream",
          "text": [
            "Shape of X: (1000, 3)\n",
            "Shape of y: (1000,)\n"
          ]
        }
      ],
      "source": [
        "\n",
        "import numpy as np\n",
        "\n",
        "\n",
        "X=data[:,:3] # Select all rows and all columns except the last one for features\n",
        "y = data[:, -1]   # Select all rows and the last column for the target variable\n",
        "\n",
        "# Print the shapes of X and y to verify the split\n",
        "print(\"Shape of X:\", X.shape)\n",
        "print(\"Shape of y:\", y.shape)"
      ]
    },
    {
      "cell_type": "markdown",
      "metadata": {
        "id": "lWn0sY4MbGSc"
      },
      "source": [
        "## Q2.2 Create the Train and Test datasets\n",
        "\n",
        "20% of the data is kept back for testing"
      ]
    },
    {
      "cell_type": "code",
      "execution_count": null,
      "metadata": {
        "colab": {
          "base_uri": "https://localhost:8080/"
        },
        "id": "MGffSN2bbKG6",
        "outputId": "409fb431-02bd-4b40-8bfd-39c54f0e6e39"
      },
      "outputs": [
        {
          "name": "stdout",
          "output_type": "stream",
          "text": [
            "Training set - Features: (800, 3) Target: (800,)\n",
            "Test set - Features: (200, 3) Target: (200,)\n"
          ]
        }
      ],
      "source": [
        "# your answer here\n",
        "from sklearn.model_selection import train_test_split\n",
        "\n",
        "# Split the data into training and test sets (80% train, 20% test)\n",
        "X_train, X_test, y_train, y_test = train_test_split(X, y, test_size=0.2, random_state=42)\n",
        "\n",
        "# Print the shapes of the resulting sets\n",
        "print(\"Training set - Features:\", X_train.shape, \"Target:\", y_train.shape)\n",
        "print(\"Test set - Features:\", X_test.shape, \"Target:\", y_test.shape)"
      ]
    },
    {
      "cell_type": "markdown",
      "metadata": {
        "id": "wmtjZE2qbJrT"
      },
      "source": [
        "## Q2.3 Use TWO Regression approaches on the dataset\n",
        "\n",
        "In each case report the R^2 value against the test data."
      ]
    },
    {
      "cell_type": "markdown",
      "metadata": {
        "id": "7FVXkjyCdWNi"
      },
      "source": [
        "#LinearRegression"
      ]
    },
    {
      "cell_type": "markdown",
      "metadata": {
        "id": "zGk6m2CGbPZa"
      },
      "source": [
        "Q2.3.1 Regression approach 1"
      ]
    },
    {
      "cell_type": "code",
      "execution_count": null,
      "metadata": {
        "colab": {
          "base_uri": "https://localhost:8080/"
        },
        "id": "itckiAcAbS5h",
        "outputId": "9b022916-4778-4e76-c0f7-3b10e2221248"
      },
      "outputs": [
        {
          "name": "stdout",
          "output_type": "stream",
          "text": [
            "R-squared (Linear Regression): 0.8625\n"
          ]
        }
      ],
      "source": [
        "# your answer here\n",
        "from sklearn.linear_model import LinearRegression\n",
        "from sklearn.metrics import r2_score\n",
        "\n",
        "\n",
        "# 1. Linear Regression\n",
        "linear_reg = LinearRegression()\n",
        "linear_reg.fit(X_train, y_train)\n",
        "linear_reg_predictions = linear_reg.predict(X_test)\n",
        "linear_reg_r2 = r2_score(y_test, linear_reg_predictions)\n",
        "print(f\"R-squared (Linear Regression): {linear_reg_r2:.4f}\")\n",
        "\n",
        "\n"
      ]
    },
    {
      "cell_type": "markdown",
      "metadata": {
        "id": "Ose8yVjZderh"
      },
      "source": [
        "#Ridge Regression"
      ]
    },
    {
      "cell_type": "markdown",
      "metadata": {
        "id": "qsgsuh8zbTRg"
      },
      "source": [
        "Q2.3.2 Regression approach 2"
      ]
    },
    {
      "cell_type": "code",
      "execution_count": null,
      "metadata": {
        "colab": {
          "base_uri": "https://localhost:8080/"
        },
        "id": "Qr6GfmwbbV5c",
        "outputId": "fcc4e657-8737-46e3-cfa4-2bde5f48abbb"
      },
      "outputs": [
        {
          "name": "stdout",
          "output_type": "stream",
          "text": [
            "R^2 Score: 0.8625239425970855\n"
          ]
        }
      ],
      "source": [
        "# your answer here\n",
        "from sklearn.linear_model import Ridge\n",
        "from sklearn.datasets import make_regression\n",
        "from sklearn.model_selection import train_test_split\n",
        "from sklearn.metrics import mean_squared_error\n",
        "import numpy as np\n",
        "\n",
        "# Generating random data for demonstration\n",
        "#X, y = make_regression(n_samples=1000, n_features=10, noise=0.1, random_state=42)\n",
        "\n",
        "# Splitting the data into training and testing sets\n",
        "#X_train, X_test, y_train, y_test = train_test_split(X, y, test_size=0.2, random_state=42)\n",
        "\n",
        "# Creating and fitting the Ridge regression model\n",
        "#alpha = 0.1  # Regularization strength\n",
        "#ridge.fit(X_train, y_train)\n",
        "\n",
        "ridge=Ridge()\n",
        "ridge.fit(X_train,y_train)\n",
        "# Making predictions on the test set\n",
        "predictions = ridge.predict(X_test)\n",
        "\n",
        "r2 = r2_score(y_test, predictions)\n",
        "print(f\"R^2 Score: {r2}\")\n",
        "\n"
      ]
    },
    {
      "cell_type": "markdown",
      "metadata": {
        "id": "1BrenolkkCcN"
      },
      "source": [
        "#Hyperparameter using Ridge Regression"
      ]
    },
    {
      "cell_type": "markdown",
      "metadata": {
        "id": "m3JF75BVbb7R"
      },
      "source": [
        "## Q2.4 Optimise the hyperparameters\n",
        "\n",
        "Take your best Regression approach from above and identify the best hyperparameters. Note as some Regression approaches have many hyperparameters you may limit yourself here to just THREE."
      ]
    },
    {
      "cell_type": "markdown",
      "metadata": {
        "id": "BVEVAHb6BXRt"
      },
      "source": [
        "Q2.4.1 Search for the best hyperparameters"
      ]
    },
    {
      "cell_type": "code",
      "execution_count": null,
      "metadata": {
        "colab": {
          "base_uri": "https://localhost:8080/"
        },
        "id": "8ijdArC8bc46",
        "outputId": "3b9cefca-e4a4-4c4c-aeb5-09ecdcfd58f0"
      },
      "outputs": [
        {
          "name": "stdout",
          "output_type": "stream",
          "text": [
            "Best Parameters: {'alpha': 10}\n",
            "Best Score: 0.8446284937146773\n",
            "R-squared on Test Set: 0.8624012211555678\n"
          ]
        }
      ],
      "source": [
        "# your answer here\n",
        "import pandas as pd\n",
        "from sklearn.linear_model import Ridge\n",
        "from sklearn.model_selection import train_test_split, GridSearchCV\n",
        "from sklearn.preprocessing import StandardScaler\n",
        "\n",
        "\n",
        "# Splitting the dataset into training and testing sets\n",
        "X_train, X_test, y_train, y_test = train_test_split(X, y, test_size=0.2, random_state=42)\n",
        "\n",
        "# Create Ridge Regression model\n",
        "ridge_regression = Ridge()\n",
        "\n",
        "# Define hyperparameters to search\n",
        "param_grid = {\n",
        "    'alpha': [0.001, 0.01, 0.1, 1, 10]\n",
        "}\n",
        "\n",
        "# Grid Search for best alpha\n",
        "grid_search = GridSearchCV(estimator=ridge_regression, param_grid=param_grid, cv=5)\n",
        "grid_search.fit(X_train, y_train)\n",
        "\n",
        "# Get the best parameters and the best score\n",
        "best_params = grid_search.best_params_\n",
        "best_score = grid_search.best_score_\n",
        "\n",
        "print(\"Best Parameters:\", best_params)\n",
        "print(\"Best Score:\", best_score)\n",
        "\n",
        "# Train the model using the best alpha\n",
        "best_ridge_regression = Ridge(**best_params)\n",
        "best_ridge_regression.fit(X_train, y_train)\n",
        "\n",
        "# Evaluate the model\n",
        "score = best_ridge_regression.score(X_test, y_test)\n",
        "print(\"R-squared on Test Set:\", score)\n",
        "\n",
        "\n",
        "\n"
      ]
    },
    {
      "cell_type": "markdown",
      "metadata": {
        "id": "qcxDRE4UkJ82"
      },
      "source": [
        "#Best hyperparameter\n"
      ]
    },
    {
      "cell_type": "markdown",
      "metadata": {
        "id": "UNW3xx80bUyR"
      },
      "source": [
        "Q2.4.2 Output the best hyperparameters found"
      ]
    },
    {
      "cell_type": "code",
      "execution_count": null,
      "metadata": {
        "colab": {
          "base_uri": "https://localhost:8080/"
        },
        "id": "XqeEdsTyBf4G",
        "outputId": "63f4c645-d973-423c-d579-5fb21b41c7cd"
      },
      "outputs": [
        {
          "name": "stdout",
          "output_type": "stream",
          "text": [
            "Best hyperparameters: {'alpha': 10}\n"
          ]
        }
      ],
      "source": [
        "# your answer here\n",
        "# Get the best hyperparameters\n",
        "best_params = grid_search.best_params_\n",
        "print(\"Best hyperparameters:\", best_params)"
      ]
    },
    {
      "cell_type": "markdown",
      "metadata": {
        "id": "LRVDmIC5blNc"
      },
      "source": [
        "Q2.4.3 Show the results for the best model"
      ]
    },
    {
      "cell_type": "code",
      "execution_count": null,
      "metadata": {
        "colab": {
          "base_uri": "https://localhost:8080/",
          "height": 75
        },
        "id": "MO5YBeW3bmCa",
        "outputId": "dacb7590-316c-46af-e792-287818d561d3"
      },
      "outputs": [
        {
          "data": {
            "text/html": [
              "<style>#sk-container-id-1 {color: black;background-color: white;}#sk-container-id-1 pre{padding: 0;}#sk-container-id-1 div.sk-toggleable {background-color: white;}#sk-container-id-1 label.sk-toggleable__label {cursor: pointer;display: block;width: 100%;margin-bottom: 0;padding: 0.3em;box-sizing: border-box;text-align: center;}#sk-container-id-1 label.sk-toggleable__label-arrow:before {content: \"▸\";float: left;margin-right: 0.25em;color: #696969;}#sk-container-id-1 label.sk-toggleable__label-arrow:hover:before {color: black;}#sk-container-id-1 div.sk-estimator:hover label.sk-toggleable__label-arrow:before {color: black;}#sk-container-id-1 div.sk-toggleable__content {max-height: 0;max-width: 0;overflow: hidden;text-align: left;background-color: #f0f8ff;}#sk-container-id-1 div.sk-toggleable__content pre {margin: 0.2em;color: black;border-radius: 0.25em;background-color: #f0f8ff;}#sk-container-id-1 input.sk-toggleable__control:checked~div.sk-toggleable__content {max-height: 200px;max-width: 100%;overflow: auto;}#sk-container-id-1 input.sk-toggleable__control:checked~label.sk-toggleable__label-arrow:before {content: \"▾\";}#sk-container-id-1 div.sk-estimator input.sk-toggleable__control:checked~label.sk-toggleable__label {background-color: #d4ebff;}#sk-container-id-1 div.sk-label input.sk-toggleable__control:checked~label.sk-toggleable__label {background-color: #d4ebff;}#sk-container-id-1 input.sk-hidden--visually {border: 0;clip: rect(1px 1px 1px 1px);clip: rect(1px, 1px, 1px, 1px);height: 1px;margin: -1px;overflow: hidden;padding: 0;position: absolute;width: 1px;}#sk-container-id-1 div.sk-estimator {font-family: monospace;background-color: #f0f8ff;border: 1px dotted black;border-radius: 0.25em;box-sizing: border-box;margin-bottom: 0.5em;}#sk-container-id-1 div.sk-estimator:hover {background-color: #d4ebff;}#sk-container-id-1 div.sk-parallel-item::after {content: \"\";width: 100%;border-bottom: 1px solid gray;flex-grow: 1;}#sk-container-id-1 div.sk-label:hover label.sk-toggleable__label {background-color: #d4ebff;}#sk-container-id-1 div.sk-serial::before {content: \"\";position: absolute;border-left: 1px solid gray;box-sizing: border-box;top: 0;bottom: 0;left: 50%;z-index: 0;}#sk-container-id-1 div.sk-serial {display: flex;flex-direction: column;align-items: center;background-color: white;padding-right: 0.2em;padding-left: 0.2em;position: relative;}#sk-container-id-1 div.sk-item {position: relative;z-index: 1;}#sk-container-id-1 div.sk-parallel {display: flex;align-items: stretch;justify-content: center;background-color: white;position: relative;}#sk-container-id-1 div.sk-item::before, #sk-container-id-1 div.sk-parallel-item::before {content: \"\";position: absolute;border-left: 1px solid gray;box-sizing: border-box;top: 0;bottom: 0;left: 50%;z-index: -1;}#sk-container-id-1 div.sk-parallel-item {display: flex;flex-direction: column;z-index: 1;position: relative;background-color: white;}#sk-container-id-1 div.sk-parallel-item:first-child::after {align-self: flex-end;width: 50%;}#sk-container-id-1 div.sk-parallel-item:last-child::after {align-self: flex-start;width: 50%;}#sk-container-id-1 div.sk-parallel-item:only-child::after {width: 0;}#sk-container-id-1 div.sk-dashed-wrapped {border: 1px dashed gray;margin: 0 0.4em 0.5em 0.4em;box-sizing: border-box;padding-bottom: 0.4em;background-color: white;}#sk-container-id-1 div.sk-label label {font-family: monospace;font-weight: bold;display: inline-block;line-height: 1.2em;}#sk-container-id-1 div.sk-label-container {text-align: center;}#sk-container-id-1 div.sk-container {/* jupyter's `normalize.less` sets `[hidden] { display: none; }` but bootstrap.min.css set `[hidden] { display: none !important; }` so we also need the `!important` here to be able to override the default hidden behavior on the sphinx rendered scikit-learn.org. See: https://github.com/scikit-learn/scikit-learn/issues/21755 */display: inline-block !important;position: relative;}#sk-container-id-1 div.sk-text-repr-fallback {display: none;}</style><div id=\"sk-container-id-1\" class=\"sk-top-container\"><div class=\"sk-text-repr-fallback\"><pre>Ridge(alpha=10)</pre><b>In a Jupyter environment, please rerun this cell to show the HTML representation or trust the notebook. <br />On GitHub, the HTML representation is unable to render, please try loading this page with nbviewer.org.</b></div><div class=\"sk-container\" hidden><div class=\"sk-item\"><div class=\"sk-estimator sk-toggleable\"><input class=\"sk-toggleable__control sk-hidden--visually\" id=\"sk-estimator-id-1\" type=\"checkbox\" checked><label for=\"sk-estimator-id-1\" class=\"sk-toggleable__label sk-toggleable__label-arrow\">Ridge</label><div class=\"sk-toggleable__content\"><pre>Ridge(alpha=10)</pre></div></div></div></div></div>"
            ],
            "text/plain": [
              "Ridge(alpha=10)"
            ]
          },
          "execution_count": 21,
          "metadata": {},
          "output_type": "execute_result"
        }
      ],
      "source": [
        "# your answer here\n",
        "# Use the best model\n",
        "best_model = grid_search.best_estimator_\n",
        "\n",
        "# Make predictions on the test set using the best model\n",
        "best_predictions = best_model.predict(X_test)\n",
        "#best_predictions\n",
        "best_model"
      ]
    },
    {
      "cell_type": "markdown",
      "metadata": {
        "id": "srmm6k8N3bHl"
      },
      "source": [
        "---\n",
        "## Question 3: Deep Learning (10 marks)"
      ]
    },
    {
      "cell_type": "markdown",
      "metadata": {
        "id": "JGLqEuqrom65"
      },
      "source": [
        "Q3.1 For MNIST dataset, implement a deep learning model with 3 hidden layers with layer size: 128, 256, 50.\n"
      ]
    },
    {
      "cell_type": "code",
      "execution_count": null,
      "metadata": {
        "id": "Qohr1fFl11AQ"
      },
      "outputs": [],
      "source": [
        "from keras.models import Sequential\n",
        "from keras.layers import Dense, Activation, Dropout\n",
        "from keras.datasets import mnist\n",
        "import keras.utils as utils\n",
        "\n",
        "batch_size = 128\n",
        "nb_classes = 10\n",
        "im_dim = 784\n",
        "nb_epoch = 2"
      ]
    },
    {
      "cell_type": "code",
      "execution_count": null,
      "metadata": {
        "colab": {
          "base_uri": "https://localhost:8080/"
        },
        "id": "gKJlUuXy2MpW",
        "outputId": "dd7c1e57-b486-4d3e-829f-1c491cfb1f41"
      },
      "outputs": [
        {
          "name": "stdout",
          "output_type": "stream",
          "text": [
            "Downloading data from https://storage.googleapis.com/tensorflow/tf-keras-datasets/mnist.npz\n",
            "11490434/11490434 [==============================] - 0s 0us/step\n"
          ]
        }
      ],
      "source": [
        "(X_train, y_train), (X_test, y_test) = mnist.load_data()\n",
        "X_train = X_train.reshape(60000, im_dim)\n",
        "X_test = X_test.reshape(10000, im_dim)\n",
        "X_train = X_train.astype('float32')\n",
        "X_test = X_test.astype('float32')\n",
        "X_train /= 255\n",
        "X_test /= 255\n",
        "Y_train = utils.to_categorical(y_train, nb_classes)\n",
        "Y_test = utils.to_categorical(y_test, nb_classes)"
      ]
    },
    {
      "cell_type": "markdown",
      "metadata": {
        "id": "xE7mViEDwLjK"
      },
      "source": []
    },
    {
      "cell_type": "code",
      "execution_count": null,
      "metadata": {
        "id": "mzOgmZhH2YEo"
      },
      "outputs": [],
      "source": [
        "model = Sequential()\n",
        "model.add(Dense(128, input_shape=(im_dim,), activation='relu'))\n",
        "model.add(Dropout(0.2))\n",
        "model.add(Dense(256, activation='relu'))\n",
        "model.add(Dropout(0.2))\n",
        "model.add(Dense(50, activation='relu'))\n",
        "model.add(Dropout(0.2))\n",
        "model.add(Dense(nb_classes, activation='softmax'))"
      ]
    },
    {
      "cell_type": "markdown",
      "metadata": {
        "id": "dSWAUZHhE2sS"
      },
      "source": [
        "Add code to output your network structure"
      ]
    },
    {
      "cell_type": "code",
      "execution_count": null,
      "metadata": {
        "colab": {
          "base_uri": "https://localhost:8080/"
        },
        "id": "ZG7FyBFb208l",
        "outputId": "39fd1356-ad94-4305-e3b8-1c60194c0ac8"
      },
      "outputs": [
        {
          "name": "stdout",
          "output_type": "stream",
          "text": [
            "Model: \"sequential\"\n",
            "_________________________________________________________________\n",
            " Layer (type)                Output Shape              Param #   \n",
            "=================================================================\n",
            " dense (Dense)               (None, 128)               100480    \n",
            "                                                                 \n",
            " dropout (Dropout)           (None, 128)               0         \n",
            "                                                                 \n",
            " dense_1 (Dense)             (None, 256)               33024     \n",
            "                                                                 \n",
            " dropout_1 (Dropout)         (None, 256)               0         \n",
            "                                                                 \n",
            " dense_2 (Dense)             (None, 50)                12850     \n",
            "                                                                 \n",
            " dropout_2 (Dropout)         (None, 50)                0         \n",
            "                                                                 \n",
            " dense_3 (Dense)             (None, 10)                510       \n",
            "                                                                 \n",
            "=================================================================\n",
            "Total params: 146864 (573.69 KB)\n",
            "Trainable params: 146864 (573.69 KB)\n",
            "Non-trainable params: 0 (0.00 Byte)\n",
            "_________________________________________________________________\n"
          ]
        }
      ],
      "source": [
        "model.summary()"
      ]
    },
    {
      "cell_type": "code",
      "execution_count": null,
      "metadata": {
        "id": "p35KVJsvH9gR"
      },
      "outputs": [],
      "source": [
        "model.compile(loss='categorical_crossentropy', optimizer='adam', metrics=['accuracy'])"
      ]
    },
    {
      "cell_type": "markdown",
      "metadata": {
        "id": "g1TKigVc-q37"
      },
      "source": [
        "Train the model for just two epochs to show it works. All code provided - just run."
      ]
    },
    {
      "cell_type": "code",
      "execution_count": null,
      "metadata": {
        "colab": {
          "base_uri": "https://localhost:8080/"
        },
        "id": "2l4j6djO0xPE",
        "outputId": "92499cc5-147a-483e-949a-964042bd13c5"
      },
      "outputs": [
        {
          "name": "stdout",
          "output_type": "stream",
          "text": [
            "Epoch 1/2\n",
            "375/375 [==============================] - 7s 10ms/step - loss: 0.4903 - accuracy: 0.8484 - val_loss: 0.1603 - val_accuracy: 0.9523\n",
            "Epoch 2/2\n",
            "375/375 [==============================] - 3s 8ms/step - loss: 0.1984 - accuracy: 0.9432 - val_loss: 0.1211 - val_accuracy: 0.9637\n",
            "313/313 [==============================] - 1s 2ms/step - loss: 0.1246 - accuracy: 0.9617\n",
            "Summary: Loss over the test dataset: 0.12, Accuracy: 0.96\n"
          ]
        }
      ],
      "source": [
        "history = model.fit(X_train, Y_train, epochs=nb_epoch,\n",
        "                    validation_split = 0.2,\n",
        "                    batch_size=batch_size, verbose=1)\n",
        "evaluation = model.evaluate(X_test, Y_test, verbose=1)\n",
        "print('Summary: Loss over the test dataset: %.2f, Accuracy: %.2f' % (evaluation[0], evaluation[1]))"
      ]
    },
    {
      "cell_type": "markdown",
      "metadata": {
        "id": "P_QoG4wjo2-p"
      },
      "source": [
        "Q 3.2 For MNIST dataset, implement a CNN model with only one 2D CNN layer as the hidden layer."
      ]
    },
    {
      "cell_type": "code",
      "execution_count": null,
      "metadata": {
        "colab": {
          "base_uri": "https://localhost:8080/"
        },
        "id": "3_2Usx0x5AGf",
        "outputId": "c5cca793-4f0c-4630-9d8a-b3a8d145ee4f"
      },
      "outputs": [
        {
          "name": "stdout",
          "output_type": "stream",
          "text": [
            "x_train shape: (60000, 28, 28, 1)\n",
            "60000 train samples\n",
            "10000 test samples\n"
          ]
        }
      ],
      "source": [
        "import keras\n",
        "from keras.datasets import mnist\n",
        "from keras.models import Sequential\n",
        "from keras.layers import Dense, Dropout, Flatten\n",
        "from keras.layers import Conv2D, MaxPooling2D\n",
        "from keras import backend as K\n",
        "\n",
        "batch_size = 128\n",
        "num_classes = 10\n",
        "epochs = 2\n",
        "\n",
        "\n",
        "(x_train, y_train), (x_test, y_test) = mnist.load_data()\n",
        "\n",
        "# input image dimensions\n",
        "img_rows, img_cols = 28, 28\n",
        "x_train = x_train.reshape(x_train.shape[0], img_rows, img_cols, 1)\n",
        "x_test = x_test.reshape(x_test.shape[0], img_rows, img_cols, 1)\n",
        "\n",
        "x_train = x_train.astype('float32')\n",
        "x_test = x_test.astype('float32')\n",
        "x_train /= 255\n",
        "x_test /= 255\n",
        "print('x_train shape:', x_train.shape)\n",
        "print(x_train.shape[0], 'train samples')\n",
        "print(x_test.shape[0], 'test samples')\n",
        "\n",
        "# convert class vectors to binary class matrices\n",
        "y_train = keras.utils.to_categorical(y_train, num_classes)\n",
        "y_test = keras.utils.to_categorical(y_test, num_classes)"
      ]
    },
    {
      "cell_type": "code",
      "execution_count": null,
      "metadata": {
        "id": "5UjhYfvX5OCM"
      },
      "outputs": [],
      "source": [
        "# Write down your code about the CNN model of Q3.2 here\n",
        "# you should call your model 'model'\n",
        "# Write down your code about the CNN model of Q3.2 here\n",
        "# you should call your model 'model'\n",
        "# ...\n",
        "model = Sequential()\n",
        "model.add(Conv2D(32, kernel_size=(3, 3), activation='relu', input_shape=(28, 28, 1)))\n",
        "model.add(MaxPooling2D(pool_size=(2, 2)))\n",
        "#model.add(Conv2D(64, (3, 3), activation='relu'))\n",
        "#model.add(MaxPooling2D(pool_size=(2, 2)))\n",
        "model.add(Flatten())\n",
        "#model.add(Dense(128, activation='relu'))\n",
        "model.add(Dropout(0.5))\n",
        "model.add(Dense(10, activation='softmax'))"
      ]
    },
    {
      "cell_type": "markdown",
      "metadata": {
        "id": "lZpz9nRi5lj9"
      },
      "source": [
        "Add code to output your network structure"
      ]
    },
    {
      "cell_type": "code",
      "execution_count": null,
      "metadata": {
        "colab": {
          "base_uri": "https://localhost:8080/"
        },
        "id": "zlhSLt6U5nLF",
        "outputId": "33f03fea-15ac-45c5-9522-fe82f8483dd2"
      },
      "outputs": [
        {
          "name": "stdout",
          "output_type": "stream",
          "text": [
            "Model: \"sequential_1\"\n",
            "_________________________________________________________________\n",
            " Layer (type)                Output Shape              Param #   \n",
            "=================================================================\n",
            " conv2d (Conv2D)             (None, 26, 26, 32)        320       \n",
            "                                                                 \n",
            " max_pooling2d (MaxPooling2  (None, 13, 13, 32)        0         \n",
            " D)                                                              \n",
            "                                                                 \n",
            " flatten (Flatten)           (None, 5408)              0         \n",
            "                                                                 \n",
            " dropout_3 (Dropout)         (None, 5408)              0         \n",
            "                                                                 \n",
            " dense_4 (Dense)             (None, 10)                54090     \n",
            "                                                                 \n",
            "=================================================================\n",
            "Total params: 54410 (212.54 KB)\n",
            "Trainable params: 54410 (212.54 KB)\n",
            "Non-trainable params: 0 (0.00 Byte)\n",
            "_________________________________________________________________\n"
          ]
        }
      ],
      "source": [
        "# your code here\n",
        "model.summary()"
      ]
    },
    {
      "cell_type": "code",
      "execution_count": null,
      "metadata": {
        "id": "gvS9RyIKIYpZ"
      },
      "outputs": [],
      "source": [
        "model.compile(loss='categorical_crossentropy', optimizer='adam', metrics=['accuracy'])\n"
      ]
    },
    {
      "cell_type": "markdown",
      "metadata": {
        "id": "Z4mhkn4N5Tq3"
      },
      "source": [
        "We just train for two epochs to demonstrate that the network does work. Just run it."
      ]
    },
    {
      "cell_type": "code",
      "execution_count": null,
      "metadata": {
        "colab": {
          "base_uri": "https://localhost:8080/"
        },
        "id": "wEkhYk7npCun",
        "outputId": "d28e9dd9-a430-474a-cd81-1a87b59bd4c5"
      },
      "outputs": [
        {
          "name": "stdout",
          "output_type": "stream",
          "text": [
            "Epoch 1/2\n",
            "375/375 [==============================] - 33s 80ms/step - loss: 0.4434 - accuracy: 0.8766 - val_loss: 0.1913 - val_accuracy: 0.9477\n",
            "Epoch 2/2\n",
            "375/375 [==============================] - 20s 53ms/step - loss: 0.1864 - accuracy: 0.9442 - val_loss: 0.1226 - val_accuracy: 0.9674\n",
            "Summary: Loss over the test dataset: 0.12, Accuracy: 0.97\n"
          ]
        }
      ],
      "source": [
        "history = model.fit(x_train, y_train, batch_size=batch_size, epochs=epochs,\n",
        "              verbose=1, shuffle=True,\n",
        "              validation_split = 0.2)\n",
        "score = model.evaluate(x_test, y_test, verbose=0)\n",
        "print('Summary: Loss over the test dataset: %.2f, Accuracy: %.2f' % (score[0], score[1]))"
      ]
    },
    {
      "cell_type": "markdown",
      "metadata": {
        "id": "rIwvxKzo4Cnp"
      },
      "source": [
        "---\n",
        "---\n",
        "---\n",
        "#Mini-projects: Introduction\n",
        "\n",
        "The remainder of this document defines four project-style questions which go more deeply into one of the areas from the module. You should pick **ONE** of these project-stye questions to answer.\n",
        "\n",
        "The learning objectives of this assignment are:\n",
        "1. To learn about the design of machine learning analysis pipelines\n",
        "2. To understand how to select appropriate methods given the dataset type\n",
        "3. To learn how to conduct machine learning experimentation in a rigorous and effective manner\n",
        "4. To critically evaluate the performance of the designed machine learning pipelines\n",
        "5. To learn and practice the skills of reporting machine learning experiments\n",
        "\n",
        "For this coursework you will be provided with a choice of four different datasets of different nature\n",
        "1. A tabular dataset (defined as a classification problem)\n",
        "2. An image dataset\n",
        "3. A text dataset\n",
        "4. A time series dataset\n",
        "\n",
        "Your job is easy to state: You should pick ONE out of these four options and design a range of machine learning pipelines appropriate to the nature of each of the selected datasets. Overall, we expect that you will perform a thorough investigation involving (whenever relevant) all parts of a machine learning pipeline (exploration, preprocessing, model training, model interpretation and evaluation), evaluating a range of options for all parts of the pipeline and with proper hyperparameter tuning.\n",
        "\n",
        "You will have to write a short report (as part of this notebook) that presents the experiments you did, their justification, a detailed description of the performance of your designed pipelines using the most appropriate presentation tools (e.g., tables of results, plots). We expect that you should be able to present your work at a level of detail that would enable a fellow student to reproduce your steps.\n",
        "\n",
        "## Deliverables\n",
        "An inline report and code blocks addressing the marking scheme below. The report should have 1000 to 2000 words. The word count excludes references, tables, figures and section headers, and has a 10% leeway.\n",
        "\n",
        "## Marking scheme\n",
        "\n",
        "- Writing Style, references, figures, etc. 7 marks\n",
        "- Dataset exploration 7 marks\n",
        "- Methods 21 marks\n",
        "- Results of analysis 21 marks\n",
        "- Discussion 14 marks"
      ]
    },
    {
      "cell_type": "markdown",
      "metadata": {
        "id": "YFvmBHNN4ZAx"
      },
      "source": [
        "---\n",
        "---\n",
        "## Project 1: Tabular dataset (70 marks)\n",
        "\n",
        "The dataset, called FARS, is a collection of statistics of US road traffic accidents. The class label is about the severity of the accident. It has 20 features and over 100K examples. The dataset is available in Canvas as a CSV file, in which the last column contains the class labels: https://ncl.instructure.com/courses/53509/files/7652449/download?download_frd=1\n",
        "\n",
        "Experiments on the tabular dataset will be relatively fast compared to the other three options. To compensate, we expect that you evaluate a very broad range of options for the design of your machine learning pipelines, including (but not limited to) data normalisation, feature/instance selection, class imbalance correction, several (appropriate) machine learning models, hyperparameter tuning and cross-validation evaluation."
      ]
    },
    {
      "cell_type": "markdown",
      "metadata": {
        "id": "xDPwGIZYWNG5"
      },
      "source": [
        "# Tabular Data\n"
      ]
    },
    {
      "cell_type": "markdown",
      "metadata": {
        "id": "stbVPQx8wM7s"
      },
      "source": [
        "##**Importing libraries**"
      ]
    },
    {
      "cell_type": "markdown",
      "metadata": {
        "id": "yadHyj0SvZxY"
      },
      "source": [
        "In the following section importing pandas,seaboarn and sklearn ,libraries."
      ]
    },
    {
      "cell_type": "code",
      "execution_count": 49,
      "metadata": {
        "id": "9kwhWir0WQj-"
      },
      "outputs": [],
      "source": [
        "import pandas as pd\n",
        "import seaborn as sns\n",
        "import matplotlib.pyplot as plt\n",
        "from sklearn.preprocessing import LabelEncoder\n",
        "from sklearn.preprocessing import OneHotEncoder\n",
        "from sklearn.preprocessing import MinMaxScaler\n",
        "from sklearn.model_selection import train_test_split\n",
        "from sklearn.decomposition import PCA\n",
        "from sklearn.tree import DecisionTreeClassifier\n",
        "from sklearn.metrics import accuracy_score\n",
        "from sklearn.metrics import confusion_matrix\n",
        "from sklearn.model_selection import GridSearchCV\n",
        "from sklearn.ensemble import RandomForestClassifier\n",
        "from sklearn.datasets import make_classification\n",
        "from sklearn.neighbors import KNeighborsClassifier\n",
        "from sklearn.metrics import classification_report\n",
        "from sklearn.metrics import precision_score, recall_score, f1_score\n",
        "from sklearn.svm import SVC\n"
      ]
    },
    {
      "cell_type": "markdown",
      "metadata": {
        "id": "3POpMqMCv370"
      },
      "source": [
        "##Read in the data"
      ]
    },
    {
      "cell_type": "markdown",
      "metadata": {
        "id": "BA_gLXr9wnwF"
      },
      "source": [
        "Loading fars data & reading it through pandas library.The data is being read into data variable"
      ]
    },
    {
      "cell_type": "code",
      "execution_count": 50,
      "metadata": {
        "id": "W_kPVNxbI5xz"
      },
      "outputs": [],
      "source": [
        "file_path = '/content/fars 2.csv'\n",
        "data = pd.read_csv(file_path)"
      ]
    },
    {
      "cell_type": "markdown",
      "metadata": {
        "id": "FKR5keq5wlRc"
      },
      "source": [
        "Number of row 100968 and column is 30"
      ]
    },
    {
      "cell_type": "code",
      "execution_count": 51,
      "metadata": {
        "colab": {
          "base_uri": "https://localhost:8080/"
        },
        "id": "WedIb1bmI50D",
        "outputId": "a3a2961a-9340-439c-f4d2-26ec674c2167"
      },
      "outputs": [
        {
          "data": {
            "text/plain": [
              "(100968, 30)"
            ]
          },
          "execution_count": 51,
          "metadata": {},
          "output_type": "execute_result"
        }
      ],
      "source": [
        "data.shape"
      ]
    },
    {
      "cell_type": "markdown",
      "metadata": {
        "id": "52Ey7kg8xLf6"
      },
      "source": [
        "Printing all the 30 columns of the data variable"
      ]
    },
    {
      "cell_type": "code",
      "execution_count": 52,
      "metadata": {
        "colab": {
          "base_uri": "https://localhost:8080/"
        },
        "id": "n0r6en26I52h",
        "outputId": "cb2f01d2-68fb-4996-cf15-1c0d95f82de2"
      },
      "outputs": [
        {
          "data": {
            "text/plain": [
              "Index(['CASE_STATE', 'AGE', 'SEX', 'PERSON_TYPE', 'SEATING_POSITION',\n",
              "       'RESTRAINT_SYSTEM-USE', 'AIR_BAG_AVAILABILITY/DEPLOYMENT', 'EJECTION',\n",
              "       'EJECTION_PATH', 'EXTRICATION', 'NON_MOTORIST_LOCATION',\n",
              "       'POLICE_REPORTED_ALCOHOL_INVOLVEMENT', 'METHOD_ALCOHOL_DETERMINATION',\n",
              "       'ALCOHOL_TEST_TYPE', 'ALCOHOL_TEST_RESULT',\n",
              "       'POLICE-REPORTED_DRUG_INVOLVEMENT', 'METHOD_OF_DRUG_DETERMINATION',\n",
              "       'DRUG_TEST_TYPE_(1_of_3)', 'DRUG_TEST_RESULTS_(1_of_3)',\n",
              "       'DRUG_TEST_TYPE_(2_of_3)', 'DRUG_TEST_RESULTS_(2_of_3)',\n",
              "       'DRUG_TEST_TYPE_(3_of_3)', 'DRUG_TEST_RESULTS_(3_of_3)',\n",
              "       'HISPANIC_ORIGIN', 'TAKEN_TO_HOSPITAL',\n",
              "       'RELATED_FACTOR_(1)-PERSON_LEVEL', 'RELATED_FACTOR_(2)-PERSON_LEVEL',\n",
              "       'RELATED_FACTOR_(3)-PERSON_LEVEL', 'RACE', 'INJURY_SEVERITY'],\n",
              "      dtype='object')"
            ]
          },
          "execution_count": 52,
          "metadata": {},
          "output_type": "execute_result"
        }
      ],
      "source": [
        "data.columns"
      ]
    },
    {
      "cell_type": "markdown",
      "metadata": {
        "id": "-5FrqVUQxiic"
      },
      "source": [
        "data.describe() provides a summary of descriptive statistics for numerical columns in the dataset.                                        \n",
        "Count- tells about number of non null values present in each column.                                    \n",
        "Mean-calculates the average value of each column which has datatype as int 64                            \n",
        "std-define the standard deviation for each column           \n",
        "min-It defines the minimum value of that particular column             \n",
        "max-It defines the maximun value of that particular column\n",
        "25%- Value below which 25% of the data falls.        \n",
        "50%-Middle value separating the higher half from the lower half of the data.                  \n",
        "75%-Value below which 75% of the data falls.\n",
        "\n",
        "\n"
      ]
    },
    {
      "cell_type": "code",
      "execution_count": 53,
      "metadata": {
        "colab": {
          "base_uri": "https://localhost:8080/",
          "height": 300
        },
        "id": "LFCuumbxI542",
        "outputId": "9edc0dc4-38ca-4688-e052-6e2a3a660cd3"
      },
      "outputs": [
        {
          "data": {
            "text/html": [
              "\n",
              "  <div id=\"df-16bc14a2-60ca-40a7-8f14-199ffb6a2b87\" class=\"colab-df-container\">\n",
              "    <div>\n",
              "<style scoped>\n",
              "    .dataframe tbody tr th:only-of-type {\n",
              "        vertical-align: middle;\n",
              "    }\n",
              "\n",
              "    .dataframe tbody tr th {\n",
              "        vertical-align: top;\n",
              "    }\n",
              "\n",
              "    .dataframe thead th {\n",
              "        text-align: right;\n",
              "    }\n",
              "</style>\n",
              "<table border=\"1\" class=\"dataframe\">\n",
              "  <thead>\n",
              "    <tr style=\"text-align: right;\">\n",
              "      <th></th>\n",
              "      <th>AGE</th>\n",
              "      <th>ALCOHOL_TEST_RESULT</th>\n",
              "      <th>DRUG_TEST_RESULTS_(1_of_3)</th>\n",
              "      <th>DRUG_TEST_RESULTS_(2_of_3)</th>\n",
              "      <th>DRUG_TEST_RESULTS_(3_of_3)</th>\n",
              "    </tr>\n",
              "  </thead>\n",
              "  <tbody>\n",
              "    <tr>\n",
              "      <th>count</th>\n",
              "      <td>100968.000000</td>\n",
              "      <td>100968.000000</td>\n",
              "      <td>100968.000000</td>\n",
              "      <td>100968.000000</td>\n",
              "      <td>100968.000000</td>\n",
              "    </tr>\n",
              "    <tr>\n",
              "      <th>mean</th>\n",
              "      <td>37.106707</td>\n",
              "      <td>68.023116</td>\n",
              "      <td>207.393758</td>\n",
              "      <td>100.089672</td>\n",
              "      <td>95.441556</td>\n",
              "    </tr>\n",
              "    <tr>\n",
              "      <th>std</th>\n",
              "      <td>22.109641</td>\n",
              "      <td>42.306371</td>\n",
              "      <td>396.194002</td>\n",
              "      <td>295.089512</td>\n",
              "      <td>292.121277</td>\n",
              "    </tr>\n",
              "    <tr>\n",
              "      <th>min</th>\n",
              "      <td>0.000000</td>\n",
              "      <td>0.000000</td>\n",
              "      <td>0.000000</td>\n",
              "      <td>0.000000</td>\n",
              "      <td>0.000000</td>\n",
              "    </tr>\n",
              "    <tr>\n",
              "      <th>25%</th>\n",
              "      <td>20.000000</td>\n",
              "      <td>15.000000</td>\n",
              "      <td>0.000000</td>\n",
              "      <td>0.000000</td>\n",
              "      <td>0.000000</td>\n",
              "    </tr>\n",
              "    <tr>\n",
              "      <th>50%</th>\n",
              "      <td>32.000000</td>\n",
              "      <td>96.000000</td>\n",
              "      <td>0.000000</td>\n",
              "      <td>0.000000</td>\n",
              "      <td>0.000000</td>\n",
              "    </tr>\n",
              "    <tr>\n",
              "      <th>75%</th>\n",
              "      <td>49.000000</td>\n",
              "      <td>96.000000</td>\n",
              "      <td>1.000000</td>\n",
              "      <td>0.000000</td>\n",
              "      <td>0.000000</td>\n",
              "    </tr>\n",
              "    <tr>\n",
              "      <th>max</th>\n",
              "      <td>99.000000</td>\n",
              "      <td>99.000000</td>\n",
              "      <td>999.000000</td>\n",
              "      <td>999.000000</td>\n",
              "      <td>999.000000</td>\n",
              "    </tr>\n",
              "  </tbody>\n",
              "</table>\n",
              "</div>\n",
              "    <div class=\"colab-df-buttons\">\n",
              "\n",
              "  <div class=\"colab-df-container\">\n",
              "    <button class=\"colab-df-convert\" onclick=\"convertToInteractive('df-16bc14a2-60ca-40a7-8f14-199ffb6a2b87')\"\n",
              "            title=\"Convert this dataframe to an interactive table.\"\n",
              "            style=\"display:none;\">\n",
              "\n",
              "  <svg xmlns=\"http://www.w3.org/2000/svg\" height=\"24px\" viewBox=\"0 -960 960 960\">\n",
              "    <path d=\"M120-120v-720h720v720H120Zm60-500h600v-160H180v160Zm220 220h160v-160H400v160Zm0 220h160v-160H400v160ZM180-400h160v-160H180v160Zm440 0h160v-160H620v160ZM180-180h160v-160H180v160Zm440 0h160v-160H620v160Z\"/>\n",
              "  </svg>\n",
              "    </button>\n",
              "\n",
              "  <style>\n",
              "    .colab-df-container {\n",
              "      display:flex;\n",
              "      gap: 12px;\n",
              "    }\n",
              "\n",
              "    .colab-df-convert {\n",
              "      background-color: #E8F0FE;\n",
              "      border: none;\n",
              "      border-radius: 50%;\n",
              "      cursor: pointer;\n",
              "      display: none;\n",
              "      fill: #1967D2;\n",
              "      height: 32px;\n",
              "      padding: 0 0 0 0;\n",
              "      width: 32px;\n",
              "    }\n",
              "\n",
              "    .colab-df-convert:hover {\n",
              "      background-color: #E2EBFA;\n",
              "      box-shadow: 0px 1px 2px rgba(60, 64, 67, 0.3), 0px 1px 3px 1px rgba(60, 64, 67, 0.15);\n",
              "      fill: #174EA6;\n",
              "    }\n",
              "\n",
              "    .colab-df-buttons div {\n",
              "      margin-bottom: 4px;\n",
              "    }\n",
              "\n",
              "    [theme=dark] .colab-df-convert {\n",
              "      background-color: #3B4455;\n",
              "      fill: #D2E3FC;\n",
              "    }\n",
              "\n",
              "    [theme=dark] .colab-df-convert:hover {\n",
              "      background-color: #434B5C;\n",
              "      box-shadow: 0px 1px 3px 1px rgba(0, 0, 0, 0.15);\n",
              "      filter: drop-shadow(0px 1px 2px rgba(0, 0, 0, 0.3));\n",
              "      fill: #FFFFFF;\n",
              "    }\n",
              "  </style>\n",
              "\n",
              "    <script>\n",
              "      const buttonEl =\n",
              "        document.querySelector('#df-16bc14a2-60ca-40a7-8f14-199ffb6a2b87 button.colab-df-convert');\n",
              "      buttonEl.style.display =\n",
              "        google.colab.kernel.accessAllowed ? 'block' : 'none';\n",
              "\n",
              "      async function convertToInteractive(key) {\n",
              "        const element = document.querySelector('#df-16bc14a2-60ca-40a7-8f14-199ffb6a2b87');\n",
              "        const dataTable =\n",
              "          await google.colab.kernel.invokeFunction('convertToInteractive',\n",
              "                                                    [key], {});\n",
              "        if (!dataTable) return;\n",
              "\n",
              "        const docLinkHtml = 'Like what you see? Visit the ' +\n",
              "          '<a target=\"_blank\" href=https://colab.research.google.com/notebooks/data_table.ipynb>data table notebook</a>'\n",
              "          + ' to learn more about interactive tables.';\n",
              "        element.innerHTML = '';\n",
              "        dataTable['output_type'] = 'display_data';\n",
              "        await google.colab.output.renderOutput(dataTable, element);\n",
              "        const docLink = document.createElement('div');\n",
              "        docLink.innerHTML = docLinkHtml;\n",
              "        element.appendChild(docLink);\n",
              "      }\n",
              "    </script>\n",
              "  </div>\n",
              "\n",
              "\n",
              "<div id=\"df-e0045b52-545c-4d5e-8ebf-2317c8618fa0\">\n",
              "  <button class=\"colab-df-quickchart\" onclick=\"quickchart('df-e0045b52-545c-4d5e-8ebf-2317c8618fa0')\"\n",
              "            title=\"Suggest charts\"\n",
              "            style=\"display:none;\">\n",
              "\n",
              "<svg xmlns=\"http://www.w3.org/2000/svg\" height=\"24px\"viewBox=\"0 0 24 24\"\n",
              "     width=\"24px\">\n",
              "    <g>\n",
              "        <path d=\"M19 3H5c-1.1 0-2 .9-2 2v14c0 1.1.9 2 2 2h14c1.1 0 2-.9 2-2V5c0-1.1-.9-2-2-2zM9 17H7v-7h2v7zm4 0h-2V7h2v10zm4 0h-2v-4h2v4z\"/>\n",
              "    </g>\n",
              "</svg>\n",
              "  </button>\n",
              "\n",
              "<style>\n",
              "  .colab-df-quickchart {\n",
              "      --bg-color: #E8F0FE;\n",
              "      --fill-color: #1967D2;\n",
              "      --hover-bg-color: #E2EBFA;\n",
              "      --hover-fill-color: #174EA6;\n",
              "      --disabled-fill-color: #AAA;\n",
              "      --disabled-bg-color: #DDD;\n",
              "  }\n",
              "\n",
              "  [theme=dark] .colab-df-quickchart {\n",
              "      --bg-color: #3B4455;\n",
              "      --fill-color: #D2E3FC;\n",
              "      --hover-bg-color: #434B5C;\n",
              "      --hover-fill-color: #FFFFFF;\n",
              "      --disabled-bg-color: #3B4455;\n",
              "      --disabled-fill-color: #666;\n",
              "  }\n",
              "\n",
              "  .colab-df-quickchart {\n",
              "    background-color: var(--bg-color);\n",
              "    border: none;\n",
              "    border-radius: 50%;\n",
              "    cursor: pointer;\n",
              "    display: none;\n",
              "    fill: var(--fill-color);\n",
              "    height: 32px;\n",
              "    padding: 0;\n",
              "    width: 32px;\n",
              "  }\n",
              "\n",
              "  .colab-df-quickchart:hover {\n",
              "    background-color: var(--hover-bg-color);\n",
              "    box-shadow: 0 1px 2px rgba(60, 64, 67, 0.3), 0 1px 3px 1px rgba(60, 64, 67, 0.15);\n",
              "    fill: var(--button-hover-fill-color);\n",
              "  }\n",
              "\n",
              "  .colab-df-quickchart-complete:disabled,\n",
              "  .colab-df-quickchart-complete:disabled:hover {\n",
              "    background-color: var(--disabled-bg-color);\n",
              "    fill: var(--disabled-fill-color);\n",
              "    box-shadow: none;\n",
              "  }\n",
              "\n",
              "  .colab-df-spinner {\n",
              "    border: 2px solid var(--fill-color);\n",
              "    border-color: transparent;\n",
              "    border-bottom-color: var(--fill-color);\n",
              "    animation:\n",
              "      spin 1s steps(1) infinite;\n",
              "  }\n",
              "\n",
              "  @keyframes spin {\n",
              "    0% {\n",
              "      border-color: transparent;\n",
              "      border-bottom-color: var(--fill-color);\n",
              "      border-left-color: var(--fill-color);\n",
              "    }\n",
              "    20% {\n",
              "      border-color: transparent;\n",
              "      border-left-color: var(--fill-color);\n",
              "      border-top-color: var(--fill-color);\n",
              "    }\n",
              "    30% {\n",
              "      border-color: transparent;\n",
              "      border-left-color: var(--fill-color);\n",
              "      border-top-color: var(--fill-color);\n",
              "      border-right-color: var(--fill-color);\n",
              "    }\n",
              "    40% {\n",
              "      border-color: transparent;\n",
              "      border-right-color: var(--fill-color);\n",
              "      border-top-color: var(--fill-color);\n",
              "    }\n",
              "    60% {\n",
              "      border-color: transparent;\n",
              "      border-right-color: var(--fill-color);\n",
              "    }\n",
              "    80% {\n",
              "      border-color: transparent;\n",
              "      border-right-color: var(--fill-color);\n",
              "      border-bottom-color: var(--fill-color);\n",
              "    }\n",
              "    90% {\n",
              "      border-color: transparent;\n",
              "      border-bottom-color: var(--fill-color);\n",
              "    }\n",
              "  }\n",
              "</style>\n",
              "\n",
              "  <script>\n",
              "    async function quickchart(key) {\n",
              "      const quickchartButtonEl =\n",
              "        document.querySelector('#' + key + ' button');\n",
              "      quickchartButtonEl.disabled = true;  // To prevent multiple clicks.\n",
              "      quickchartButtonEl.classList.add('colab-df-spinner');\n",
              "      try {\n",
              "        const charts = await google.colab.kernel.invokeFunction(\n",
              "            'suggestCharts', [key], {});\n",
              "      } catch (error) {\n",
              "        console.error('Error during call to suggestCharts:', error);\n",
              "      }\n",
              "      quickchartButtonEl.classList.remove('colab-df-spinner');\n",
              "      quickchartButtonEl.classList.add('colab-df-quickchart-complete');\n",
              "    }\n",
              "    (() => {\n",
              "      let quickchartButtonEl =\n",
              "        document.querySelector('#df-e0045b52-545c-4d5e-8ebf-2317c8618fa0 button');\n",
              "      quickchartButtonEl.style.display =\n",
              "        google.colab.kernel.accessAllowed ? 'block' : 'none';\n",
              "    })();\n",
              "  </script>\n",
              "</div>\n",
              "    </div>\n",
              "  </div>\n"
            ],
            "text/plain": [
              "                 AGE  ALCOHOL_TEST_RESULT  DRUG_TEST_RESULTS_(1_of_3)  \\\n",
              "count  100968.000000        100968.000000               100968.000000   \n",
              "mean       37.106707            68.023116                  207.393758   \n",
              "std        22.109641            42.306371                  396.194002   \n",
              "min         0.000000             0.000000                    0.000000   \n",
              "25%        20.000000            15.000000                    0.000000   \n",
              "50%        32.000000            96.000000                    0.000000   \n",
              "75%        49.000000            96.000000                    1.000000   \n",
              "max        99.000000            99.000000                  999.000000   \n",
              "\n",
              "       DRUG_TEST_RESULTS_(2_of_3)  DRUG_TEST_RESULTS_(3_of_3)  \n",
              "count               100968.000000               100968.000000  \n",
              "mean                   100.089672                   95.441556  \n",
              "std                    295.089512                  292.121277  \n",
              "min                      0.000000                    0.000000  \n",
              "25%                      0.000000                    0.000000  \n",
              "50%                      0.000000                    0.000000  \n",
              "75%                      0.000000                    0.000000  \n",
              "max                    999.000000                  999.000000  "
            ]
          },
          "execution_count": 53,
          "metadata": {},
          "output_type": "execute_result"
        }
      ],
      "source": [
        "data.describe()"
      ]
    },
    {
      "cell_type": "markdown",
      "metadata": {
        "id": "uFT8ktFAzGpa"
      },
      "source": [
        "Prints the first five rows of the dataset"
      ]
    },
    {
      "cell_type": "code",
      "execution_count": 54,
      "metadata": {
        "colab": {
          "base_uri": "https://localhost:8080/",
          "height": 446
        },
        "id": "rkQ4V_LmI57n",
        "outputId": "8238ba31-a745-4079-e527-c61de325a9e6"
      },
      "outputs": [
        {
          "data": {
            "text/html": [
              "\n",
              "  <div id=\"df-76c82244-97a3-4df6-ace3-0f08f407224f\" class=\"colab-df-container\">\n",
              "    <div>\n",
              "<style scoped>\n",
              "    .dataframe tbody tr th:only-of-type {\n",
              "        vertical-align: middle;\n",
              "    }\n",
              "\n",
              "    .dataframe tbody tr th {\n",
              "        vertical-align: top;\n",
              "    }\n",
              "\n",
              "    .dataframe thead th {\n",
              "        text-align: right;\n",
              "    }\n",
              "</style>\n",
              "<table border=\"1\" class=\"dataframe\">\n",
              "  <thead>\n",
              "    <tr style=\"text-align: right;\">\n",
              "      <th></th>\n",
              "      <th>CASE_STATE</th>\n",
              "      <th>AGE</th>\n",
              "      <th>SEX</th>\n",
              "      <th>PERSON_TYPE</th>\n",
              "      <th>SEATING_POSITION</th>\n",
              "      <th>RESTRAINT_SYSTEM-USE</th>\n",
              "      <th>AIR_BAG_AVAILABILITY/DEPLOYMENT</th>\n",
              "      <th>EJECTION</th>\n",
              "      <th>EJECTION_PATH</th>\n",
              "      <th>EXTRICATION</th>\n",
              "      <th>...</th>\n",
              "      <th>DRUG_TEST_RESULTS_(2_of_3)</th>\n",
              "      <th>DRUG_TEST_TYPE_(3_of_3)</th>\n",
              "      <th>DRUG_TEST_RESULTS_(3_of_3)</th>\n",
              "      <th>HISPANIC_ORIGIN</th>\n",
              "      <th>TAKEN_TO_HOSPITAL</th>\n",
              "      <th>RELATED_FACTOR_(1)-PERSON_LEVEL</th>\n",
              "      <th>RELATED_FACTOR_(2)-PERSON_LEVEL</th>\n",
              "      <th>RELATED_FACTOR_(3)-PERSON_LEVEL</th>\n",
              "      <th>RACE</th>\n",
              "      <th>INJURY_SEVERITY</th>\n",
              "    </tr>\n",
              "  </thead>\n",
              "  <tbody>\n",
              "    <tr>\n",
              "      <th>0</th>\n",
              "      <td>Alabama</td>\n",
              "      <td>34</td>\n",
              "      <td>Male</td>\n",
              "      <td>Driver</td>\n",
              "      <td>Front_Seat_-_Left_Side_(Drivers_Side)</td>\n",
              "      <td>None_Used/Not_Applicable</td>\n",
              "      <td>Air_Bag_Available_but_Not_Deployed_for_this_Seat</td>\n",
              "      <td>Totally_Ejected</td>\n",
              "      <td>Unknown</td>\n",
              "      <td>Not_Extricated</td>\n",
              "      <td>...</td>\n",
              "      <td>0</td>\n",
              "      <td>Not_Tested_for_Drugs</td>\n",
              "      <td>0</td>\n",
              "      <td>Non-Hispanic</td>\n",
              "      <td>No</td>\n",
              "      <td>Not_Applicable_-_Driver/None_-_All_Other_Persons</td>\n",
              "      <td>Not_Applicable_-_Driver/None_-_All_Other_Persons</td>\n",
              "      <td>Not_Applicable_-_Driver/None_-_All_Other_Persons</td>\n",
              "      <td>White</td>\n",
              "      <td>Fatal_Injury</td>\n",
              "    </tr>\n",
              "    <tr>\n",
              "      <th>1</th>\n",
              "      <td>Alabama</td>\n",
              "      <td>20</td>\n",
              "      <td>Male</td>\n",
              "      <td>Driver</td>\n",
              "      <td>Front_Seat_-_Left_Side_(Drivers_Side)</td>\n",
              "      <td>None_Used/Not_Applicable</td>\n",
              "      <td>Deployed_Air_Bag_from_Front</td>\n",
              "      <td>Totally_Ejected</td>\n",
              "      <td>Unknown</td>\n",
              "      <td>Not_Extricated</td>\n",
              "      <td>...</td>\n",
              "      <td>0</td>\n",
              "      <td>Not_Tested_for_Drugs</td>\n",
              "      <td>0</td>\n",
              "      <td>Non-Hispanic</td>\n",
              "      <td>No</td>\n",
              "      <td>Not_Applicable_-_Driver/None_-_All_Other_Persons</td>\n",
              "      <td>Not_Applicable_-_Driver/None_-_All_Other_Persons</td>\n",
              "      <td>Not_Applicable_-_Driver/None_-_All_Other_Persons</td>\n",
              "      <td>White</td>\n",
              "      <td>Fatal_Injury</td>\n",
              "    </tr>\n",
              "    <tr>\n",
              "      <th>2</th>\n",
              "      <td>Alabama</td>\n",
              "      <td>43</td>\n",
              "      <td>Male</td>\n",
              "      <td>Driver</td>\n",
              "      <td>Front_Seat_-_Left_Side_(Drivers_Side)</td>\n",
              "      <td>Lap_and_Shoulder_Belt</td>\n",
              "      <td>Air_Bag_Not_Available_for_this_Seat</td>\n",
              "      <td>Not_Ejected</td>\n",
              "      <td>Not_Ejected/Not_Applicable</td>\n",
              "      <td>Extricated</td>\n",
              "      <td>...</td>\n",
              "      <td>0</td>\n",
              "      <td>Not_Tested_for_Drugs</td>\n",
              "      <td>0</td>\n",
              "      <td>Non-Hispanic</td>\n",
              "      <td>No</td>\n",
              "      <td>Not_Applicable_-_Driver/None_-_All_Other_Persons</td>\n",
              "      <td>Not_Applicable_-_Driver/None_-_All_Other_Persons</td>\n",
              "      <td>Not_Applicable_-_Driver/None_-_All_Other_Persons</td>\n",
              "      <td>Black</td>\n",
              "      <td>Fatal_Injury</td>\n",
              "    </tr>\n",
              "    <tr>\n",
              "      <th>3</th>\n",
              "      <td>Alabama</td>\n",
              "      <td>38</td>\n",
              "      <td>Female</td>\n",
              "      <td>Passenger_of_a_Motor_Vehicle_in_Transport</td>\n",
              "      <td>Front_Seat_-_Right_Side</td>\n",
              "      <td>Lap_and_Shoulder_Belt</td>\n",
              "      <td>Air_Bag_Not_Available_for_this_Seat</td>\n",
              "      <td>Not_Ejected</td>\n",
              "      <td>Not_Ejected/Not_Applicable</td>\n",
              "      <td>Extricated</td>\n",
              "      <td>...</td>\n",
              "      <td>0</td>\n",
              "      <td>Not_Tested_for_Drugs</td>\n",
              "      <td>0</td>\n",
              "      <td>Not_a_Fatality_(Not_Applicable)</td>\n",
              "      <td>Yes</td>\n",
              "      <td>Not_Applicable_-_Driver/None_-_All_Other_Persons</td>\n",
              "      <td>Not_Applicable_-_Driver/None_-_All_Other_Persons</td>\n",
              "      <td>Not_Applicable_-_Driver/None_-_All_Other_Persons</td>\n",
              "      <td>Not_a_Fatality_(Not_Applicable)</td>\n",
              "      <td>Incapaciting_Injury</td>\n",
              "    </tr>\n",
              "    <tr>\n",
              "      <th>4</th>\n",
              "      <td>Alabama</td>\n",
              "      <td>50</td>\n",
              "      <td>Male</td>\n",
              "      <td>Driver</td>\n",
              "      <td>Front_Seat_-_Left_Side_(Drivers_Side)</td>\n",
              "      <td>Lap_and_Shoulder_Belt</td>\n",
              "      <td>Deployed_Air_Bag_from_Front</td>\n",
              "      <td>Not_Ejected</td>\n",
              "      <td>Not_Ejected/Not_Applicable</td>\n",
              "      <td>Not_Extricated</td>\n",
              "      <td>...</td>\n",
              "      <td>0</td>\n",
              "      <td>Not_Tested_for_Drugs</td>\n",
              "      <td>0</td>\n",
              "      <td>Non-Hispanic</td>\n",
              "      <td>Yes</td>\n",
              "      <td>Not_Applicable_-_Driver/None_-_All_Other_Persons</td>\n",
              "      <td>Not_Applicable_-_Driver/None_-_All_Other_Persons</td>\n",
              "      <td>Not_Applicable_-_Driver/None_-_All_Other_Persons</td>\n",
              "      <td>Black</td>\n",
              "      <td>Fatal_Injury</td>\n",
              "    </tr>\n",
              "  </tbody>\n",
              "</table>\n",
              "<p>5 rows × 30 columns</p>\n",
              "</div>\n",
              "    <div class=\"colab-df-buttons\">\n",
              "\n",
              "  <div class=\"colab-df-container\">\n",
              "    <button class=\"colab-df-convert\" onclick=\"convertToInteractive('df-76c82244-97a3-4df6-ace3-0f08f407224f')\"\n",
              "            title=\"Convert this dataframe to an interactive table.\"\n",
              "            style=\"display:none;\">\n",
              "\n",
              "  <svg xmlns=\"http://www.w3.org/2000/svg\" height=\"24px\" viewBox=\"0 -960 960 960\">\n",
              "    <path d=\"M120-120v-720h720v720H120Zm60-500h600v-160H180v160Zm220 220h160v-160H400v160Zm0 220h160v-160H400v160ZM180-400h160v-160H180v160Zm440 0h160v-160H620v160ZM180-180h160v-160H180v160Zm440 0h160v-160H620v160Z\"/>\n",
              "  </svg>\n",
              "    </button>\n",
              "\n",
              "  <style>\n",
              "    .colab-df-container {\n",
              "      display:flex;\n",
              "      gap: 12px;\n",
              "    }\n",
              "\n",
              "    .colab-df-convert {\n",
              "      background-color: #E8F0FE;\n",
              "      border: none;\n",
              "      border-radius: 50%;\n",
              "      cursor: pointer;\n",
              "      display: none;\n",
              "      fill: #1967D2;\n",
              "      height: 32px;\n",
              "      padding: 0 0 0 0;\n",
              "      width: 32px;\n",
              "    }\n",
              "\n",
              "    .colab-df-convert:hover {\n",
              "      background-color: #E2EBFA;\n",
              "      box-shadow: 0px 1px 2px rgba(60, 64, 67, 0.3), 0px 1px 3px 1px rgba(60, 64, 67, 0.15);\n",
              "      fill: #174EA6;\n",
              "    }\n",
              "\n",
              "    .colab-df-buttons div {\n",
              "      margin-bottom: 4px;\n",
              "    }\n",
              "\n",
              "    [theme=dark] .colab-df-convert {\n",
              "      background-color: #3B4455;\n",
              "      fill: #D2E3FC;\n",
              "    }\n",
              "\n",
              "    [theme=dark] .colab-df-convert:hover {\n",
              "      background-color: #434B5C;\n",
              "      box-shadow: 0px 1px 3px 1px rgba(0, 0, 0, 0.15);\n",
              "      filter: drop-shadow(0px 1px 2px rgba(0, 0, 0, 0.3));\n",
              "      fill: #FFFFFF;\n",
              "    }\n",
              "  </style>\n",
              "\n",
              "    <script>\n",
              "      const buttonEl =\n",
              "        document.querySelector('#df-76c82244-97a3-4df6-ace3-0f08f407224f button.colab-df-convert');\n",
              "      buttonEl.style.display =\n",
              "        google.colab.kernel.accessAllowed ? 'block' : 'none';\n",
              "\n",
              "      async function convertToInteractive(key) {\n",
              "        const element = document.querySelector('#df-76c82244-97a3-4df6-ace3-0f08f407224f');\n",
              "        const dataTable =\n",
              "          await google.colab.kernel.invokeFunction('convertToInteractive',\n",
              "                                                    [key], {});\n",
              "        if (!dataTable) return;\n",
              "\n",
              "        const docLinkHtml = 'Like what you see? Visit the ' +\n",
              "          '<a target=\"_blank\" href=https://colab.research.google.com/notebooks/data_table.ipynb>data table notebook</a>'\n",
              "          + ' to learn more about interactive tables.';\n",
              "        element.innerHTML = '';\n",
              "        dataTable['output_type'] = 'display_data';\n",
              "        await google.colab.output.renderOutput(dataTable, element);\n",
              "        const docLink = document.createElement('div');\n",
              "        docLink.innerHTML = docLinkHtml;\n",
              "        element.appendChild(docLink);\n",
              "      }\n",
              "    </script>\n",
              "  </div>\n",
              "\n",
              "\n",
              "<div id=\"df-5d63f42a-736f-4f7b-9455-1756a57b4d4c\">\n",
              "  <button class=\"colab-df-quickchart\" onclick=\"quickchart('df-5d63f42a-736f-4f7b-9455-1756a57b4d4c')\"\n",
              "            title=\"Suggest charts\"\n",
              "            style=\"display:none;\">\n",
              "\n",
              "<svg xmlns=\"http://www.w3.org/2000/svg\" height=\"24px\"viewBox=\"0 0 24 24\"\n",
              "     width=\"24px\">\n",
              "    <g>\n",
              "        <path d=\"M19 3H5c-1.1 0-2 .9-2 2v14c0 1.1.9 2 2 2h14c1.1 0 2-.9 2-2V5c0-1.1-.9-2-2-2zM9 17H7v-7h2v7zm4 0h-2V7h2v10zm4 0h-2v-4h2v4z\"/>\n",
              "    </g>\n",
              "</svg>\n",
              "  </button>\n",
              "\n",
              "<style>\n",
              "  .colab-df-quickchart {\n",
              "      --bg-color: #E8F0FE;\n",
              "      --fill-color: #1967D2;\n",
              "      --hover-bg-color: #E2EBFA;\n",
              "      --hover-fill-color: #174EA6;\n",
              "      --disabled-fill-color: #AAA;\n",
              "      --disabled-bg-color: #DDD;\n",
              "  }\n",
              "\n",
              "  [theme=dark] .colab-df-quickchart {\n",
              "      --bg-color: #3B4455;\n",
              "      --fill-color: #D2E3FC;\n",
              "      --hover-bg-color: #434B5C;\n",
              "      --hover-fill-color: #FFFFFF;\n",
              "      --disabled-bg-color: #3B4455;\n",
              "      --disabled-fill-color: #666;\n",
              "  }\n",
              "\n",
              "  .colab-df-quickchart {\n",
              "    background-color: var(--bg-color);\n",
              "    border: none;\n",
              "    border-radius: 50%;\n",
              "    cursor: pointer;\n",
              "    display: none;\n",
              "    fill: var(--fill-color);\n",
              "    height: 32px;\n",
              "    padding: 0;\n",
              "    width: 32px;\n",
              "  }\n",
              "\n",
              "  .colab-df-quickchart:hover {\n",
              "    background-color: var(--hover-bg-color);\n",
              "    box-shadow: 0 1px 2px rgba(60, 64, 67, 0.3), 0 1px 3px 1px rgba(60, 64, 67, 0.15);\n",
              "    fill: var(--button-hover-fill-color);\n",
              "  }\n",
              "\n",
              "  .colab-df-quickchart-complete:disabled,\n",
              "  .colab-df-quickchart-complete:disabled:hover {\n",
              "    background-color: var(--disabled-bg-color);\n",
              "    fill: var(--disabled-fill-color);\n",
              "    box-shadow: none;\n",
              "  }\n",
              "\n",
              "  .colab-df-spinner {\n",
              "    border: 2px solid var(--fill-color);\n",
              "    border-color: transparent;\n",
              "    border-bottom-color: var(--fill-color);\n",
              "    animation:\n",
              "      spin 1s steps(1) infinite;\n",
              "  }\n",
              "\n",
              "  @keyframes spin {\n",
              "    0% {\n",
              "      border-color: transparent;\n",
              "      border-bottom-color: var(--fill-color);\n",
              "      border-left-color: var(--fill-color);\n",
              "    }\n",
              "    20% {\n",
              "      border-color: transparent;\n",
              "      border-left-color: var(--fill-color);\n",
              "      border-top-color: var(--fill-color);\n",
              "    }\n",
              "    30% {\n",
              "      border-color: transparent;\n",
              "      border-left-color: var(--fill-color);\n",
              "      border-top-color: var(--fill-color);\n",
              "      border-right-color: var(--fill-color);\n",
              "    }\n",
              "    40% {\n",
              "      border-color: transparent;\n",
              "      border-right-color: var(--fill-color);\n",
              "      border-top-color: var(--fill-color);\n",
              "    }\n",
              "    60% {\n",
              "      border-color: transparent;\n",
              "      border-right-color: var(--fill-color);\n",
              "    }\n",
              "    80% {\n",
              "      border-color: transparent;\n",
              "      border-right-color: var(--fill-color);\n",
              "      border-bottom-color: var(--fill-color);\n",
              "    }\n",
              "    90% {\n",
              "      border-color: transparent;\n",
              "      border-bottom-color: var(--fill-color);\n",
              "    }\n",
              "  }\n",
              "</style>\n",
              "\n",
              "  <script>\n",
              "    async function quickchart(key) {\n",
              "      const quickchartButtonEl =\n",
              "        document.querySelector('#' + key + ' button');\n",
              "      quickchartButtonEl.disabled = true;  // To prevent multiple clicks.\n",
              "      quickchartButtonEl.classList.add('colab-df-spinner');\n",
              "      try {\n",
              "        const charts = await google.colab.kernel.invokeFunction(\n",
              "            'suggestCharts', [key], {});\n",
              "      } catch (error) {\n",
              "        console.error('Error during call to suggestCharts:', error);\n",
              "      }\n",
              "      quickchartButtonEl.classList.remove('colab-df-spinner');\n",
              "      quickchartButtonEl.classList.add('colab-df-quickchart-complete');\n",
              "    }\n",
              "    (() => {\n",
              "      let quickchartButtonEl =\n",
              "        document.querySelector('#df-5d63f42a-736f-4f7b-9455-1756a57b4d4c button');\n",
              "      quickchartButtonEl.style.display =\n",
              "        google.colab.kernel.accessAllowed ? 'block' : 'none';\n",
              "    })();\n",
              "  </script>\n",
              "</div>\n",
              "    </div>\n",
              "  </div>\n"
            ],
            "text/plain": [
              "  CASE_STATE  AGE     SEX                                PERSON_TYPE  \\\n",
              "0    Alabama   34    Male                                     Driver   \n",
              "1    Alabama   20    Male                                     Driver   \n",
              "2    Alabama   43    Male                                     Driver   \n",
              "3    Alabama   38  Female  Passenger_of_a_Motor_Vehicle_in_Transport   \n",
              "4    Alabama   50    Male                                     Driver   \n",
              "\n",
              "                        SEATING_POSITION      RESTRAINT_SYSTEM-USE  \\\n",
              "0  Front_Seat_-_Left_Side_(Drivers_Side)  None_Used/Not_Applicable   \n",
              "1  Front_Seat_-_Left_Side_(Drivers_Side)  None_Used/Not_Applicable   \n",
              "2  Front_Seat_-_Left_Side_(Drivers_Side)     Lap_and_Shoulder_Belt   \n",
              "3                Front_Seat_-_Right_Side     Lap_and_Shoulder_Belt   \n",
              "4  Front_Seat_-_Left_Side_(Drivers_Side)     Lap_and_Shoulder_Belt   \n",
              "\n",
              "                    AIR_BAG_AVAILABILITY/DEPLOYMENT         EJECTION  \\\n",
              "0  Air_Bag_Available_but_Not_Deployed_for_this_Seat  Totally_Ejected   \n",
              "1                       Deployed_Air_Bag_from_Front  Totally_Ejected   \n",
              "2               Air_Bag_Not_Available_for_this_Seat      Not_Ejected   \n",
              "3               Air_Bag_Not_Available_for_this_Seat      Not_Ejected   \n",
              "4                       Deployed_Air_Bag_from_Front      Not_Ejected   \n",
              "\n",
              "                EJECTION_PATH     EXTRICATION  ... DRUG_TEST_RESULTS_(2_of_3)  \\\n",
              "0                     Unknown  Not_Extricated  ...                          0   \n",
              "1                     Unknown  Not_Extricated  ...                          0   \n",
              "2  Not_Ejected/Not_Applicable      Extricated  ...                          0   \n",
              "3  Not_Ejected/Not_Applicable      Extricated  ...                          0   \n",
              "4  Not_Ejected/Not_Applicable  Not_Extricated  ...                          0   \n",
              "\n",
              "  DRUG_TEST_TYPE_(3_of_3) DRUG_TEST_RESULTS_(3_of_3)  \\\n",
              "0    Not_Tested_for_Drugs                          0   \n",
              "1    Not_Tested_for_Drugs                          0   \n",
              "2    Not_Tested_for_Drugs                          0   \n",
              "3    Not_Tested_for_Drugs                          0   \n",
              "4    Not_Tested_for_Drugs                          0   \n",
              "\n",
              "                   HISPANIC_ORIGIN  TAKEN_TO_HOSPITAL  \\\n",
              "0                     Non-Hispanic                 No   \n",
              "1                     Non-Hispanic                 No   \n",
              "2                     Non-Hispanic                 No   \n",
              "3  Not_a_Fatality_(Not_Applicable)                Yes   \n",
              "4                     Non-Hispanic                Yes   \n",
              "\n",
              "                    RELATED_FACTOR_(1)-PERSON_LEVEL  \\\n",
              "0  Not_Applicable_-_Driver/None_-_All_Other_Persons   \n",
              "1  Not_Applicable_-_Driver/None_-_All_Other_Persons   \n",
              "2  Not_Applicable_-_Driver/None_-_All_Other_Persons   \n",
              "3  Not_Applicable_-_Driver/None_-_All_Other_Persons   \n",
              "4  Not_Applicable_-_Driver/None_-_All_Other_Persons   \n",
              "\n",
              "                    RELATED_FACTOR_(2)-PERSON_LEVEL  \\\n",
              "0  Not_Applicable_-_Driver/None_-_All_Other_Persons   \n",
              "1  Not_Applicable_-_Driver/None_-_All_Other_Persons   \n",
              "2  Not_Applicable_-_Driver/None_-_All_Other_Persons   \n",
              "3  Not_Applicable_-_Driver/None_-_All_Other_Persons   \n",
              "4  Not_Applicable_-_Driver/None_-_All_Other_Persons   \n",
              "\n",
              "                    RELATED_FACTOR_(3)-PERSON_LEVEL  \\\n",
              "0  Not_Applicable_-_Driver/None_-_All_Other_Persons   \n",
              "1  Not_Applicable_-_Driver/None_-_All_Other_Persons   \n",
              "2  Not_Applicable_-_Driver/None_-_All_Other_Persons   \n",
              "3  Not_Applicable_-_Driver/None_-_All_Other_Persons   \n",
              "4  Not_Applicable_-_Driver/None_-_All_Other_Persons   \n",
              "\n",
              "                              RACE      INJURY_SEVERITY  \n",
              "0                            White         Fatal_Injury  \n",
              "1                            White         Fatal_Injury  \n",
              "2                            Black         Fatal_Injury  \n",
              "3  Not_a_Fatality_(Not_Applicable)  Incapaciting_Injury  \n",
              "4                            Black         Fatal_Injury  \n",
              "\n",
              "[5 rows x 30 columns]"
            ]
          },
          "execution_count": 54,
          "metadata": {},
          "output_type": "execute_result"
        }
      ],
      "source": [
        "data.head()"
      ]
    },
    {
      "cell_type": "markdown",
      "metadata": {
        "id": "FmIkBGGYzPLu"
      },
      "source": [
        "Prints the last five rows of the dataset"
      ]
    },
    {
      "cell_type": "code",
      "execution_count": 55,
      "metadata": {
        "colab": {
          "base_uri": "https://localhost:8080/",
          "height": 446
        },
        "id": "VlwLaQzWI5-I",
        "outputId": "1818f116-58d3-4a1e-d284-67ca6199b87a"
      },
      "outputs": [
        {
          "data": {
            "text/html": [
              "\n",
              "  <div id=\"df-2d1472cd-20f4-43bc-be06-91c6b89a30bd\" class=\"colab-df-container\">\n",
              "    <div>\n",
              "<style scoped>\n",
              "    .dataframe tbody tr th:only-of-type {\n",
              "        vertical-align: middle;\n",
              "    }\n",
              "\n",
              "    .dataframe tbody tr th {\n",
              "        vertical-align: top;\n",
              "    }\n",
              "\n",
              "    .dataframe thead th {\n",
              "        text-align: right;\n",
              "    }\n",
              "</style>\n",
              "<table border=\"1\" class=\"dataframe\">\n",
              "  <thead>\n",
              "    <tr style=\"text-align: right;\">\n",
              "      <th></th>\n",
              "      <th>CASE_STATE</th>\n",
              "      <th>AGE</th>\n",
              "      <th>SEX</th>\n",
              "      <th>PERSON_TYPE</th>\n",
              "      <th>SEATING_POSITION</th>\n",
              "      <th>RESTRAINT_SYSTEM-USE</th>\n",
              "      <th>AIR_BAG_AVAILABILITY/DEPLOYMENT</th>\n",
              "      <th>EJECTION</th>\n",
              "      <th>EJECTION_PATH</th>\n",
              "      <th>EXTRICATION</th>\n",
              "      <th>...</th>\n",
              "      <th>DRUG_TEST_RESULTS_(2_of_3)</th>\n",
              "      <th>DRUG_TEST_TYPE_(3_of_3)</th>\n",
              "      <th>DRUG_TEST_RESULTS_(3_of_3)</th>\n",
              "      <th>HISPANIC_ORIGIN</th>\n",
              "      <th>TAKEN_TO_HOSPITAL</th>\n",
              "      <th>RELATED_FACTOR_(1)-PERSON_LEVEL</th>\n",
              "      <th>RELATED_FACTOR_(2)-PERSON_LEVEL</th>\n",
              "      <th>RELATED_FACTOR_(3)-PERSON_LEVEL</th>\n",
              "      <th>RACE</th>\n",
              "      <th>INJURY_SEVERITY</th>\n",
              "    </tr>\n",
              "  </thead>\n",
              "  <tbody>\n",
              "    <tr>\n",
              "      <th>100963</th>\n",
              "      <td>Wyoming</td>\n",
              "      <td>10</td>\n",
              "      <td>Female</td>\n",
              "      <td>Passenger_of_a_Motor_Vehicle_in_Transport</td>\n",
              "      <td>Second_Seat_-_Left_Side</td>\n",
              "      <td>Lap_and_Shoulder_Belt</td>\n",
              "      <td>Air_Bag_Not_Available_for_this_Seat</td>\n",
              "      <td>Not_Ejected</td>\n",
              "      <td>Not_Ejected/Not_Applicable</td>\n",
              "      <td>Not_Extricated</td>\n",
              "      <td>...</td>\n",
              "      <td>0</td>\n",
              "      <td>Not_Tested_for_Drugs</td>\n",
              "      <td>0</td>\n",
              "      <td>Not_a_Fatality_(Not_Applicable)</td>\n",
              "      <td>Yes</td>\n",
              "      <td>Not_Applicable_-_Driver/None_-_All_Other_Persons</td>\n",
              "      <td>Not_Applicable_-_Driver/None_-_All_Other_Persons</td>\n",
              "      <td>Not_Applicable_-_Driver/None_-_All_Other_Persons</td>\n",
              "      <td>Not_a_Fatality_(Not_Applicable)</td>\n",
              "      <td>Possible_Injury</td>\n",
              "    </tr>\n",
              "    <tr>\n",
              "      <th>100964</th>\n",
              "      <td>Wyoming</td>\n",
              "      <td>9</td>\n",
              "      <td>Female</td>\n",
              "      <td>Passenger_of_a_Motor_Vehicle_in_Transport</td>\n",
              "      <td>Second_Seat_-_Right_Side</td>\n",
              "      <td>Lap_and_Shoulder_Belt</td>\n",
              "      <td>Air_Bag_Not_Available_for_this_Seat</td>\n",
              "      <td>Not_Ejected</td>\n",
              "      <td>Not_Ejected/Not_Applicable</td>\n",
              "      <td>Not_Extricated</td>\n",
              "      <td>...</td>\n",
              "      <td>0</td>\n",
              "      <td>Not_Tested_for_Drugs</td>\n",
              "      <td>0</td>\n",
              "      <td>Not_a_Fatality_(Not_Applicable)</td>\n",
              "      <td>Yes</td>\n",
              "      <td>Not_Applicable_-_Driver/None_-_All_Other_Persons</td>\n",
              "      <td>Not_Applicable_-_Driver/None_-_All_Other_Persons</td>\n",
              "      <td>Not_Applicable_-_Driver/None_-_All_Other_Persons</td>\n",
              "      <td>Not_a_Fatality_(Not_Applicable)</td>\n",
              "      <td>Possible_Injury</td>\n",
              "    </tr>\n",
              "    <tr>\n",
              "      <th>100965</th>\n",
              "      <td>Wyoming</td>\n",
              "      <td>7</td>\n",
              "      <td>Female</td>\n",
              "      <td>Passenger_of_a_Motor_Vehicle_in_Transport</td>\n",
              "      <td>Second_Seat_-_Middle</td>\n",
              "      <td>Lap_Belt</td>\n",
              "      <td>Air_Bag_Not_Available_for_this_Seat</td>\n",
              "      <td>Not_Ejected</td>\n",
              "      <td>Not_Ejected/Not_Applicable</td>\n",
              "      <td>Not_Extricated</td>\n",
              "      <td>...</td>\n",
              "      <td>0</td>\n",
              "      <td>Not_Tested_for_Drugs</td>\n",
              "      <td>0</td>\n",
              "      <td>Not_a_Fatality_(Not_Applicable)</td>\n",
              "      <td>Yes</td>\n",
              "      <td>Not_Applicable_-_Driver/None_-_All_Other_Persons</td>\n",
              "      <td>Not_Applicable_-_Driver/None_-_All_Other_Persons</td>\n",
              "      <td>Not_Applicable_-_Driver/None_-_All_Other_Persons</td>\n",
              "      <td>Not_a_Fatality_(Not_Applicable)</td>\n",
              "      <td>Possible_Injury</td>\n",
              "    </tr>\n",
              "    <tr>\n",
              "      <th>100966</th>\n",
              "      <td>Wyoming</td>\n",
              "      <td>4</td>\n",
              "      <td>Female</td>\n",
              "      <td>Passenger_of_a_Motor_Vehicle_in_Transport</td>\n",
              "      <td>Second_Seat_-_Middle</td>\n",
              "      <td>Lap_Belt</td>\n",
              "      <td>Air_Bag_Not_Available_for_this_Seat</td>\n",
              "      <td>Not_Ejected</td>\n",
              "      <td>Not_Ejected/Not_Applicable</td>\n",
              "      <td>Not_Extricated</td>\n",
              "      <td>...</td>\n",
              "      <td>0</td>\n",
              "      <td>Not_Tested_for_Drugs</td>\n",
              "      <td>0</td>\n",
              "      <td>Not_a_Fatality_(Not_Applicable)</td>\n",
              "      <td>Yes</td>\n",
              "      <td>Not_Applicable_-_Driver/None_-_All_Other_Persons</td>\n",
              "      <td>Not_Applicable_-_Driver/None_-_All_Other_Persons</td>\n",
              "      <td>Not_Applicable_-_Driver/None_-_All_Other_Persons</td>\n",
              "      <td>Not_a_Fatality_(Not_Applicable)</td>\n",
              "      <td>Possible_Injury</td>\n",
              "    </tr>\n",
              "    <tr>\n",
              "      <th>100967</th>\n",
              "      <td>Wyoming</td>\n",
              "      <td>61</td>\n",
              "      <td>Male</td>\n",
              "      <td>Driver</td>\n",
              "      <td>Front_Seat_-_Left_Side_(Drivers_Side)</td>\n",
              "      <td>None_Used/Not_Applicable</td>\n",
              "      <td>Air_Bag_Not_Available_for_this_Seat</td>\n",
              "      <td>Not_Ejected</td>\n",
              "      <td>Not_Ejected/Not_Applicable</td>\n",
              "      <td>Not_Extricated</td>\n",
              "      <td>...</td>\n",
              "      <td>0</td>\n",
              "      <td>Not_Tested_for_Drugs</td>\n",
              "      <td>0</td>\n",
              "      <td>Hispanic_-_Origin_Not_Specified_or_Other_Origin</td>\n",
              "      <td>No</td>\n",
              "      <td>Not_Applicable_-_Driver/None_-_All_Other_Persons</td>\n",
              "      <td>Not_Applicable_-_Driver/None_-_All_Other_Persons</td>\n",
              "      <td>Not_Applicable_-_Driver/None_-_All_Other_Persons</td>\n",
              "      <td>White</td>\n",
              "      <td>Fatal_Injury</td>\n",
              "    </tr>\n",
              "  </tbody>\n",
              "</table>\n",
              "<p>5 rows × 30 columns</p>\n",
              "</div>\n",
              "    <div class=\"colab-df-buttons\">\n",
              "\n",
              "  <div class=\"colab-df-container\">\n",
              "    <button class=\"colab-df-convert\" onclick=\"convertToInteractive('df-2d1472cd-20f4-43bc-be06-91c6b89a30bd')\"\n",
              "            title=\"Convert this dataframe to an interactive table.\"\n",
              "            style=\"display:none;\">\n",
              "\n",
              "  <svg xmlns=\"http://www.w3.org/2000/svg\" height=\"24px\" viewBox=\"0 -960 960 960\">\n",
              "    <path d=\"M120-120v-720h720v720H120Zm60-500h600v-160H180v160Zm220 220h160v-160H400v160Zm0 220h160v-160H400v160ZM180-400h160v-160H180v160Zm440 0h160v-160H620v160ZM180-180h160v-160H180v160Zm440 0h160v-160H620v160Z\"/>\n",
              "  </svg>\n",
              "    </button>\n",
              "\n",
              "  <style>\n",
              "    .colab-df-container {\n",
              "      display:flex;\n",
              "      gap: 12px;\n",
              "    }\n",
              "\n",
              "    .colab-df-convert {\n",
              "      background-color: #E8F0FE;\n",
              "      border: none;\n",
              "      border-radius: 50%;\n",
              "      cursor: pointer;\n",
              "      display: none;\n",
              "      fill: #1967D2;\n",
              "      height: 32px;\n",
              "      padding: 0 0 0 0;\n",
              "      width: 32px;\n",
              "    }\n",
              "\n",
              "    .colab-df-convert:hover {\n",
              "      background-color: #E2EBFA;\n",
              "      box-shadow: 0px 1px 2px rgba(60, 64, 67, 0.3), 0px 1px 3px 1px rgba(60, 64, 67, 0.15);\n",
              "      fill: #174EA6;\n",
              "    }\n",
              "\n",
              "    .colab-df-buttons div {\n",
              "      margin-bottom: 4px;\n",
              "    }\n",
              "\n",
              "    [theme=dark] .colab-df-convert {\n",
              "      background-color: #3B4455;\n",
              "      fill: #D2E3FC;\n",
              "    }\n",
              "\n",
              "    [theme=dark] .colab-df-convert:hover {\n",
              "      background-color: #434B5C;\n",
              "      box-shadow: 0px 1px 3px 1px rgba(0, 0, 0, 0.15);\n",
              "      filter: drop-shadow(0px 1px 2px rgba(0, 0, 0, 0.3));\n",
              "      fill: #FFFFFF;\n",
              "    }\n",
              "  </style>\n",
              "\n",
              "    <script>\n",
              "      const buttonEl =\n",
              "        document.querySelector('#df-2d1472cd-20f4-43bc-be06-91c6b89a30bd button.colab-df-convert');\n",
              "      buttonEl.style.display =\n",
              "        google.colab.kernel.accessAllowed ? 'block' : 'none';\n",
              "\n",
              "      async function convertToInteractive(key) {\n",
              "        const element = document.querySelector('#df-2d1472cd-20f4-43bc-be06-91c6b89a30bd');\n",
              "        const dataTable =\n",
              "          await google.colab.kernel.invokeFunction('convertToInteractive',\n",
              "                                                    [key], {});\n",
              "        if (!dataTable) return;\n",
              "\n",
              "        const docLinkHtml = 'Like what you see? Visit the ' +\n",
              "          '<a target=\"_blank\" href=https://colab.research.google.com/notebooks/data_table.ipynb>data table notebook</a>'\n",
              "          + ' to learn more about interactive tables.';\n",
              "        element.innerHTML = '';\n",
              "        dataTable['output_type'] = 'display_data';\n",
              "        await google.colab.output.renderOutput(dataTable, element);\n",
              "        const docLink = document.createElement('div');\n",
              "        docLink.innerHTML = docLinkHtml;\n",
              "        element.appendChild(docLink);\n",
              "      }\n",
              "    </script>\n",
              "  </div>\n",
              "\n",
              "\n",
              "<div id=\"df-aad016d7-ce58-4c02-ae35-9b415df67855\">\n",
              "  <button class=\"colab-df-quickchart\" onclick=\"quickchart('df-aad016d7-ce58-4c02-ae35-9b415df67855')\"\n",
              "            title=\"Suggest charts\"\n",
              "            style=\"display:none;\">\n",
              "\n",
              "<svg xmlns=\"http://www.w3.org/2000/svg\" height=\"24px\"viewBox=\"0 0 24 24\"\n",
              "     width=\"24px\">\n",
              "    <g>\n",
              "        <path d=\"M19 3H5c-1.1 0-2 .9-2 2v14c0 1.1.9 2 2 2h14c1.1 0 2-.9 2-2V5c0-1.1-.9-2-2-2zM9 17H7v-7h2v7zm4 0h-2V7h2v10zm4 0h-2v-4h2v4z\"/>\n",
              "    </g>\n",
              "</svg>\n",
              "  </button>\n",
              "\n",
              "<style>\n",
              "  .colab-df-quickchart {\n",
              "      --bg-color: #E8F0FE;\n",
              "      --fill-color: #1967D2;\n",
              "      --hover-bg-color: #E2EBFA;\n",
              "      --hover-fill-color: #174EA6;\n",
              "      --disabled-fill-color: #AAA;\n",
              "      --disabled-bg-color: #DDD;\n",
              "  }\n",
              "\n",
              "  [theme=dark] .colab-df-quickchart {\n",
              "      --bg-color: #3B4455;\n",
              "      --fill-color: #D2E3FC;\n",
              "      --hover-bg-color: #434B5C;\n",
              "      --hover-fill-color: #FFFFFF;\n",
              "      --disabled-bg-color: #3B4455;\n",
              "      --disabled-fill-color: #666;\n",
              "  }\n",
              "\n",
              "  .colab-df-quickchart {\n",
              "    background-color: var(--bg-color);\n",
              "    border: none;\n",
              "    border-radius: 50%;\n",
              "    cursor: pointer;\n",
              "    display: none;\n",
              "    fill: var(--fill-color);\n",
              "    height: 32px;\n",
              "    padding: 0;\n",
              "    width: 32px;\n",
              "  }\n",
              "\n",
              "  .colab-df-quickchart:hover {\n",
              "    background-color: var(--hover-bg-color);\n",
              "    box-shadow: 0 1px 2px rgba(60, 64, 67, 0.3), 0 1px 3px 1px rgba(60, 64, 67, 0.15);\n",
              "    fill: var(--button-hover-fill-color);\n",
              "  }\n",
              "\n",
              "  .colab-df-quickchart-complete:disabled,\n",
              "  .colab-df-quickchart-complete:disabled:hover {\n",
              "    background-color: var(--disabled-bg-color);\n",
              "    fill: var(--disabled-fill-color);\n",
              "    box-shadow: none;\n",
              "  }\n",
              "\n",
              "  .colab-df-spinner {\n",
              "    border: 2px solid var(--fill-color);\n",
              "    border-color: transparent;\n",
              "    border-bottom-color: var(--fill-color);\n",
              "    animation:\n",
              "      spin 1s steps(1) infinite;\n",
              "  }\n",
              "\n",
              "  @keyframes spin {\n",
              "    0% {\n",
              "      border-color: transparent;\n",
              "      border-bottom-color: var(--fill-color);\n",
              "      border-left-color: var(--fill-color);\n",
              "    }\n",
              "    20% {\n",
              "      border-color: transparent;\n",
              "      border-left-color: var(--fill-color);\n",
              "      border-top-color: var(--fill-color);\n",
              "    }\n",
              "    30% {\n",
              "      border-color: transparent;\n",
              "      border-left-color: var(--fill-color);\n",
              "      border-top-color: var(--fill-color);\n",
              "      border-right-color: var(--fill-color);\n",
              "    }\n",
              "    40% {\n",
              "      border-color: transparent;\n",
              "      border-right-color: var(--fill-color);\n",
              "      border-top-color: var(--fill-color);\n",
              "    }\n",
              "    60% {\n",
              "      border-color: transparent;\n",
              "      border-right-color: var(--fill-color);\n",
              "    }\n",
              "    80% {\n",
              "      border-color: transparent;\n",
              "      border-right-color: var(--fill-color);\n",
              "      border-bottom-color: var(--fill-color);\n",
              "    }\n",
              "    90% {\n",
              "      border-color: transparent;\n",
              "      border-bottom-color: var(--fill-color);\n",
              "    }\n",
              "  }\n",
              "</style>\n",
              "\n",
              "  <script>\n",
              "    async function quickchart(key) {\n",
              "      const quickchartButtonEl =\n",
              "        document.querySelector('#' + key + ' button');\n",
              "      quickchartButtonEl.disabled = true;  // To prevent multiple clicks.\n",
              "      quickchartButtonEl.classList.add('colab-df-spinner');\n",
              "      try {\n",
              "        const charts = await google.colab.kernel.invokeFunction(\n",
              "            'suggestCharts', [key], {});\n",
              "      } catch (error) {\n",
              "        console.error('Error during call to suggestCharts:', error);\n",
              "      }\n",
              "      quickchartButtonEl.classList.remove('colab-df-spinner');\n",
              "      quickchartButtonEl.classList.add('colab-df-quickchart-complete');\n",
              "    }\n",
              "    (() => {\n",
              "      let quickchartButtonEl =\n",
              "        document.querySelector('#df-aad016d7-ce58-4c02-ae35-9b415df67855 button');\n",
              "      quickchartButtonEl.style.display =\n",
              "        google.colab.kernel.accessAllowed ? 'block' : 'none';\n",
              "    })();\n",
              "  </script>\n",
              "</div>\n",
              "    </div>\n",
              "  </div>\n"
            ],
            "text/plain": [
              "       CASE_STATE  AGE     SEX                                PERSON_TYPE  \\\n",
              "100963    Wyoming   10  Female  Passenger_of_a_Motor_Vehicle_in_Transport   \n",
              "100964    Wyoming    9  Female  Passenger_of_a_Motor_Vehicle_in_Transport   \n",
              "100965    Wyoming    7  Female  Passenger_of_a_Motor_Vehicle_in_Transport   \n",
              "100966    Wyoming    4  Female  Passenger_of_a_Motor_Vehicle_in_Transport   \n",
              "100967    Wyoming   61    Male                                     Driver   \n",
              "\n",
              "                             SEATING_POSITION      RESTRAINT_SYSTEM-USE  \\\n",
              "100963                Second_Seat_-_Left_Side     Lap_and_Shoulder_Belt   \n",
              "100964               Second_Seat_-_Right_Side     Lap_and_Shoulder_Belt   \n",
              "100965                   Second_Seat_-_Middle                  Lap_Belt   \n",
              "100966                   Second_Seat_-_Middle                  Lap_Belt   \n",
              "100967  Front_Seat_-_Left_Side_(Drivers_Side)  None_Used/Not_Applicable   \n",
              "\n",
              "            AIR_BAG_AVAILABILITY/DEPLOYMENT     EJECTION  \\\n",
              "100963  Air_Bag_Not_Available_for_this_Seat  Not_Ejected   \n",
              "100964  Air_Bag_Not_Available_for_this_Seat  Not_Ejected   \n",
              "100965  Air_Bag_Not_Available_for_this_Seat  Not_Ejected   \n",
              "100966  Air_Bag_Not_Available_for_this_Seat  Not_Ejected   \n",
              "100967  Air_Bag_Not_Available_for_this_Seat  Not_Ejected   \n",
              "\n",
              "                     EJECTION_PATH     EXTRICATION  ...  \\\n",
              "100963  Not_Ejected/Not_Applicable  Not_Extricated  ...   \n",
              "100964  Not_Ejected/Not_Applicable  Not_Extricated  ...   \n",
              "100965  Not_Ejected/Not_Applicable  Not_Extricated  ...   \n",
              "100966  Not_Ejected/Not_Applicable  Not_Extricated  ...   \n",
              "100967  Not_Ejected/Not_Applicable  Not_Extricated  ...   \n",
              "\n",
              "       DRUG_TEST_RESULTS_(2_of_3) DRUG_TEST_TYPE_(3_of_3)  \\\n",
              "100963                          0    Not_Tested_for_Drugs   \n",
              "100964                          0    Not_Tested_for_Drugs   \n",
              "100965                          0    Not_Tested_for_Drugs   \n",
              "100966                          0    Not_Tested_for_Drugs   \n",
              "100967                          0    Not_Tested_for_Drugs   \n",
              "\n",
              "       DRUG_TEST_RESULTS_(3_of_3)  \\\n",
              "100963                          0   \n",
              "100964                          0   \n",
              "100965                          0   \n",
              "100966                          0   \n",
              "100967                          0   \n",
              "\n",
              "                                        HISPANIC_ORIGIN  TAKEN_TO_HOSPITAL  \\\n",
              "100963                  Not_a_Fatality_(Not_Applicable)                Yes   \n",
              "100964                  Not_a_Fatality_(Not_Applicable)                Yes   \n",
              "100965                  Not_a_Fatality_(Not_Applicable)                Yes   \n",
              "100966                  Not_a_Fatality_(Not_Applicable)                Yes   \n",
              "100967  Hispanic_-_Origin_Not_Specified_or_Other_Origin                 No   \n",
              "\n",
              "                         RELATED_FACTOR_(1)-PERSON_LEVEL  \\\n",
              "100963  Not_Applicable_-_Driver/None_-_All_Other_Persons   \n",
              "100964  Not_Applicable_-_Driver/None_-_All_Other_Persons   \n",
              "100965  Not_Applicable_-_Driver/None_-_All_Other_Persons   \n",
              "100966  Not_Applicable_-_Driver/None_-_All_Other_Persons   \n",
              "100967  Not_Applicable_-_Driver/None_-_All_Other_Persons   \n",
              "\n",
              "                         RELATED_FACTOR_(2)-PERSON_LEVEL  \\\n",
              "100963  Not_Applicable_-_Driver/None_-_All_Other_Persons   \n",
              "100964  Not_Applicable_-_Driver/None_-_All_Other_Persons   \n",
              "100965  Not_Applicable_-_Driver/None_-_All_Other_Persons   \n",
              "100966  Not_Applicable_-_Driver/None_-_All_Other_Persons   \n",
              "100967  Not_Applicable_-_Driver/None_-_All_Other_Persons   \n",
              "\n",
              "                         RELATED_FACTOR_(3)-PERSON_LEVEL  \\\n",
              "100963  Not_Applicable_-_Driver/None_-_All_Other_Persons   \n",
              "100964  Not_Applicable_-_Driver/None_-_All_Other_Persons   \n",
              "100965  Not_Applicable_-_Driver/None_-_All_Other_Persons   \n",
              "100966  Not_Applicable_-_Driver/None_-_All_Other_Persons   \n",
              "100967  Not_Applicable_-_Driver/None_-_All_Other_Persons   \n",
              "\n",
              "                                   RACE  INJURY_SEVERITY  \n",
              "100963  Not_a_Fatality_(Not_Applicable)  Possible_Injury  \n",
              "100964  Not_a_Fatality_(Not_Applicable)  Possible_Injury  \n",
              "100965  Not_a_Fatality_(Not_Applicable)  Possible_Injury  \n",
              "100966  Not_a_Fatality_(Not_Applicable)  Possible_Injury  \n",
              "100967                            White     Fatal_Injury  \n",
              "\n",
              "[5 rows x 30 columns]"
            ]
          },
          "execution_count": 55,
          "metadata": {},
          "output_type": "execute_result"
        }
      ],
      "source": [
        "data.tail()"
      ]
    },
    {
      "cell_type": "markdown",
      "metadata": {
        "id": "z76RB__5vC89"
      },
      "source": [
        "#Data Cleaning"
      ]
    },
    {
      "cell_type": "markdown",
      "metadata": {
        "id": "C91cE-5qvMk1"
      },
      "source": [
        "In the process of data cleaning we are preparing the quality data which will be useful in training the models further.It involves different aspect like  checking missing values,eliminating Duplicates.\n"
      ]
    },
    {
      "cell_type": "markdown",
      "metadata": {
        "id": "SS2ibwv1mBAN"
      },
      "source": [
        "##Check for Null Values\n",
        "isnull().sum()-function calculates  the number of missing values present in each column        \n",
        "len(data)-this function returns the number of rows in each column    \n",
        "In the percent_missing we are calculates the percentage of missing values present in each column."
      ]
    },
    {
      "cell_type": "code",
      "execution_count": 56,
      "metadata": {
        "colab": {
          "base_uri": "https://localhost:8080/"
        },
        "id": "6qze7C0BI6Am",
        "outputId": "845f3437-f231-4903-cf54-b8995d609eb1"
      },
      "outputs": [
        {
          "data": {
            "text/plain": [
              "CASE_STATE                             0.0\n",
              "AGE                                    0.0\n",
              "SEX                                    0.0\n",
              "PERSON_TYPE                            0.0\n",
              "SEATING_POSITION                       0.0\n",
              "RESTRAINT_SYSTEM-USE                   0.0\n",
              "AIR_BAG_AVAILABILITY/DEPLOYMENT        0.0\n",
              "EJECTION                               0.0\n",
              "EJECTION_PATH                          0.0\n",
              "EXTRICATION                            0.0\n",
              "NON_MOTORIST_LOCATION                  0.0\n",
              "POLICE_REPORTED_ALCOHOL_INVOLVEMENT    0.0\n",
              "METHOD_ALCOHOL_DETERMINATION           0.0\n",
              "ALCOHOL_TEST_TYPE                      0.0\n",
              "ALCOHOL_TEST_RESULT                    0.0\n",
              "POLICE-REPORTED_DRUG_INVOLVEMENT       0.0\n",
              "METHOD_OF_DRUG_DETERMINATION           0.0\n",
              "DRUG_TEST_TYPE_(1_of_3)                0.0\n",
              "DRUG_TEST_RESULTS_(1_of_3)             0.0\n",
              "DRUG_TEST_TYPE_(2_of_3)                0.0\n",
              "DRUG_TEST_RESULTS_(2_of_3)             0.0\n",
              "DRUG_TEST_TYPE_(3_of_3)                0.0\n",
              "DRUG_TEST_RESULTS_(3_of_3)             0.0\n",
              "HISPANIC_ORIGIN                        0.0\n",
              "TAKEN_TO_HOSPITAL                      0.0\n",
              "RELATED_FACTOR_(1)-PERSON_LEVEL        0.0\n",
              "RELATED_FACTOR_(2)-PERSON_LEVEL        0.0\n",
              "RELATED_FACTOR_(3)-PERSON_LEVEL        0.0\n",
              "RACE                                   0.0\n",
              "INJURY_SEVERITY                        0.0\n",
              "dtype: float64"
            ]
          },
          "execution_count": 56,
          "metadata": {},
          "output_type": "execute_result"
        }
      ],
      "source": [
        "percent_missing = round(data.isnull().sum()/len(data)*100,2)\n",
        "percent_missing"
      ]
    },
    {
      "cell_type": "markdown",
      "metadata": {
        "id": "ujH8BEY-mGLs"
      },
      "source": [
        "##Check for duplicate values\n",
        "In the below code we are finding the duplicate rows in the dataset."
      ]
    },
    {
      "cell_type": "code",
      "execution_count": 57,
      "metadata": {
        "colab": {
          "base_uri": "https://localhost:8080/"
        },
        "id": "KjdFbvhSI6DD",
        "outputId": "5ab36eee-591d-4695-eafa-ec5746f39abc"
      },
      "outputs": [
        {
          "data": {
            "text/plain": [
              "0         False\n",
              "1         False\n",
              "2         False\n",
              "3         False\n",
              "4         False\n",
              "          ...  \n",
              "100963    False\n",
              "100964    False\n",
              "100965    False\n",
              "100966    False\n",
              "100967    False\n",
              "Length: 100968, dtype: bool"
            ]
          },
          "execution_count": 57,
          "metadata": {},
          "output_type": "execute_result"
        }
      ],
      "source": [
        "data.duplicated()"
      ]
    },
    {
      "cell_type": "markdown",
      "metadata": {
        "id": "4mYcAuhdmKKA"
      },
      "source": [
        "##Remove Duplicate values from the dataset\n",
        "\n",
        "Droping the duplicates values present in the dataset"
      ]
    },
    {
      "cell_type": "code",
      "execution_count": 58,
      "metadata": {
        "id": "n9I3QNhQI6FZ"
      },
      "outputs": [],
      "source": [
        "data.drop_duplicates(inplace=True)"
      ]
    },
    {
      "cell_type": "markdown",
      "metadata": {
        "id": "pPsrbK82mSLS"
      },
      "source": [
        "#Size of dataset after removing null and duplicate\n",
        "\n",
        "After removing the duplicates number of rows are 93004 and columns are 30."
      ]
    },
    {
      "cell_type": "code",
      "execution_count": 59,
      "metadata": {
        "colab": {
          "base_uri": "https://localhost:8080/"
        },
        "id": "cx_FWmj3I6Hc",
        "outputId": "ce5a6271-1c48-4a94-a728-e07fd498781e"
      },
      "outputs": [
        {
          "data": {
            "text/plain": [
              "(93004, 30)"
            ]
          },
          "execution_count": 59,
          "metadata": {},
          "output_type": "execute_result"
        }
      ],
      "source": [
        "data.shape"
      ]
    },
    {
      "cell_type": "markdown",
      "metadata": {
        "id": "jXzgdKW-Yr0r"
      },
      "source": [
        "#Report"
      ]
    },
    {
      "cell_type": "code",
      "execution_count": 60,
      "metadata": {
        "colab": {
          "base_uri": "https://localhost:8080/"
        },
        "id": "Zb3gyLE8Yx3B",
        "outputId": "0886566c-f26f-44ee-f6dd-fc7bc01331a6"
      },
      "outputs": [
        {
          "name": "stdout",
          "output_type": "stream",
          "text": [
            "Requirement already satisfied: sweetviz in /usr/local/lib/python3.10/dist-packages (2.3.1)\n",
            "Requirement already satisfied: pandas!=1.0.0,!=1.0.1,!=1.0.2,>=0.25.3 in /usr/local/lib/python3.10/dist-packages (from sweetviz) (1.5.3)\n",
            "Requirement already satisfied: numpy>=1.16.0 in /usr/local/lib/python3.10/dist-packages (from sweetviz) (1.23.5)\n",
            "Requirement already satisfied: matplotlib>=3.1.3 in /usr/local/lib/python3.10/dist-packages (from sweetviz) (3.7.1)\n",
            "Requirement already satisfied: tqdm>=4.43.0 in /usr/local/lib/python3.10/dist-packages (from sweetviz) (4.66.1)\n",
            "Requirement already satisfied: scipy>=1.3.2 in /usr/local/lib/python3.10/dist-packages (from sweetviz) (1.11.4)\n",
            "Requirement already satisfied: jinja2>=2.11.1 in /usr/local/lib/python3.10/dist-packages (from sweetviz) (3.1.2)\n",
            "Requirement already satisfied: importlib-resources>=1.2.0 in /usr/local/lib/python3.10/dist-packages (from sweetviz) (6.1.1)\n",
            "Requirement already satisfied: MarkupSafe>=2.0 in /usr/local/lib/python3.10/dist-packages (from jinja2>=2.11.1->sweetviz) (2.1.3)\n",
            "Requirement already satisfied: contourpy>=1.0.1 in /usr/local/lib/python3.10/dist-packages (from matplotlib>=3.1.3->sweetviz) (1.2.0)\n",
            "Requirement already satisfied: cycler>=0.10 in /usr/local/lib/python3.10/dist-packages (from matplotlib>=3.1.3->sweetviz) (0.12.1)\n",
            "Requirement already satisfied: fonttools>=4.22.0 in /usr/local/lib/python3.10/dist-packages (from matplotlib>=3.1.3->sweetviz) (4.46.0)\n",
            "Requirement already satisfied: kiwisolver>=1.0.1 in /usr/local/lib/python3.10/dist-packages (from matplotlib>=3.1.3->sweetviz) (1.4.5)\n",
            "Requirement already satisfied: packaging>=20.0 in /usr/local/lib/python3.10/dist-packages (from matplotlib>=3.1.3->sweetviz) (23.2)\n",
            "Requirement already satisfied: pillow>=6.2.0 in /usr/local/lib/python3.10/dist-packages (from matplotlib>=3.1.3->sweetviz) (9.4.0)\n",
            "Requirement already satisfied: pyparsing>=2.3.1 in /usr/local/lib/python3.10/dist-packages (from matplotlib>=3.1.3->sweetviz) (3.1.1)\n",
            "Requirement already satisfied: python-dateutil>=2.7 in /usr/local/lib/python3.10/dist-packages (from matplotlib>=3.1.3->sweetviz) (2.8.2)\n",
            "Requirement already satisfied: pytz>=2020.1 in /usr/local/lib/python3.10/dist-packages (from pandas!=1.0.0,!=1.0.1,!=1.0.2,>=0.25.3->sweetviz) (2023.3.post1)\n",
            "Requirement already satisfied: six>=1.5 in /usr/local/lib/python3.10/dist-packages (from python-dateutil>=2.7->matplotlib>=3.1.3->sweetviz) (1.16.0)\n"
          ]
        }
      ],
      "source": [
        "pip install sweetviz\n"
      ]
    },
    {
      "cell_type": "code",
      "execution_count": 23,
      "metadata": {
        "colab": {
          "base_uri": "https://localhost:8080/",
          "height": 87,
          "referenced_widgets": [
            "e05d4cbfe1f64ef5b9c6333326797c71",
            "38c5a8874c5c497fa4642f190cf74a6c",
            "e3468816cee8413ea901f2165f731737",
            "bee7e8b7bdde46109a67df1078aee5dc",
            "88bc88600c1240f482bbaa813200708a",
            "e4eab231b1d340fe8f95241e62ddb327",
            "90ade250d2204a568cdcecd7b47d25b1",
            "a3cc5cf1c0fd4432bd2a5126d089255f",
            "bbbcc3716a1a48a5adcd767d590a6d82",
            "3be19eb0d107469cbec67981f9387bee",
            "a8ccef4a36424f1cba67e928c03d835f"
          ]
        },
        "id": "MoXKOcKPYyAY",
        "outputId": "5c293f3f-17ae-4f73-c33d-c5c6a3053425"
      },
      "outputs": [
        {
          "data": {
            "application/vnd.jupyter.widget-view+json": {
              "model_id": "e05d4cbfe1f64ef5b9c6333326797c71",
              "version_major": 2,
              "version_minor": 0
            },
            "text/plain": [
              "                                             |          | [  0%]   00:00 -> (? left)"
            ]
          },
          "metadata": {},
          "output_type": "display_data"
        },
        {
          "name": "stdout",
          "output_type": "stream",
          "text": [
            "Report report.html was generated! NOTEBOOK/COLAB USERS: the web browser MAY not pop up, regardless, the report IS saved in your notebook/colab files.\n"
          ]
        }
      ],
      "source": [
        "import sweetviz as sv\n",
        "import pandas as pd\n",
        "report = sv.analyze(data)\n",
        "report.show_html('report.html')"
      ]
    },
    {
      "cell_type": "markdown",
      "metadata": {
        "id": "OmGv5qvGmaXO"
      },
      "source": [
        "#correlation matrix\n"
      ]
    },
    {
      "cell_type": "markdown",
      "metadata": {
        "id": "17W6h4oY4BYi"
      },
      "source": [
        "Through the correlation matrix we are depicting the relation between the columns which has datatype has int64"
      ]
    },
    {
      "cell_type": "code",
      "execution_count": 61,
      "metadata": {
        "colab": {
          "base_uri": "https://localhost:8080/"
        },
        "id": "9Px3P6i0I6KF",
        "outputId": "3507bcfc-39b3-456c-da51-dd893b214931"
      },
      "outputs": [
        {
          "name": "stdout",
          "output_type": "stream",
          "text": [
            "Correlation of 'AGE' with other columns:\n",
            "AGE                           1.000000\n",
            "ALCOHOL_TEST_RESULT          -0.074804\n",
            "DRUG_TEST_RESULTS_(1_of_3)    0.029645\n",
            "DRUG_TEST_RESULTS_(2_of_3)    0.024178\n",
            "DRUG_TEST_RESULTS_(3_of_3)    0.025266\n",
            "Name: AGE, dtype: float64\n",
            "\n",
            "\n",
            "Correlation of 'ALCOHOL_TEST_RESULT' with other columns:\n",
            "AGE                          -0.074804\n",
            "ALCOHOL_TEST_RESULT           1.000000\n",
            "DRUG_TEST_RESULTS_(1_of_3)    0.035061\n",
            "DRUG_TEST_RESULTS_(2_of_3)    0.081114\n",
            "DRUG_TEST_RESULTS_(3_of_3)    0.104216\n",
            "Name: ALCOHOL_TEST_RESULT, dtype: float64\n",
            "\n",
            "\n",
            "Correlation of 'DRUG_TEST_RESULTS_(1_of_3)' with other columns:\n",
            "AGE                           0.029645\n",
            "ALCOHOL_TEST_RESULT           0.035061\n",
            "DRUG_TEST_RESULTS_(1_of_3)    1.000000\n",
            "DRUG_TEST_RESULTS_(2_of_3)    0.618869\n",
            "DRUG_TEST_RESULTS_(3_of_3)    0.612399\n",
            "Name: DRUG_TEST_RESULTS_(1_of_3), dtype: float64\n",
            "\n",
            "\n",
            "Correlation of 'DRUG_TEST_RESULTS_(2_of_3)' with other columns:\n",
            "AGE                           0.024178\n",
            "ALCOHOL_TEST_RESULT           0.081114\n",
            "DRUG_TEST_RESULTS_(1_of_3)    0.618869\n",
            "DRUG_TEST_RESULTS_(2_of_3)    1.000000\n",
            "DRUG_TEST_RESULTS_(3_of_3)    0.969622\n",
            "Name: DRUG_TEST_RESULTS_(2_of_3), dtype: float64\n",
            "\n",
            "\n",
            "Correlation of 'DRUG_TEST_RESULTS_(3_of_3)' with other columns:\n",
            "AGE                           0.025266\n",
            "ALCOHOL_TEST_RESULT           0.104216\n",
            "DRUG_TEST_RESULTS_(1_of_3)    0.612399\n",
            "DRUG_TEST_RESULTS_(2_of_3)    0.969622\n",
            "DRUG_TEST_RESULTS_(3_of_3)    1.000000\n",
            "Name: DRUG_TEST_RESULTS_(3_of_3), dtype: float64\n",
            "\n",
            "\n"
          ]
        },
        {
          "name": "stderr",
          "output_type": "stream",
          "text": [
            "<ipython-input-61-b7a5575f6375>:2: FutureWarning: The default value of numeric_only in DataFrame.corr is deprecated. In a future version, it will default to False. Select only valid columns or specify the value of numeric_only to silence this warning.\n",
            "  correlation_matrix = data.corr()\n"
          ]
        }
      ],
      "source": [
        "correlation_matrix =data\n",
        "correlation_matrix = data.corr()\n",
        "for column in correlation_matrix.columns:\n",
        "    print(f\"Correlation of '{column}' with other columns:\")\n",
        "    print(correlation_matrix[column])\n",
        "    print(\"\\n\")"
      ]
    },
    {
      "cell_type": "markdown",
      "metadata": {
        "id": "JToZhT3MRpP0"
      },
      "source": [
        "#Encoding"
      ]
    },
    {
      "cell_type": "markdown",
      "metadata": {
        "id": "IS9qKuclKIDh"
      },
      "source": [
        "\n",
        "##One Hot Encoding & Label Encoding\n",
        "\n",
        "Machine learning understand numerical data rather than string.\n",
        "In our data set we have combination of numerical as well as strig data.Through one hot encoding we are converting categorical data into the numeric.      \n",
        "Out of 30 columns 24 columns are encoding using one hot encoding.      \n",
        "On the output column we are performing labelencoding.\n",
        "And the rest five columns are in numerical format so there is no need to perform encoding on them.\n",
        "\n",
        "First Label encoding is performed on the injury severity columns.\n",
        "In the next step we have dropped integer columns of the dataframe.\n",
        "Further one hot encoding is performed on the rest 24 columns and resetting the index.    \n",
        "At the last we are concatinating \"df_encoded\" which has the 24 columns on which one hot encoding is performed with \"includecolumn\" which has 5 colums which are of type numerical.\n",
        "So \"df_xyz\" has now 362 columns and further concatinated with \"column_to_drop\" which has the injury severity column."
      ]
    },
    {
      "cell_type": "code",
      "execution_count": 62,
      "metadata": {
        "colab": {
          "base_uri": "https://localhost:8080/"
        },
        "id": "EvNXIUczI6Re",
        "outputId": "3618377e-1664-4f9a-c189-246090407c89"
      },
      "outputs": [
        {
          "name": "stderr",
          "output_type": "stream",
          "text": [
            "/usr/local/lib/python3.10/dist-packages/sklearn/preprocessing/_encoders.py:868: FutureWarning: `sparse` was renamed to `sparse_output` in version 1.2 and will be removed in 1.4. `sparse_output` is ignored unless you leave `sparse` to its default value.\n",
            "  warnings.warn(\n"
          ]
        },
        {
          "data": {
            "text/plain": [
              "(93004, 24)"
            ]
          },
          "execution_count": 62,
          "metadata": {},
          "output_type": "execute_result"
        }
      ],
      "source": [
        "\n",
        "\n",
        "le = LabelEncoder()\n",
        "data['INJURY_SEVERITY']= le.fit_transform(data['INJURY_SEVERITY'])\n",
        "\n",
        "columns_to_drop = ['AGE', 'INJURY_SEVERITY','ALCOHOL_TEST_RESULT','DRUG_TEST_RESULTS_(1_of_3)','DRUG_TEST_RESULTS_(2_of_3)','DRUG_TEST_RESULTS_(3_of_3)']\n",
        "df_temp = data.drop(columns=columns_to_drop)\n",
        "\n",
        "column_to_drop = data['INJURY_SEVERITY']\n",
        "categorical_columns = df_temp.select_dtypes(include=['object']).columns\n",
        "df_subset = df_temp[categorical_columns]\n",
        "\n",
        "encoder = OneHotEncoder(sparse=False)\n",
        "one_hot_encoded = encoder.fit_transform(df_subset)\n",
        "df_encoded = pd.DataFrame(one_hot_encoded, columns=encoder.get_feature_names_out(df_subset.columns))\n",
        "\n",
        "includecolumn=data[['AGE','ALCOHOL_TEST_RESULT','DRUG_TEST_RESULTS_(1_of_3)','DRUG_TEST_RESULTS_(2_of_3)','DRUG_TEST_RESULTS_(3_of_3)']]\n",
        "\n",
        "\n",
        "includecolumn.reset_index(drop=True, inplace=True)\n",
        "df_encoded.reset_index(drop=True, inplace=True)\n",
        "\n",
        "\n",
        "df_xyz = pd.concat([includecolumn,df_encoded], axis=1)\n",
        "\n",
        "df_xyz.reset_index(drop=True, inplace=True)\n",
        "column_to_drop.reset_index(drop=True, inplace=True)\n",
        "\n",
        "\n",
        "df_xyz1 = pd.concat([df_xyz,column_to_drop], axis=1)\n",
        "df_temp.shape\n",
        "\n"
      ]
    },
    {
      "cell_type": "markdown",
      "metadata": {
        "id": "mEmWJG9k8_ll"
      },
      "source": [
        "total number of rows are 93004 and columns are 363 after doing one hot encoding and label encoding"
      ]
    },
    {
      "cell_type": "code",
      "execution_count": 63,
      "metadata": {
        "colab": {
          "base_uri": "https://localhost:8080/"
        },
        "id": "OZDcnJbYI6T8",
        "outputId": "1eb5ff6f-e3a7-426b-96fd-cbc0cc51dc29"
      },
      "outputs": [
        {
          "data": {
            "text/plain": [
              "(93004, 363)"
            ]
          },
          "execution_count": 63,
          "metadata": {},
          "output_type": "execute_result"
        }
      ],
      "source": [
        "df_xyz1.shape"
      ]
    },
    {
      "cell_type": "markdown",
      "metadata": {
        "id": "vBsv4JfhlxPX"
      },
      "source": [
        "For futher processing the data is divided into two sets 'X' and 'Y'.       \n",
        "X which has 29 columns and Y which has Injury Severity column.\n",
        "\n"
      ]
    },
    {
      "cell_type": "code",
      "execution_count": 27,
      "metadata": {
        "id": "NfnvtxmAI6WU"
      },
      "outputs": [],
      "source": [
        "X=df_xyz1.drop(columns=['INJURY_SEVERITY'])\n",
        "Y=df_xyz1['INJURY_SEVERITY']"
      ]
    },
    {
      "cell_type": "markdown",
      "metadata": {
        "id": "-57MwYB-lxb1"
      },
      "source": [
        "nunique method in pandas is used to find out unique values present in the dataset.\n",
        "Y dataset has 8 unique values"
      ]
    },
    {
      "cell_type": "code",
      "execution_count": 28,
      "metadata": {
        "colab": {
          "base_uri": "https://localhost:8080/"
        },
        "id": "UlwuY_OhI6Yy",
        "outputId": "9711776b-1a60-4df5-b330-4809c670f24b"
      },
      "outputs": [
        {
          "data": {
            "text/plain": [
              "8"
            ]
          },
          "execution_count": 28,
          "metadata": {},
          "output_type": "execute_result"
        }
      ],
      "source": [
        "Y.nunique()"
      ]
    },
    {
      "cell_type": "code",
      "execution_count": 29,
      "metadata": {
        "colab": {
          "base_uri": "https://localhost:8080/"
        },
        "id": "s8_SRgbwI6bK",
        "outputId": "cb201b20-9928-4a4f-b021-7e2fbb647c61"
      },
      "outputs": [
        {
          "data": {
            "text/plain": [
              "AGE                                                       99\n",
              "ALCOHOL_TEST_RESULT                                       69\n",
              "DRUG_TEST_RESULTS_(1_of_3)                                95\n",
              "DRUG_TEST_RESULTS_(2_of_3)                                73\n",
              "DRUG_TEST_RESULTS_(3_of_3)                                59\n",
              "                                                          ..\n",
              "RACE_Other_Indian_(Includes_South_and_Central_America)     2\n",
              "RACE_Samoan                                                2\n",
              "RACE_Unknown                                               2\n",
              "RACE_Vietnamese                                            2\n",
              "RACE_White                                                 2\n",
              "Length: 362, dtype: int64"
            ]
          },
          "execution_count": 29,
          "metadata": {},
          "output_type": "execute_result"
        }
      ],
      "source": [
        "X.nunique()"
      ]
    },
    {
      "cell_type": "markdown",
      "metadata": {
        "id": "PYTdMu0plKMZ"
      },
      "source": [
        "#Split dataset into training set and test set\n",
        "####training dataset consist of 80 percentage & testing dataset consist of 20 percentage"
      ]
    },
    {
      "cell_type": "code",
      "execution_count": 64,
      "metadata": {
        "id": "5pn5A4XVI6iB"
      },
      "outputs": [],
      "source": [
        "X_train, X_test, y_train, y_test = train_test_split(X,Y,test_size=0.2, random_state=42)"
      ]
    },
    {
      "cell_type": "code",
      "execution_count": 65,
      "metadata": {
        "colab": {
          "base_uri": "https://localhost:8080/"
        },
        "id": "laoJXOARtXdh",
        "outputId": "b256efb6-8de5-42e9-8576-e4fd291c5faa"
      },
      "outputs": [
        {
          "data": {
            "text/plain": [
              "(93004, 362)"
            ]
          },
          "execution_count": 65,
          "metadata": {},
          "output_type": "execute_result"
        }
      ],
      "source": [
        "X.shape"
      ]
    },
    {
      "cell_type": "markdown",
      "metadata": {
        "id": "HtdzzX2Hoona"
      },
      "source": [
        "#OverSampler"
      ]
    },
    {
      "cell_type": "markdown",
      "metadata": {
        "id": "RjKU5NL2i__r"
      },
      "source": [
        "\n",
        "An oversampler in machine learning refers to a technique used to tackle class imbalance in datasets."
      ]
    },
    {
      "cell_type": "markdown",
      "metadata": {
        "id": "QjPN-0UyVBNB"
      },
      "source": [
        "##RandomOverSampler"
      ]
    },
    {
      "cell_type": "markdown",
      "metadata": {
        "id": "zRyft8EIkZs6"
      },
      "source": [
        "Purpose of using RandomOverSampler is to prevent the machine learning model from being biased towards the majority class and to improve its ability to learn from the minority class.\n",
        "As a input X_train and y_trai are given as input.\n",
        "after oversampling the data is in this two varibales.\n",
        "X_train---->X_random_oversampled\n",
        "y_train---->y_random_oversampled"
      ]
    },
    {
      "cell_type": "code",
      "execution_count": 66,
      "metadata": {
        "colab": {
          "base_uri": "https://localhost:8080/"
        },
        "id": "rQtba0yEI6kf",
        "outputId": "9e8c1e0a-7b68-45b6-967f-7274a60527f3"
      },
      "outputs": [
        {
          "name": "stdout",
          "output_type": "stream",
          "text": [
            "Original dataset shape Counter({1: 41442, 4: 15642, 2: 14230, 5: 12945, 6: 8104, 7: 399, 3: 233, 0: 9})\n",
            "Resampled dataset shape Counter({4: 33224, 1: 33224, 5: 33224, 6: 33224, 2: 33224, 7: 33224, 3: 33224, 0: 33224})\n"
          ]
        }
      ],
      "source": [
        "from imblearn.over_sampling import RandomOverSampler\n",
        "from collections import Counter\n",
        "\n",
        "random_oversampler = RandomOverSampler(random_state=42)\n",
        "\n",
        "x_random_oversampled, y_random_oversampled = random_oversampler.fit_resample(X_train,y_train)\n",
        "\n",
        "print('Original dataset shape', Counter(Y))\n",
        "print('Resampled dataset shape', Counter(y_random_oversampled))"
      ]
    },
    {
      "cell_type": "markdown",
      "metadata": {
        "id": "DpwANqTfot6U"
      },
      "source": [
        "#Data Normalised  "
      ]
    },
    {
      "cell_type": "markdown",
      "metadata": {
        "id": "rKt8TUZYXgl4"
      },
      "source": [
        "Normalization refers to the process of scaling numerical features to a standard range, typically between 0 and 1 or within a specific range. Normalizing data is crucial in machine learning to ensure that features with different scales contribute equally to the analysis and model training.\n",
        "\n",
        "---\n",
        "\n"
      ]
    },
    {
      "cell_type": "markdown",
      "metadata": {
        "id": "I9hTetdEVKZW"
      },
      "source": [
        "##MinMaxScaler"
      ]
    },
    {
      "cell_type": "markdown",
      "metadata": {
        "id": "DzfpQI0lXKGD"
      },
      "source": [
        "After over sampling is donw now data need to be normalised for this we are using MinMax Scaler which transform the features between 0 and 1.          \n",
        "x_random_oversampled & X_test to transform the features as states in the below code."
      ]
    },
    {
      "cell_type": "code",
      "execution_count": 67,
      "metadata": {
        "id": "ZnFp4oFEI6nG"
      },
      "outputs": [],
      "source": [
        "from sklearn.preprocessing import MinMaxScaler\n",
        "\n",
        "scaler = MinMaxScaler()\n",
        "\n",
        "X_train_scaled = scaler.fit_transform(x_random_oversampled)\n",
        "\n",
        "X_test_scaled = scaler.transform(X_test)"
      ]
    },
    {
      "cell_type": "markdown",
      "metadata": {
        "id": "yoG8YwuGKv_k"
      },
      "source": [
        "#Decision Tree\n",
        "\n",
        "#####Decision tree in machine learning is a supervised learning algorithm used for both classification and regression tasks.It has tree like strcture.Tree-like model where each internal node represents a decision based on a feature"
      ]
    },
    {
      "cell_type": "markdown",
      "metadata": {
        "id": "Wfla_bWVTPOY"
      },
      "source": [
        "##Decision tree with hyperparameter\n",
        "\n",
        "min_samples_split->minimum number of samples required to split an internal node.parametersare(1,2,4)\n",
        "min_samples_leaf->minimum number of samples required to be at a leaf node. Nodes that would create leaf nodes containing fewer samples.parameters are(2,5,10)\n",
        "max_depth->maximum depth that the tree can grow to during the learning process.parameters are(None,5,10,15)"
      ]
    },
    {
      "cell_type": "code",
      "execution_count": 22,
      "metadata": {
        "colab": {
          "base_uri": "https://localhost:8080/"
        },
        "id": "kEjqcbUFI6sU",
        "outputId": "bd155d6e-2c70-414c-9645-e2b8fa560f3d"
      },
      "outputs": [
        {
          "name": "stdout",
          "output_type": "stream",
          "text": [
            "Fitting 3 folds for each of 36 candidates, totalling 108 fits\n",
            "Best Hyperparameters: {'max_depth': None, 'min_samples_leaf': 1, 'min_samples_split': 2}\n",
            "              precision    recall  f1-score   support\n",
            "\n",
            "           0       0.00      0.00      0.00         4\n",
            "           1       1.00      1.00      1.00      8218\n",
            "           2       0.50      0.51      0.50      2881\n",
            "           3       0.27      0.33      0.30        39\n",
            "           4       0.83      0.80      0.81      3108\n",
            "           5       0.37      0.36      0.36      2615\n",
            "           6       0.23      0.24      0.23      1650\n",
            "           7       0.40      0.45      0.42        86\n",
            "\n",
            "    accuracy                           0.73     18601\n",
            "   macro avg       0.45      0.46      0.45     18601\n",
            "weighted avg       0.73      0.73      0.73     18601\n",
            "\n"
          ]
        },
        {
          "name": "stderr",
          "output_type": "stream",
          "text": [
            "/usr/local/lib/python3.10/dist-packages/sklearn/metrics/_classification.py:1344: UndefinedMetricWarning: Precision and F-score are ill-defined and being set to 0.0 in labels with no predicted samples. Use `zero_division` parameter to control this behavior.\n",
            "  _warn_prf(average, modifier, msg_start, len(result))\n",
            "/usr/local/lib/python3.10/dist-packages/sklearn/metrics/_classification.py:1344: UndefinedMetricWarning: Precision and F-score are ill-defined and being set to 0.0 in labels with no predicted samples. Use `zero_division` parameter to control this behavior.\n",
            "  _warn_prf(average, modifier, msg_start, len(result))\n",
            "/usr/local/lib/python3.10/dist-packages/sklearn/metrics/_classification.py:1344: UndefinedMetricWarning: Precision and F-score are ill-defined and being set to 0.0 in labels with no predicted samples. Use `zero_division` parameter to control this behavior.\n",
            "  _warn_prf(average, modifier, msg_start, len(result))\n"
          ]
        }
      ],
      "source": [
        "\n",
        "\n",
        "param_grid = {\n",
        "    'max_depth': [None, 5, 10, 15],\n",
        "    'min_samples_split': [2, 5, 10],\n",
        "    'min_samples_leaf': [1, 2, 4]\n",
        "}\n",
        "\n",
        "dt_classifier = DecisionTreeClassifier(random_state=42)\n",
        "\n",
        "grid_search = GridSearchCV(estimator=dt_classifier, param_grid=param_grid, cv=3, scoring='accuracy', verbose=1)\n",
        "\n",
        "grid_search.fit(X_train_scaled, y_random_oversampled)\n",
        "\n",
        "best_params = grid_search.best_params_\n",
        "print(\"Best Hyperparameters:\", best_params)\n",
        "\n",
        "best_dt = DecisionTreeClassifier(random_state=42, **best_params)\n",
        "best_dt.fit(X_train_scaled, y_random_oversampled)\n",
        "\n",
        "predictions = best_dt.predict(X_test_scaled)\n",
        "\n",
        "print(classification_report(y_test,predictions))"
      ]
    },
    {
      "cell_type": "markdown",
      "metadata": {
        "id": "M4VcqF9RK5Ho"
      },
      "source": [
        "##Decision Tree without Hyperparameter"
      ]
    },
    {
      "cell_type": "code",
      "execution_count": 68,
      "metadata": {
        "colab": {
          "base_uri": "https://localhost:8080/"
        },
        "id": "oVZX6p0yI6uz",
        "outputId": "9954de03-1874-453a-e3b1-cadffebfa54c"
      },
      "outputs": [
        {
          "name": "stdout",
          "output_type": "stream",
          "text": [
            "              precision    recall  f1-score   support\n",
            "\n",
            "           0       0.00      0.00      0.00         4\n",
            "           1       1.00      1.00      1.00      8218\n",
            "           2       0.50      0.51      0.50      2881\n",
            "           3       0.27      0.33      0.30        39\n",
            "           4       0.83      0.80      0.81      3108\n",
            "           5       0.37      0.36      0.36      2615\n",
            "           6       0.23      0.24      0.23      1650\n",
            "           7       0.40      0.45      0.42        86\n",
            "\n",
            "    accuracy                           0.73     18601\n",
            "   macro avg       0.45      0.46      0.45     18601\n",
            "weighted avg       0.73      0.73      0.73     18601\n",
            "\n"
          ]
        },
        {
          "name": "stderr",
          "output_type": "stream",
          "text": [
            "/usr/local/lib/python3.10/dist-packages/sklearn/metrics/_classification.py:1344: UndefinedMetricWarning: Precision and F-score are ill-defined and being set to 0.0 in labels with no predicted samples. Use `zero_division` parameter to control this behavior.\n",
            "  _warn_prf(average, modifier, msg_start, len(result))\n",
            "/usr/local/lib/python3.10/dist-packages/sklearn/metrics/_classification.py:1344: UndefinedMetricWarning: Precision and F-score are ill-defined and being set to 0.0 in labels with no predicted samples. Use `zero_division` parameter to control this behavior.\n",
            "  _warn_prf(average, modifier, msg_start, len(result))\n",
            "/usr/local/lib/python3.10/dist-packages/sklearn/metrics/_classification.py:1344: UndefinedMetricWarning: Precision and F-score are ill-defined and being set to 0.0 in labels with no predicted samples. Use `zero_division` parameter to control this behavior.\n",
            "  _warn_prf(average, modifier, msg_start, len(result))\n"
          ]
        }
      ],
      "source": [
        "decision_tree = DecisionTreeClassifier(random_state=42)\n",
        "\n",
        "decision_tree.fit(X_train_scaled, y_random_oversampled)\n",
        "\n",
        "y_pred = decision_tree.predict(X_test_scaled)\n",
        "\n",
        "print(classification_report(y_test, y_pred))"
      ]
    },
    {
      "cell_type": "markdown",
      "metadata": {
        "id": "hECA86ftLD2t"
      },
      "source": [
        "#Random Forest"
      ]
    },
    {
      "cell_type": "markdown",
      "metadata": {
        "id": "KmToTNsny3rm"
      },
      "source": [
        "RandomForest model is a machine learnig model which is used both for classification and regression.It outpouts the mean prediction (for regression) or the mode prediction (for classification)."
      ]
    },
    {
      "cell_type": "markdown",
      "metadata": {
        "id": "fnnitGBuTd_9"
      },
      "source": [
        "##RandomForest with hyperparameter"
      ]
    },
    {
      "cell_type": "markdown",
      "metadata": {
        "id": "Hn_gPLRozj7v"
      },
      "source": [
        "Hyperparameter Tunning is finding the best hyper parameter to improve the models performance.The hyperparameter used are           \n",
        "n_estimators-> which determines the  number of decision tree that will be used in the forest\n",
        "max_depth->controlling the complexity of the tree and preventing overfitting.\n",
        "min_samples_split->minimum number of samples required to split an internal node during the construction of individual decision trees within the forest hyperparameters are\n",
        "n_estimators->100, 200, 300\n",
        "max_depth : 5, 10, 15\n",
        "min_samples_split: 2, 5, 10"
      ]
    },
    {
      "cell_type": "code",
      "execution_count": null,
      "metadata": {
        "id": "T_d7BgKkI6xa"
      },
      "outputs": [],
      "source": [
        "\n",
        "\n",
        "param_grid = {\n",
        "    'n_estimators': [100, 200, 300],\n",
        "    'max_depth': [5, 10, 15],\n",
        "    'min_samples_split': [2, 5, 10]\n",
        "\n",
        "}\n",
        "rf = RandomForestClassifier()\n",
        "\n",
        "grid_search = GridSearchCV(estimator=rf, param_grid=param_grid, cv=5, scoring='accuracy', verbose=2, n_jobs=-1)\n",
        "grid_search.fit(X_train_scaled, y_random_oversampled)\n",
        "\n",
        "best_params = grid_search.best_params_\n",
        "best_model = grid_search.best_estimator_\n",
        "\n",
        "accuracy = best_model.score(X_test_scaled, y_test)\n",
        "print(f\"Accuracy: {accuracy}\")\n"
      ]
    },
    {
      "cell_type": "markdown",
      "metadata": {
        "id": "eFmPdQPTTc5L"
      },
      "source": []
    },
    {
      "cell_type": "markdown",
      "metadata": {
        "id": "b2KQo-8JLKfO"
      },
      "source": [
        "##Random Forest without Hyperparameter\n"
      ]
    },
    {
      "cell_type": "code",
      "execution_count": 37,
      "metadata": {
        "colab": {
          "base_uri": "https://localhost:8080/"
        },
        "id": "8MUqln2lI60B",
        "outputId": "218814f7-dc85-4069-9a2f-422d81c759a8"
      },
      "outputs": [
        {
          "name": "stderr",
          "output_type": "stream",
          "text": [
            "/usr/local/lib/python3.10/dist-packages/sklearn/base.py:432: UserWarning: X has feature names, but RandomForestClassifier was fitted without feature names\n",
            "  warnings.warn(\n"
          ]
        },
        {
          "name": "stdout",
          "output_type": "stream",
          "text": [
            "Confusion Matrix:\n",
            "[[   0    0    0    0    3    1    0    0]\n",
            " [   0 8214    0    0    0    0    0    4]\n",
            " [   0    0 1800   14    1  785  278    3]\n",
            " [   0    0    8   15    1   10    5    0]\n",
            " [  11    0    5    0 2830   32  175   55]\n",
            " [   0    0 1135   13  119  964  363   21]\n",
            " [   0    0  406    8  429  422  374   11]\n",
            " [   0    1    3    0   35    4    4   39]]\n",
            "\n",
            "              precision    recall  f1-score   support\n",
            "\n",
            "           0       0.00      0.00      0.00         4\n",
            "           1       1.00      1.00      1.00      8218\n",
            "           2       0.50      0.51      0.50      2881\n",
            "           3       0.27      0.33      0.30        39\n",
            "           4       0.83      0.80      0.81      3108\n",
            "           5       0.37      0.36      0.36      2615\n",
            "           6       0.23      0.24      0.23      1650\n",
            "           7       0.40      0.45      0.42        86\n",
            "\n",
            "    accuracy                           0.73     18601\n",
            "   macro avg       0.45      0.46      0.45     18601\n",
            "weighted avg       0.73      0.73      0.73     18601\n",
            "\n"
          ]
        },
        {
          "name": "stderr",
          "output_type": "stream",
          "text": [
            "/usr/local/lib/python3.10/dist-packages/sklearn/metrics/_classification.py:1344: UndefinedMetricWarning: Precision and F-score are ill-defined and being set to 0.0 in labels with no predicted samples. Use `zero_division` parameter to control this behavior.\n",
            "  _warn_prf(average, modifier, msg_start, len(result))\n",
            "/usr/local/lib/python3.10/dist-packages/sklearn/metrics/_classification.py:1344: UndefinedMetricWarning: Precision and F-score are ill-defined and being set to 0.0 in labels with no predicted samples. Use `zero_division` parameter to control this behavior.\n",
            "  _warn_prf(average, modifier, msg_start, len(result))\n",
            "/usr/local/lib/python3.10/dist-packages/sklearn/metrics/_classification.py:1344: UndefinedMetricWarning: Precision and F-score are ill-defined and being set to 0.0 in labels with no predicted samples. Use `zero_division` parameter to control this behavior.\n",
            "  _warn_prf(average, modifier, msg_start, len(result))\n"
          ]
        }
      ],
      "source": [
        "from sklearn.ensemble import RandomForestClassifier\n",
        "from sklearn.datasets import make_classification\n",
        "from sklearn.model_selection import train_test_split\n",
        "from sklearn.metrics import confusion_matrix, classification_report\n",
        "\n",
        "rf_classifier = RandomForestClassifier(random_state=42)\n",
        "\n",
        "rf_classifier.fit(X_train_scaled, y_random_oversampled)\n",
        "\n",
        "\n",
        "predictions = rf_classifier.predict(X_test)\n",
        "\n",
        "conf_matrix = confusion_matrix(y_test, predictions)\n",
        "print(\"Confusion Matrix:\")\n",
        "print(conf_matrix)\n",
        "\n",
        "\n",
        "print(                                        )\n",
        "print(classification_report(y_test, y_pred))\n"
      ]
    },
    {
      "cell_type": "markdown",
      "metadata": {
        "id": "EI2IsdceYPEt"
      },
      "source": [
        "#Support Vector Machine\n",
        "\n",
        "Support Vector Machine (SVM) is a powerful supervised machine learning algorithm used for both classification and regression tasks,mostly used for classification.SVM helps in drawing a decision boundary between data points belonging to different categories by finding the best possible"
      ]
    },
    {
      "cell_type": "markdown",
      "metadata": {
        "id": "aIB8gohFToxX"
      },
      "source": [
        "##Without hyperparameters"
      ]
    },
    {
      "cell_type": "code",
      "execution_count": null,
      "metadata": {
        "id": "jpofk8moYRfx"
      },
      "outputs": [],
      "source": [
        "from sklearn.svm import SVC\n",
        "from sklearn.model_selection import train_test_split\n",
        "from sklearn.metrics import accuracy_score, classification_report\n",
        "\n",
        "svm_classifier = SVC(kernel='rbf', random_state=42)\n",
        "\n",
        "svm_classifier.fit(X_train_scaled, y_random_oversampled)\n",
        "\n",
        "predictions = svm_classifier.predict(X_test_scaled)\n",
        "\n",
        "print(\"Classification Report:\")\n",
        "print(classification_report(y_test, predictions))\n"
      ]
    },
    {
      "cell_type": "markdown",
      "metadata": {
        "id": "GdLYDOqvcrmG"
      },
      "source": [
        "##With Hyperparameter\n",
        "C->controls the trade-off between maximizing the margin and minimizing the classification error.\n",
        "kernel->sed to map data into a higher-dimensional space\n",
        "gamma->influences the reach of the kernel and the impact of a single training\n",
        "degree->degree of the polynomial kernel function\n",
        "hyperparameters are\n",
        "C: 0.1, 1, 10, 100\n",
        "kernel:linear,rbf,poly\n",
        "gamma:scale,auto\n",
        "degree: 2, 3, 4, 5"
      ]
    },
    {
      "cell_type": "code",
      "execution_count": null,
      "metadata": {
        "id": "kBtT85bjcw1m"
      },
      "outputs": [],
      "source": [
        "\n",
        "\n",
        "\n",
        "svm_classifier = SVC()\n",
        "\n",
        "param_grid = {\n",
        "    'C': [0.1, 1, 10, 100],\n",
        "    'kernel': ['linear', 'rbf', 'poly'],\n",
        "    'gamma': ['scale', 'auto'],\n",
        "    'degree': [2, 3, 4, 5]\n",
        "}\n",
        "\n",
        "grid_search = GridSearchCV(svm_classifier, param_grid, cv=5)\n",
        "grid_search.fit(X_train, y_train)\n",
        "\n",
        "best_params = grid_search.best_params_\n",
        "best_score = grid_search.best_score_\n",
        "\n",
        "print(\"Best Parameters:\", best_params)\n",
        "print(\"Best Score:\", best_score)\n",
        "\n",
        "best_svm = grid_search.best_estimator_\n",
        "test_score = best_svm.score(X_test, y_test)\n",
        "print(\"Test Set Score with Best Parameters:\", test_score)\n"
      ]
    },
    {
      "cell_type": "markdown",
      "metadata": {
        "id": "SfkT7OdwXVTI"
      },
      "source": [
        "#Cross Validation\n",
        "\n",
        "Cross-validation is a technique used in machine learning to assess how well a trained model generalizes to new\n",
        "Cross-validation divides the input data in sets and then train the model to find out the best possible accuracy.\n",
        "CV='5' specifies number of folds to be perofrmed"
      ]
    },
    {
      "cell_type": "markdown",
      "metadata": {
        "id": "98Ip4JwfBcze"
      },
      "source": [
        "##Support Vector Machine"
      ]
    },
    {
      "cell_type": "code",
      "execution_count": 69,
      "metadata": {
        "colab": {
          "base_uri": "https://localhost:8080/"
        },
        "id": "fVrFwuIoZiok",
        "outputId": "72ae0359-0a15-4764-8fff-77f60d399024"
      },
      "outputs": [
        {
          "name": "stdout",
          "output_type": "stream",
          "text": [
            "Cross-Validation Scores: [0.63727757 0.71936993 0.695554   0.63362185 0.72150538]\n",
            "Average Cross-Validation Score: 0.6814657438350233\n"
          ]
        }
      ],
      "source": [
        "from sklearn.tree import DecisionTreeClassifier\n",
        "from sklearn.model_selection import cross_val_score\n",
        "\n",
        "dt_classifier = DecisionTreeClassifier(random_state=42)\n",
        "\n",
        "scores = cross_val_score(dt_classifier, X, Y, cv=5)\n",
        "\n",
        "print(\"Cross-Validation Scores:\", scores)\n",
        "print(\"Average Cross-Validation Score:\", scores.mean())"
      ]
    },
    {
      "cell_type": "markdown",
      "metadata": {
        "id": "yNbGYAnzXb2V"
      },
      "source": [
        "##Random Forest"
      ]
    },
    {
      "cell_type": "code",
      "execution_count": null,
      "metadata": {
        "colab": {
          "base_uri": "https://localhost:8080/"
        },
        "id": "Swp7e4HSI7C1",
        "outputId": "dc7831be-59f8-4f4f-8e8c-01d2939e791d"
      },
      "outputs": [
        {
          "name": "stdout",
          "output_type": "stream",
          "text": [
            "Cross-Validation Scores: [0.73302511 0.7421644  0.74813182 0.77431321 0.75870968]\n",
            "Average Cross-Validation Score: 0.7512688426394003\n"
          ]
        }
      ],
      "source": [
        "from sklearn.model_selection import cross_val_score\n",
        "\n",
        "rf_classifier = RandomForestClassifier(n_estimators=100, random_state=42)\n",
        "\n",
        "\n",
        "scores = cross_val_score(rf_classifier, X, Y, cv=5)\n",
        "\n",
        "\n",
        "print(\"Cross-Validation Scores:\", scores)\n",
        "print(\"Average Cross-Validation Score:\", scores.mean())"
      ]
    },
    {
      "cell_type": "markdown",
      "metadata": {
        "id": "2e51Bm0wpHiy"
      },
      "source": [
        "##Decision Tree"
      ]
    },
    {
      "cell_type": "code",
      "execution_count": null,
      "metadata": {
        "colab": {
          "base_uri": "https://localhost:8080/"
        },
        "id": "WoWCt55zI7Fc",
        "outputId": "6839a171-a394-4316-9874-952799428c95"
      },
      "outputs": [
        {
          "name": "stdout",
          "output_type": "stream",
          "text": [
            "Cross-Validation Scores: [0.9  0.85 0.83 0.86 0.87]\n",
            "Average Cross-Validation Score: 0.8619999999999999\n"
          ]
        }
      ],
      "source": [
        "from sklearn.model_selection import cross_val_score\n",
        "\n",
        "dt_classifier = DecisionTreeClassifier(random_state=42)\n",
        "\n",
        "scores = cross_val_score(dt_classifier, X, y, cv=5)\n",
        "\n",
        "\n",
        "print(\"Cross-Validation Scores:\", scores)\n",
        "print(\"Average Cross-Validation Score:\", scores.mean())"
      ]
    },
    {
      "cell_type": "markdown",
      "metadata": {
        "id": "SqGzOTjYUYll"
      },
      "source": [
        "#Conclusion\n",
        "\n"
      ]
    }
  ],
  "metadata": {
    "accelerator": "GPU",
    "colab": {
      "gpuType": "T4",
      "provenance": []
    },
    "kernelspec": {
      "display_name": "Python 3",
      "name": "python3"
    },
    "language_info": {
      "name": "python"
    },
    "widgets": {
      "application/vnd.jupyter.widget-state+json": {
        "38c5a8874c5c497fa4642f190cf74a6c": {
          "model_module": "@jupyter-widgets/controls",
          "model_module_version": "1.5.0",
          "model_name": "HTMLModel",
          "state": {
            "_dom_classes": [],
            "_model_module": "@jupyter-widgets/controls",
            "_model_module_version": "1.5.0",
            "_model_name": "HTMLModel",
            "_view_count": null,
            "_view_module": "@jupyter-widgets/controls",
            "_view_module_version": "1.5.0",
            "_view_name": "HTMLView",
            "description": "",
            "description_tooltip": null,
            "layout": "IPY_MODEL_e4eab231b1d340fe8f95241e62ddb327",
            "placeholder": "​",
            "style": "IPY_MODEL_90ade250d2204a568cdcecd7b47d25b1",
            "value": "Done! Use &#x27;show&#x27; commands to display/save.   "
          }
        },
        "3be19eb0d107469cbec67981f9387bee": {
          "model_module": "@jupyter-widgets/base",
          "model_module_version": "1.2.0",
          "model_name": "LayoutModel",
          "state": {
            "_model_module": "@jupyter-widgets/base",
            "_model_module_version": "1.2.0",
            "_model_name": "LayoutModel",
            "_view_count": null,
            "_view_module": "@jupyter-widgets/base",
            "_view_module_version": "1.2.0",
            "_view_name": "LayoutView",
            "align_content": null,
            "align_items": null,
            "align_self": null,
            "border": null,
            "bottom": null,
            "display": null,
            "flex": null,
            "flex_flow": null,
            "grid_area": null,
            "grid_auto_columns": null,
            "grid_auto_flow": null,
            "grid_auto_rows": null,
            "grid_column": null,
            "grid_gap": null,
            "grid_row": null,
            "grid_template_areas": null,
            "grid_template_columns": null,
            "grid_template_rows": null,
            "height": null,
            "justify_content": null,
            "justify_items": null,
            "left": null,
            "margin": null,
            "max_height": null,
            "max_width": null,
            "min_height": null,
            "min_width": null,
            "object_fit": null,
            "object_position": null,
            "order": null,
            "overflow": null,
            "overflow_x": null,
            "overflow_y": null,
            "padding": null,
            "right": null,
            "top": null,
            "visibility": null,
            "width": null
          }
        },
        "88bc88600c1240f482bbaa813200708a": {
          "model_module": "@jupyter-widgets/base",
          "model_module_version": "1.2.0",
          "model_name": "LayoutModel",
          "state": {
            "_model_module": "@jupyter-widgets/base",
            "_model_module_version": "1.2.0",
            "_model_name": "LayoutModel",
            "_view_count": null,
            "_view_module": "@jupyter-widgets/base",
            "_view_module_version": "1.2.0",
            "_view_name": "LayoutView",
            "align_content": null,
            "align_items": null,
            "align_self": null,
            "border": null,
            "bottom": null,
            "display": "inline-flex",
            "flex": null,
            "flex_flow": "row wrap",
            "grid_area": null,
            "grid_auto_columns": null,
            "grid_auto_flow": null,
            "grid_auto_rows": null,
            "grid_column": null,
            "grid_gap": null,
            "grid_row": null,
            "grid_template_areas": null,
            "grid_template_columns": null,
            "grid_template_rows": null,
            "height": null,
            "justify_content": null,
            "justify_items": null,
            "left": null,
            "margin": null,
            "max_height": null,
            "max_width": null,
            "min_height": null,
            "min_width": null,
            "object_fit": null,
            "object_position": null,
            "order": null,
            "overflow": null,
            "overflow_x": null,
            "overflow_y": null,
            "padding": null,
            "right": null,
            "top": null,
            "visibility": null,
            "width": "100%"
          }
        },
        "90ade250d2204a568cdcecd7b47d25b1": {
          "model_module": "@jupyter-widgets/controls",
          "model_module_version": "1.5.0",
          "model_name": "DescriptionStyleModel",
          "state": {
            "_model_module": "@jupyter-widgets/controls",
            "_model_module_version": "1.5.0",
            "_model_name": "DescriptionStyleModel",
            "_view_count": null,
            "_view_module": "@jupyter-widgets/base",
            "_view_module_version": "1.2.0",
            "_view_name": "StyleView",
            "description_width": ""
          }
        },
        "a3cc5cf1c0fd4432bd2a5126d089255f": {
          "model_module": "@jupyter-widgets/base",
          "model_module_version": "1.2.0",
          "model_name": "LayoutModel",
          "state": {
            "_model_module": "@jupyter-widgets/base",
            "_model_module_version": "1.2.0",
            "_model_name": "LayoutModel",
            "_view_count": null,
            "_view_module": "@jupyter-widgets/base",
            "_view_module_version": "1.2.0",
            "_view_name": "LayoutView",
            "align_content": null,
            "align_items": null,
            "align_self": null,
            "border": null,
            "bottom": null,
            "display": null,
            "flex": "2",
            "flex_flow": null,
            "grid_area": null,
            "grid_auto_columns": null,
            "grid_auto_flow": null,
            "grid_auto_rows": null,
            "grid_column": null,
            "grid_gap": null,
            "grid_row": null,
            "grid_template_areas": null,
            "grid_template_columns": null,
            "grid_template_rows": null,
            "height": null,
            "justify_content": null,
            "justify_items": null,
            "left": null,
            "margin": null,
            "max_height": null,
            "max_width": null,
            "min_height": null,
            "min_width": null,
            "object_fit": null,
            "object_position": null,
            "order": null,
            "overflow": null,
            "overflow_x": null,
            "overflow_y": null,
            "padding": null,
            "right": null,
            "top": null,
            "visibility": null,
            "width": null
          }
        },
        "a8ccef4a36424f1cba67e928c03d835f": {
          "model_module": "@jupyter-widgets/controls",
          "model_module_version": "1.5.0",
          "model_name": "DescriptionStyleModel",
          "state": {
            "_model_module": "@jupyter-widgets/controls",
            "_model_module_version": "1.5.0",
            "_model_name": "DescriptionStyleModel",
            "_view_count": null,
            "_view_module": "@jupyter-widgets/base",
            "_view_module_version": "1.2.0",
            "_view_name": "StyleView",
            "description_width": ""
          }
        },
        "bbbcc3716a1a48a5adcd767d590a6d82": {
          "model_module": "@jupyter-widgets/controls",
          "model_module_version": "1.5.0",
          "model_name": "ProgressStyleModel",
          "state": {
            "_model_module": "@jupyter-widgets/controls",
            "_model_module_version": "1.5.0",
            "_model_name": "ProgressStyleModel",
            "_view_count": null,
            "_view_module": "@jupyter-widgets/base",
            "_view_module_version": "1.2.0",
            "_view_name": "StyleView",
            "bar_color": null,
            "description_width": ""
          }
        },
        "bee7e8b7bdde46109a67df1078aee5dc": {
          "model_module": "@jupyter-widgets/controls",
          "model_module_version": "1.5.0",
          "model_name": "HTMLModel",
          "state": {
            "_dom_classes": [],
            "_model_module": "@jupyter-widgets/controls",
            "_model_module_version": "1.5.0",
            "_model_name": "HTMLModel",
            "_view_count": null,
            "_view_module": "@jupyter-widgets/controls",
            "_view_module_version": "1.5.0",
            "_view_name": "HTMLView",
            "description": "",
            "description_tooltip": null,
            "layout": "IPY_MODEL_3be19eb0d107469cbec67981f9387bee",
            "placeholder": "​",
            "style": "IPY_MODEL_a8ccef4a36424f1cba67e928c03d835f",
            "value": " [100%]   00:01 -&gt; (00:00 left)"
          }
        },
        "e05d4cbfe1f64ef5b9c6333326797c71": {
          "model_module": "@jupyter-widgets/controls",
          "model_module_version": "1.5.0",
          "model_name": "HBoxModel",
          "state": {
            "_dom_classes": [],
            "_model_module": "@jupyter-widgets/controls",
            "_model_module_version": "1.5.0",
            "_model_name": "HBoxModel",
            "_view_count": null,
            "_view_module": "@jupyter-widgets/controls",
            "_view_module_version": "1.5.0",
            "_view_name": "HBoxView",
            "box_style": "",
            "children": [
              "IPY_MODEL_38c5a8874c5c497fa4642f190cf74a6c",
              "IPY_MODEL_e3468816cee8413ea901f2165f731737",
              "IPY_MODEL_bee7e8b7bdde46109a67df1078aee5dc"
            ],
            "layout": "IPY_MODEL_88bc88600c1240f482bbaa813200708a"
          }
        },
        "e3468816cee8413ea901f2165f731737": {
          "model_module": "@jupyter-widgets/controls",
          "model_module_version": "1.5.0",
          "model_name": "FloatProgressModel",
          "state": {
            "_dom_classes": [],
            "_model_module": "@jupyter-widgets/controls",
            "_model_module_version": "1.5.0",
            "_model_name": "FloatProgressModel",
            "_view_count": null,
            "_view_module": "@jupyter-widgets/controls",
            "_view_module_version": "1.5.0",
            "_view_name": "ProgressView",
            "bar_style": "success",
            "description": "",
            "description_tooltip": null,
            "layout": "IPY_MODEL_a3cc5cf1c0fd4432bd2a5126d089255f",
            "max": 1,
            "min": 0,
            "orientation": "horizontal",
            "style": "IPY_MODEL_bbbcc3716a1a48a5adcd767d590a6d82",
            "value": 1
          }
        },
        "e4eab231b1d340fe8f95241e62ddb327": {
          "model_module": "@jupyter-widgets/base",
          "model_module_version": "1.2.0",
          "model_name": "LayoutModel",
          "state": {
            "_model_module": "@jupyter-widgets/base",
            "_model_module_version": "1.2.0",
            "_model_name": "LayoutModel",
            "_view_count": null,
            "_view_module": "@jupyter-widgets/base",
            "_view_module_version": "1.2.0",
            "_view_name": "LayoutView",
            "align_content": null,
            "align_items": null,
            "align_self": null,
            "border": null,
            "bottom": null,
            "display": null,
            "flex": null,
            "flex_flow": null,
            "grid_area": null,
            "grid_auto_columns": null,
            "grid_auto_flow": null,
            "grid_auto_rows": null,
            "grid_column": null,
            "grid_gap": null,
            "grid_row": null,
            "grid_template_areas": null,
            "grid_template_columns": null,
            "grid_template_rows": null,
            "height": null,
            "justify_content": null,
            "justify_items": null,
            "left": null,
            "margin": null,
            "max_height": null,
            "max_width": null,
            "min_height": null,
            "min_width": null,
            "object_fit": null,
            "object_position": null,
            "order": null,
            "overflow": null,
            "overflow_x": null,
            "overflow_y": null,
            "padding": null,
            "right": null,
            "top": null,
            "visibility": null,
            "width": null
          }
        }
      }
    }
  },
  "nbformat": 4,
  "nbformat_minor": 0
}
